{
 "cells": [
  {
   "cell_type": "markdown",
   "metadata": {},
   "source": [
    "# Education as a Happiness predictor"
   ]
  },
  {
   "cell_type": "markdown",
   "metadata": {
    "slideshow": {
     "slide_type": "slide"
    }
   },
   "source": [
    "## 1.Data preparation and cleaning"
   ]
  },
  {
   "cell_type": "markdown",
   "metadata": {},
   "source": [
    "### 1.1 Import Utilities Library\n",
    "\n",
    "##### Click \"Run long executions\" for dataset file prepararion and model training\n",
    "##### Click \"Don't show plots\" for disabling graphics\n",
    "##### Click \"Delete offline plots\" for deleting all offline plots"
   ]
  },
  {
   "cell_type": "code",
   "execution_count": 1,
   "metadata": {
    "collapsed": false
   },
   "outputs": [],
   "source": [
    "%matplotlib inline\n",
    "from utilities import *"
   ]
  },
  {
   "cell_type": "markdown",
   "metadata": {},
   "source": [
    "### 1.2 Obtaining the Dataset file"
   ]
  },
  {
   "cell_type": "code",
   "execution_count": 2,
   "metadata": {
    "collapsed": false
   },
   "outputs": [],
   "source": [
    "if not button_exec.value:\n",
    "    DataPreparation.obtainDataFromLocalDBs()"
   ]
  },
  {
   "cell_type": "markdown",
   "metadata": {},
   "source": [
    "### 1.3 Loading the Dataset file"
   ]
  },
  {
   "cell_type": "code",
   "execution_count": 3,
   "metadata": {
    "collapsed": false
   },
   "outputs": [
    {
     "data": {
      "text/html": [
       "<div>\n",
       "<table border=\"1\" class=\"dataframe\">\n",
       "  <thead>\n",
       "    <tr style=\"text-align: right;\">\n",
       "      <th></th>\n",
       "      <th>country</th>\n",
       "      <th>year</th>\n",
       "      <th>Adjusted net enrolment rate, lower secondary, both sexes (%)</th>\n",
       "      <th>Adjusted net enrolment rate, lower secondary, female (%)</th>\n",
       "      <th>Adjusted net enrolment rate, lower secondary, gender parity index (GPI)</th>\n",
       "      <th>Adjusted net enrolment rate, lower secondary, male (%)</th>\n",
       "      <th>Adjusted net enrolment rate, primary, both sexes (%)</th>\n",
       "      <th>Adjusted net enrolment rate, primary, female (%)</th>\n",
       "      <th>Adjusted net enrolment rate, primary, gender parity index (GPI)</th>\n",
       "      <th>Adjusted net enrolment rate, primary, male (%)</th>\n",
       "      <th>...</th>\n",
       "      <th>Wittgenstein Projection: Population in thousands by highest level of educational attainment. Upper Secondary. Total</th>\n",
       "      <th>Youth illiterate population, 15-24 years, % female</th>\n",
       "      <th>Youth illiterate population, 15-24 years, both sexes (number)</th>\n",
       "      <th>Youth illiterate population, 15-24 years, female (number)</th>\n",
       "      <th>Youth illiterate population, 15-24 years, male (number)</th>\n",
       "      <th>Youth literacy rate, population 15-24 years, both sexes (%)</th>\n",
       "      <th>Youth literacy rate, population 15-24 years, female (%)</th>\n",
       "      <th>Youth literacy rate, population 15-24 years, gender parity index (GPI)</th>\n",
       "      <th>Youth literacy rate, population 15-24 years, male (%)</th>\n",
       "      <th>Happy Planet Index</th>\n",
       "    </tr>\n",
       "  </thead>\n",
       "  <tbody>\n",
       "    <tr>\n",
       "      <th>0</th>\n",
       "      <td>Afghanistan</td>\n",
       "      <td>2012.0</td>\n",
       "      <td>NaN</td>\n",
       "      <td>NaN</td>\n",
       "      <td>NaN</td>\n",
       "      <td>NaN</td>\n",
       "      <td>NaN</td>\n",
       "      <td>NaN</td>\n",
       "      <td>NaN</td>\n",
       "      <td>NaN</td>\n",
       "      <td>...</td>\n",
       "      <td>NaN</td>\n",
       "      <td>NaN</td>\n",
       "      <td>NaN</td>\n",
       "      <td>NaN</td>\n",
       "      <td>NaN</td>\n",
       "      <td>NaN</td>\n",
       "      <td>NaN</td>\n",
       "      <td>NaN</td>\n",
       "      <td>NaN</td>\n",
       "      <td>36.8</td>\n",
       "    </tr>\n",
       "    <tr>\n",
       "      <th>1</th>\n",
       "      <td>Afghanistan</td>\n",
       "      <td>2016.0</td>\n",
       "      <td>NaN</td>\n",
       "      <td>NaN</td>\n",
       "      <td>NaN</td>\n",
       "      <td>NaN</td>\n",
       "      <td>NaN</td>\n",
       "      <td>NaN</td>\n",
       "      <td>NaN</td>\n",
       "      <td>NaN</td>\n",
       "      <td>...</td>\n",
       "      <td>NaN</td>\n",
       "      <td>NaN</td>\n",
       "      <td>NaN</td>\n",
       "      <td>NaN</td>\n",
       "      <td>NaN</td>\n",
       "      <td>NaN</td>\n",
       "      <td>NaN</td>\n",
       "      <td>NaN</td>\n",
       "      <td>NaN</td>\n",
       "      <td>20.2</td>\n",
       "    </tr>\n",
       "    <tr>\n",
       "      <th>2</th>\n",
       "      <td>Albania</td>\n",
       "      <td>2006.0</td>\n",
       "      <td>NaN</td>\n",
       "      <td>NaN</td>\n",
       "      <td>NaN</td>\n",
       "      <td>NaN</td>\n",
       "      <td>NaN</td>\n",
       "      <td>NaN</td>\n",
       "      <td>NaN</td>\n",
       "      <td>NaN</td>\n",
       "      <td>...</td>\n",
       "      <td>NaN</td>\n",
       "      <td>NaN</td>\n",
       "      <td>NaN</td>\n",
       "      <td>NaN</td>\n",
       "      <td>NaN</td>\n",
       "      <td>NaN</td>\n",
       "      <td>NaN</td>\n",
       "      <td>NaN</td>\n",
       "      <td>NaN</td>\n",
       "      <td>42.1</td>\n",
       "    </tr>\n",
       "    <tr>\n",
       "      <th>3</th>\n",
       "      <td>Albania</td>\n",
       "      <td>2009.0</td>\n",
       "      <td>NaN</td>\n",
       "      <td>NaN</td>\n",
       "      <td>NaN</td>\n",
       "      <td>NaN</td>\n",
       "      <td>89.393333</td>\n",
       "      <td>88.698219</td>\n",
       "      <td>0.98508</td>\n",
       "      <td>90.041763</td>\n",
       "      <td>...</td>\n",
       "      <td>NaN</td>\n",
       "      <td>NaN</td>\n",
       "      <td>NaN</td>\n",
       "      <td>NaN</td>\n",
       "      <td>NaN</td>\n",
       "      <td>NaN</td>\n",
       "      <td>NaN</td>\n",
       "      <td>NaN</td>\n",
       "      <td>NaN</td>\n",
       "      <td>47.9</td>\n",
       "    </tr>\n",
       "    <tr>\n",
       "      <th>4</th>\n",
       "      <td>Albania</td>\n",
       "      <td>2012.0</td>\n",
       "      <td>NaN</td>\n",
       "      <td>NaN</td>\n",
       "      <td>NaN</td>\n",
       "      <td>NaN</td>\n",
       "      <td>96.137093</td>\n",
       "      <td>95.353287</td>\n",
       "      <td>0.98445</td>\n",
       "      <td>96.859650</td>\n",
       "      <td>...</td>\n",
       "      <td>NaN</td>\n",
       "      <td>58.875946</td>\n",
       "      <td>4302.0</td>\n",
       "      <td>2533.0</td>\n",
       "      <td>1769.0</td>\n",
       "      <td>99.2314</td>\n",
       "      <td>99.020187</td>\n",
       "      <td>0.99642</td>\n",
       "      <td>99.375977</td>\n",
       "      <td>54.1</td>\n",
       "    </tr>\n",
       "  </tbody>\n",
       "</table>\n",
       "<p>5 rows × 3624 columns</p>\n",
       "</div>"
      ],
      "text/plain": [
       "       country    year  \\\n",
       "0  Afghanistan  2012.0   \n",
       "1  Afghanistan  2016.0   \n",
       "2      Albania  2006.0   \n",
       "3      Albania  2009.0   \n",
       "4      Albania  2012.0   \n",
       "\n",
       "   Adjusted net enrolment rate, lower secondary, both sexes (%)  \\\n",
       "0                                                NaN              \n",
       "1                                                NaN              \n",
       "2                                                NaN              \n",
       "3                                                NaN              \n",
       "4                                                NaN              \n",
       "\n",
       "   Adjusted net enrolment rate, lower secondary, female (%)  \\\n",
       "0                                                NaN          \n",
       "1                                                NaN          \n",
       "2                                                NaN          \n",
       "3                                                NaN          \n",
       "4                                                NaN          \n",
       "\n",
       "   Adjusted net enrolment rate, lower secondary, gender parity index (GPI)  \\\n",
       "0                                                NaN                         \n",
       "1                                                NaN                         \n",
       "2                                                NaN                         \n",
       "3                                                NaN                         \n",
       "4                                                NaN                         \n",
       "\n",
       "   Adjusted net enrolment rate, lower secondary, male (%)  \\\n",
       "0                                                NaN        \n",
       "1                                                NaN        \n",
       "2                                                NaN        \n",
       "3                                                NaN        \n",
       "4                                                NaN        \n",
       "\n",
       "   Adjusted net enrolment rate, primary, both sexes (%)  \\\n",
       "0                                                NaN      \n",
       "1                                                NaN      \n",
       "2                                                NaN      \n",
       "3                                          89.393333      \n",
       "4                                          96.137093      \n",
       "\n",
       "   Adjusted net enrolment rate, primary, female (%)  \\\n",
       "0                                               NaN   \n",
       "1                                               NaN   \n",
       "2                                               NaN   \n",
       "3                                         88.698219   \n",
       "4                                         95.353287   \n",
       "\n",
       "   Adjusted net enrolment rate, primary, gender parity index (GPI)  \\\n",
       "0                                                NaN                 \n",
       "1                                                NaN                 \n",
       "2                                                NaN                 \n",
       "3                                            0.98508                 \n",
       "4                                            0.98445                 \n",
       "\n",
       "   Adjusted net enrolment rate, primary, male (%)         ...          \\\n",
       "0                                             NaN         ...           \n",
       "1                                             NaN         ...           \n",
       "2                                             NaN         ...           \n",
       "3                                       90.041763         ...           \n",
       "4                                       96.859650         ...           \n",
       "\n",
       "   Wittgenstein Projection: Population in thousands by highest level of educational attainment. Upper Secondary. Total  \\\n",
       "0                                                NaN                                                                     \n",
       "1                                                NaN                                                                     \n",
       "2                                                NaN                                                                     \n",
       "3                                                NaN                                                                     \n",
       "4                                                NaN                                                                     \n",
       "\n",
       "   Youth illiterate population, 15-24 years, % female  \\\n",
       "0                                                NaN    \n",
       "1                                                NaN    \n",
       "2                                                NaN    \n",
       "3                                                NaN    \n",
       "4                                          58.875946    \n",
       "\n",
       "   Youth illiterate population, 15-24 years, both sexes (number)  \\\n",
       "0                                                NaN               \n",
       "1                                                NaN               \n",
       "2                                                NaN               \n",
       "3                                                NaN               \n",
       "4                                             4302.0               \n",
       "\n",
       "   Youth illiterate population, 15-24 years, female (number)  \\\n",
       "0                                                NaN           \n",
       "1                                                NaN           \n",
       "2                                                NaN           \n",
       "3                                                NaN           \n",
       "4                                             2533.0           \n",
       "\n",
       "   Youth illiterate population, 15-24 years, male (number)  \\\n",
       "0                                                NaN         \n",
       "1                                                NaN         \n",
       "2                                                NaN         \n",
       "3                                                NaN         \n",
       "4                                             1769.0         \n",
       "\n",
       "   Youth literacy rate, population 15-24 years, both sexes (%)  \\\n",
       "0                                                NaN             \n",
       "1                                                NaN             \n",
       "2                                                NaN             \n",
       "3                                                NaN             \n",
       "4                                            99.2314             \n",
       "\n",
       "   Youth literacy rate, population 15-24 years, female (%)  \\\n",
       "0                                                NaN         \n",
       "1                                                NaN         \n",
       "2                                                NaN         \n",
       "3                                                NaN         \n",
       "4                                          99.020187         \n",
       "\n",
       "   Youth literacy rate, population 15-24 years, gender parity index (GPI)  \\\n",
       "0                                                NaN                        \n",
       "1                                                NaN                        \n",
       "2                                                NaN                        \n",
       "3                                                NaN                        \n",
       "4                                            0.99642                        \n",
       "\n",
       "   Youth literacy rate, population 15-24 years, male (%)  Happy Planet Index  \n",
       "0                                                NaN                    36.8  \n",
       "1                                                NaN                    20.2  \n",
       "2                                                NaN                    42.1  \n",
       "3                                                NaN                    47.9  \n",
       "4                                          99.375977                    54.1  \n",
       "\n",
       "[5 rows x 3624 columns]"
      ]
     },
     "execution_count": 3,
     "metadata": {},
     "output_type": "execute_result"
    }
   ],
   "source": [
    "overall_data = pd.read_csv(DataPreparation.retriveMergedFilePath(),\\\n",
    "                           header=0, index_col=0, skiprows=0, encoding='iso-8859-1')\n",
    "overall_data.head(5)"
   ]
  },
  {
   "cell_type": "markdown",
   "metadata": {},
   "source": [
    "### 1.4 Drop columns and rows with %(nulls)>80%"
   ]
  },
  {
   "cell_type": "code",
   "execution_count": 4,
   "metadata": {
    "collapsed": false
   },
   "outputs": [
    {
     "data": {
      "text/html": [
       "<div>\n",
       "<table border=\"1\" class=\"dataframe\">\n",
       "  <thead>\n",
       "    <tr style=\"text-align: right;\">\n",
       "      <th></th>\n",
       "      <th>country</th>\n",
       "      <th>year</th>\n",
       "      <th>Enrolment in primary education, both sexes (number)</th>\n",
       "      <th>Enrolment in primary education, female (number)</th>\n",
       "      <th>GDP at market prices (constant 2005 US$)</th>\n",
       "      <th>GDP at market prices (current US$)</th>\n",
       "      <th>GDP per capita (constant 2005 US$)</th>\n",
       "      <th>GDP per capita (current US$)</th>\n",
       "      <th>GNI (current US$)</th>\n",
       "      <th>GNI per capita, Atlas method (current US$)</th>\n",
       "      <th>...</th>\n",
       "      <th>Population, male (% of total)</th>\n",
       "      <th>Population, total</th>\n",
       "      <th>School life expectancy, primary, both sexes (years)</th>\n",
       "      <th>School life expectancy, primary, female (years)</th>\n",
       "      <th>School life expectancy, primary, gender parity index (GPI)</th>\n",
       "      <th>School life expectancy, primary, male (years)</th>\n",
       "      <th>Theoretical duration of pre-primary education (years)</th>\n",
       "      <th>Theoretical duration of primary education (years)</th>\n",
       "      <th>Theoretical duration of secondary education (years)</th>\n",
       "      <th>Happy Planet Index</th>\n",
       "    </tr>\n",
       "  </thead>\n",
       "  <tbody>\n",
       "    <tr>\n",
       "      <th>0</th>\n",
       "      <td>Afghanistan</td>\n",
       "      <td>2012.0</td>\n",
       "      <td>5767543.0</td>\n",
       "      <td>2348306.0</td>\n",
       "      <td>1.935220e+10</td>\n",
       "      <td>2.053654e+10</td>\n",
       "      <td>651.001852</td>\n",
       "      <td>690.842629</td>\n",
       "      <td>2.157185e+10</td>\n",
       "      <td>720.0</td>\n",
       "      <td>...</td>\n",
       "      <td>51.435962</td>\n",
       "      <td>29726803.0</td>\n",
       "      <td>6.53571</td>\n",
       "      <td>5.47000</td>\n",
       "      <td>0.72495</td>\n",
       "      <td>7.54532</td>\n",
       "      <td>4.0</td>\n",
       "      <td>6.0</td>\n",
       "      <td>6.0</td>\n",
       "      <td>36.8</td>\n",
       "    </tr>\n",
       "    <tr>\n",
       "      <th>2</th>\n",
       "      <td>Albania</td>\n",
       "      <td>2006.0</td>\n",
       "      <td>222402.0</td>\n",
       "      <td>107004.0</td>\n",
       "      <td>9.771760e+09</td>\n",
       "      <td>8.992642e+09</td>\n",
       "      <td>3265.365622</td>\n",
       "      <td>3005.012903</td>\n",
       "      <td>9.254605e+09</td>\n",
       "      <td>3090.0</td>\n",
       "      <td>...</td>\n",
       "      <td>50.260019</td>\n",
       "      <td>2992547.0</td>\n",
       "      <td>3.98375</td>\n",
       "      <td>3.97433</td>\n",
       "      <td>0.99544</td>\n",
       "      <td>3.99253</td>\n",
       "      <td>3.0</td>\n",
       "      <td>4.0</td>\n",
       "      <td>8.0</td>\n",
       "      <td>42.1</td>\n",
       "    </tr>\n",
       "    <tr>\n",
       "      <th>3</th>\n",
       "      <td>Albania</td>\n",
       "      <td>2009.0</td>\n",
       "      <td>236102.0</td>\n",
       "      <td>112399.0</td>\n",
       "      <td>1.150029e+10</td>\n",
       "      <td>1.204421e+10</td>\n",
       "      <td>3928.340828</td>\n",
       "      <td>4114.136545</td>\n",
       "      <td>1.185274e+10</td>\n",
       "      <td>4280.0</td>\n",
       "      <td>...</td>\n",
       "      <td>50.432577</td>\n",
       "      <td>2927519.0</td>\n",
       "      <td>4.80613</td>\n",
       "      <td>4.74382</td>\n",
       "      <td>0.97524</td>\n",
       "      <td>4.86425</td>\n",
       "      <td>3.0</td>\n",
       "      <td>5.0</td>\n",
       "      <td>7.0</td>\n",
       "      <td>47.9</td>\n",
       "    </tr>\n",
       "    <tr>\n",
       "      <th>4</th>\n",
       "      <td>Albania</td>\n",
       "      <td>2012.0</td>\n",
       "      <td>206617.0</td>\n",
       "      <td>97583.0</td>\n",
       "      <td>1.240477e+10</td>\n",
       "      <td>1.231978e+10</td>\n",
       "      <td>4277.143310</td>\n",
       "      <td>4247.839852</td>\n",
       "      <td>1.222802e+10</td>\n",
       "      <td>4360.0</td>\n",
       "      <td>...</td>\n",
       "      <td>50.128703</td>\n",
       "      <td>2900247.0</td>\n",
       "      <td>5.16259</td>\n",
       "      <td>5.09023</td>\n",
       "      <td>0.97326</td>\n",
       "      <td>5.23009</td>\n",
       "      <td>3.0</td>\n",
       "      <td>5.0</td>\n",
       "      <td>7.0</td>\n",
       "      <td>54.1</td>\n",
       "    </tr>\n",
       "    <tr>\n",
       "      <th>6</th>\n",
       "      <td>Algeria</td>\n",
       "      <td>2006.0</td>\n",
       "      <td>4196580.0</td>\n",
       "      <td>1973901.0</td>\n",
       "      <td>1.446470e+11</td>\n",
       "      <td>1.170270e+11</td>\n",
       "      <td>4285.934521</td>\n",
       "      <td>3467.544740</td>\n",
       "      <td>1.126050e+11</td>\n",
       "      <td>3100.0</td>\n",
       "      <td>...</td>\n",
       "      <td>50.489699</td>\n",
       "      <td>33749328.0</td>\n",
       "      <td>6.40438</td>\n",
       "      <td>6.17532</td>\n",
       "      <td>0.93223</td>\n",
       "      <td>6.62422</td>\n",
       "      <td>1.0</td>\n",
       "      <td>6.0</td>\n",
       "      <td>6.0</td>\n",
       "      <td>45.9</td>\n",
       "    </tr>\n",
       "  </tbody>\n",
       "</table>\n",
       "<p>5 rows × 67 columns</p>\n",
       "</div>"
      ],
      "text/plain": [
       "       country    year  Enrolment in primary education, both sexes (number)  \\\n",
       "0  Afghanistan  2012.0                                          5767543.0     \n",
       "2      Albania  2006.0                                           222402.0     \n",
       "3      Albania  2009.0                                           236102.0     \n",
       "4      Albania  2012.0                                           206617.0     \n",
       "6      Algeria  2006.0                                          4196580.0     \n",
       "\n",
       "   Enrolment in primary education, female (number)  \\\n",
       "0                                        2348306.0   \n",
       "2                                         107004.0   \n",
       "3                                         112399.0   \n",
       "4                                          97583.0   \n",
       "6                                        1973901.0   \n",
       "\n",
       "   GDP at market prices (constant 2005 US$)  \\\n",
       "0                              1.935220e+10   \n",
       "2                              9.771760e+09   \n",
       "3                              1.150029e+10   \n",
       "4                              1.240477e+10   \n",
       "6                              1.446470e+11   \n",
       "\n",
       "   GDP at market prices (current US$)  GDP per capita (constant 2005 US$)  \\\n",
       "0                        2.053654e+10                          651.001852   \n",
       "2                        8.992642e+09                         3265.365622   \n",
       "3                        1.204421e+10                         3928.340828   \n",
       "4                        1.231978e+10                         4277.143310   \n",
       "6                        1.170270e+11                         4285.934521   \n",
       "\n",
       "   GDP per capita (current US$)  GNI (current US$)  \\\n",
       "0                    690.842629       2.157185e+10   \n",
       "2                   3005.012903       9.254605e+09   \n",
       "3                   4114.136545       1.185274e+10   \n",
       "4                   4247.839852       1.222802e+10   \n",
       "6                   3467.544740       1.126050e+11   \n",
       "\n",
       "   GNI per capita, Atlas method (current US$)         ...          \\\n",
       "0                                       720.0         ...           \n",
       "2                                      3090.0         ...           \n",
       "3                                      4280.0         ...           \n",
       "4                                      4360.0         ...           \n",
       "6                                      3100.0         ...           \n",
       "\n",
       "   Population, male (% of total)  Population, total  \\\n",
       "0                      51.435962         29726803.0   \n",
       "2                      50.260019          2992547.0   \n",
       "3                      50.432577          2927519.0   \n",
       "4                      50.128703          2900247.0   \n",
       "6                      50.489699         33749328.0   \n",
       "\n",
       "   School life expectancy, primary, both sexes (years)  \\\n",
       "0                                            6.53571     \n",
       "2                                            3.98375     \n",
       "3                                            4.80613     \n",
       "4                                            5.16259     \n",
       "6                                            6.40438     \n",
       "\n",
       "   School life expectancy, primary, female (years)  \\\n",
       "0                                          5.47000   \n",
       "2                                          3.97433   \n",
       "3                                          4.74382   \n",
       "4                                          5.09023   \n",
       "6                                          6.17532   \n",
       "\n",
       "   School life expectancy, primary, gender parity index (GPI)  \\\n",
       "0                                            0.72495            \n",
       "2                                            0.99544            \n",
       "3                                            0.97524            \n",
       "4                                            0.97326            \n",
       "6                                            0.93223            \n",
       "\n",
       "   School life expectancy, primary, male (years)  \\\n",
       "0                                        7.54532   \n",
       "2                                        3.99253   \n",
       "3                                        4.86425   \n",
       "4                                        5.23009   \n",
       "6                                        6.62422   \n",
       "\n",
       "   Theoretical duration of pre-primary education (years)  \\\n",
       "0                                                4.0       \n",
       "2                                                3.0       \n",
       "3                                                3.0       \n",
       "4                                                3.0       \n",
       "6                                                1.0       \n",
       "\n",
       "   Theoretical duration of primary education (years)  \\\n",
       "0                                                6.0   \n",
       "2                                                4.0   \n",
       "3                                                5.0   \n",
       "4                                                5.0   \n",
       "6                                                6.0   \n",
       "\n",
       "   Theoretical duration of secondary education (years)  Happy Planet Index  \n",
       "0                                                6.0                  36.8  \n",
       "2                                                8.0                  42.1  \n",
       "3                                                7.0                  47.9  \n",
       "4                                                7.0                  54.1  \n",
       "6                                                6.0                  45.9  \n",
       "\n",
       "[5 rows x 67 columns]"
      ]
     },
     "execution_count": 4,
     "metadata": {},
     "output_type": "execute_result"
    }
   ],
   "source": [
    "THRESH = 0.2\n",
    "overall_data = overall_data.dropna(1, thresh=(overall_data.shape[0] * (1 - THRESH)))\n",
    "overall_data = overall_data.dropna(0, thresh=(overall_data.shape[1] * (1 - THRESH)))\n",
    "overall_data.head(5)"
   ]
  },
  {
   "cell_type": "markdown",
   "metadata": {},
   "source": [
    "## 2. Data Visualization & Analysis"
   ]
  },
  {
   "cell_type": "markdown",
   "metadata": {},
   "source": [
    "### 2.1 Most frequent countries appearing in the Dataset"
   ]
  },
  {
   "cell_type": "markdown",
   "metadata": {},
   "source": [
    "#### 2.1.1 Show counts on globbus map"
   ]
  },
  {
   "cell_type": "code",
   "execution_count": 5,
   "metadata": {
    "collapsed": false
   },
   "outputs": [
    {
     "data": {
      "image/png": "[encoded data removed]",
      "text/plain": [
       "<matplotlib.figure.Figure at 0x1c6fbd63be0>"
      ]
     },
     "metadata": {},
     "output_type": "display_data"
    }
   ],
   "source": [
    "overall_data_country_counts = overall_data.copy()\n",
    "overall_data_country_counts['country counts'] = \\\n",
    "    overall_data_country_counts.groupby('country')['country'].transform('count')\n",
    "MapVisualizations.plotDataOnMap(overall_data_country_counts, feature='country counts', year='mean', show_plot=button_plots.value)"
   ]
  },
  {
   "cell_type": "markdown",
   "metadata": {},
   "source": [
    "#### 2.1.2 Show counts in table"
   ]
  },
  {
   "cell_type": "code",
   "execution_count": 6,
   "metadata": {
    "collapsed": false
   },
   "outputs": [
    {
     "data": {
      "text/html": [
       "<div>\n",
       "<table border=\"1\" class=\"dataframe\">\n",
       "  <thead>\n",
       "    <tr style=\"text-align: right;\">\n",
       "      <th></th>\n",
       "      <th>country</th>\n",
       "      <th>country counts</th>\n",
       "    </tr>\n",
       "  </thead>\n",
       "  <tbody>\n",
       "    <tr>\n",
       "      <th>0</th>\n",
       "      <td>Spain</td>\n",
       "      <td>39</td>\n",
       "    </tr>\n",
       "    <tr>\n",
       "      <th>1</th>\n",
       "      <td>United Kingdom</td>\n",
       "      <td>39</td>\n",
       "    </tr>\n",
       "    <tr>\n",
       "      <th>2</th>\n",
       "      <td>Finland</td>\n",
       "      <td>39</td>\n",
       "    </tr>\n",
       "    <tr>\n",
       "      <th>3</th>\n",
       "      <td>Germany</td>\n",
       "      <td>39</td>\n",
       "    </tr>\n",
       "    <tr>\n",
       "      <th>4</th>\n",
       "      <td>Mexico</td>\n",
       "      <td>39</td>\n",
       "    </tr>\n",
       "    <tr>\n",
       "      <th>5</th>\n",
       "      <td>Netherlands</td>\n",
       "      <td>39</td>\n",
       "    </tr>\n",
       "    <tr>\n",
       "      <th>6</th>\n",
       "      <td>Sweden</td>\n",
       "      <td>39</td>\n",
       "    </tr>\n",
       "    <tr>\n",
       "      <th>7</th>\n",
       "      <td>Italy</td>\n",
       "      <td>39</td>\n",
       "    </tr>\n",
       "    <tr>\n",
       "      <th>8</th>\n",
       "      <td>Japan</td>\n",
       "      <td>39</td>\n",
       "    </tr>\n",
       "    <tr>\n",
       "      <th>9</th>\n",
       "      <td>France</td>\n",
       "      <td>39</td>\n",
       "    </tr>\n",
       "  </tbody>\n",
       "</table>\n",
       "</div>"
      ],
      "text/plain": [
       "          country  country counts\n",
       "0           Spain              39\n",
       "1  United Kingdom              39\n",
       "2         Finland              39\n",
       "3         Germany              39\n",
       "4          Mexico              39\n",
       "5     Netherlands              39\n",
       "6          Sweden              39\n",
       "7           Italy              39\n",
       "8           Japan              39\n",
       "9          France              39"
      ]
     },
     "execution_count": 6,
     "metadata": {},
     "output_type": "execute_result"
    }
   ],
   "source": [
    "overall_data_country_counts = overall_data_country_counts.groupby(['country'])[['country','country counts']].mean()\n",
    "overall_data_country_counts = overall_data_country_counts.sort('country counts', ascending=False)\n",
    "overall_data_country_counts.reset_index(inplace=True)\n",
    "overall_data_country_counts[['country','country counts']].head(10)"
   ]
  },
  {
   "cell_type": "markdown",
   "metadata": {},
   "source": [
    "### 2.2 Data distribution over the years"
   ]
  },
  {
   "cell_type": "code",
   "execution_count": 7,
   "metadata": {
    "collapsed": false
   },
   "outputs": [
    {
     "data": {
      "image/png": "[encoded data removed]",
      "text/plain": [
       "<matplotlib.figure.Figure at 0x1c6fc061978>"
      ]
     },
     "metadata": {},
     "output_type": "display_data"
    }
   ],
   "source": [
    "%matplotlib inline\n",
    "if button_plots.value:\n",
    "    DataVisualizations.distPlot(overall_data['year'],'Histogram of years','years','count',20,False)"
   ]
  },
  {
   "cell_type": "markdown",
   "metadata": {},
   "source": [
    "### 2.3 Checking distrubution of the label visually"
   ]
  },
  {
   "cell_type": "code",
   "execution_count": 8,
   "metadata": {
    "collapsed": false
   },
   "outputs": [
    {
     "data": {
      "image/png": "[encoded data removed]",
      "text/plain": [
       "<matplotlib.figure.Figure at 0x1c6836f70f0>"
      ]
     },
     "metadata": {},
     "output_type": "display_data"
    }
   ],
   "source": [
    "%matplotlib inline\n",
    "if button_plots.value:\n",
    "    DataVisualizations.distPlot(overall_data['Happy Planet Index'],'Histogram of Happy Planet Index values','HPI','density',25,True)"
   ]
  },
  {
   "cell_type": "markdown",
   "metadata": {},
   "source": [
    "### 2.4 Most feature-target Correlated features in the data"
   ]
  },
  {
   "cell_type": "code",
   "execution_count": 9,
   "metadata": {
    "collapsed": false
   },
   "outputs": [
    {
     "data": {
      "text/html": [
       "<div>\n",
       "<table border=\"1\" class=\"dataframe\">\n",
       "  <thead>\n",
       "    <tr style=\"text-align: right;\">\n",
       "      <th></th>\n",
       "      <th>Correlation to Happy Planet Index</th>\n",
       "      <th>Feature</th>\n",
       "    </tr>\n",
       "  </thead>\n",
       "  <tbody>\n",
       "    <tr>\n",
       "      <th>0</th>\n",
       "      <td>0.244313</td>\n",
       "      <td>Population, ages 15-64, female</td>\n",
       "    </tr>\n",
       "    <tr>\n",
       "      <th>1</th>\n",
       "      <td>0.242787</td>\n",
       "      <td>Population of the official age for pre-primary...</td>\n",
       "    </tr>\n",
       "    <tr>\n",
       "      <th>2</th>\n",
       "      <td>0.242299</td>\n",
       "      <td>Population of the official age for pre-primary...</td>\n",
       "    </tr>\n",
       "    <tr>\n",
       "      <th>3</th>\n",
       "      <td>0.241668</td>\n",
       "      <td>Population of the official age for pre-primary...</td>\n",
       "    </tr>\n",
       "    <tr>\n",
       "      <th>4</th>\n",
       "      <td>0.241227</td>\n",
       "      <td>Population, ages 15-64, total</td>\n",
       "    </tr>\n",
       "  </tbody>\n",
       "</table>\n",
       "</div>"
      ],
      "text/plain": [
       "   Correlation to Happy Planet Index  \\\n",
       "0                           0.244313   \n",
       "1                           0.242787   \n",
       "2                           0.242299   \n",
       "3                           0.241668   \n",
       "4                           0.241227   \n",
       "\n",
       "                                             Feature  \n",
       "0                     Population, ages 15-64, female  \n",
       "1  Population of the official age for pre-primary...  \n",
       "2  Population of the official age for pre-primary...  \n",
       "3  Population of the official age for pre-primary...  \n",
       "4                      Population, ages 15-64, total  "
      ]
     },
     "execution_count": 9,
     "metadata": {},
     "output_type": "execute_result"
    }
   ],
   "source": [
    "HPI_correlation = overall_data[overall_data.columns[1:-1]].apply\\\n",
    "    (lambda x: x.corr(overall_data['Happy Planet Index'], method='spearman'))\n",
    "HPI_correlation = HPI_correlation.abs().sort_values(ascending=False)\n",
    "HPI_correlation = pd.DataFrame({'Feature':HPI_correlation.index,\\\n",
    "                                'Correlation to Happy Planet Index':HPI_correlation.values})\n",
    "HPI_correlation.head(5)"
   ]
  },
  {
   "cell_type": "markdown",
   "metadata": {},
   "source": [
    "### 2.5 Plot Correlation matrix, taken 2 positive and 2 negative most correlated features"
   ]
  },
  {
   "cell_type": "code",
   "execution_count": 10,
   "metadata": {
    "collapsed": false
   },
   "outputs": [
    {
     "data": {
      "image/png": "[encoded data removed]",
      "text/plain": [
       "<matplotlib.figure.Figure at 0x1c6fbff0828>"
      ]
     },
     "metadata": {},
     "output_type": "display_data"
    }
   ],
   "source": [
    "%matplotlib inline\n",
    "corr_features = HPI_correlation['Feature'].head(5).tolist() + ['Happy Planet Index']\n",
    "corr_features = [x for x in corr_features if x != 'year']\n",
    "overall_data_to_plot = overall_data[corr_features]\n",
    "data_corr_mat= overall_data_to_plot.corr(method='spearman')\n",
    "if button_plots.value:\n",
    "    plt.figure(figsize=(4,4))\n",
    "    sns.heatmap(data_corr_mat, vmax=1, square=True, annot=True, cmap='cubehelix')"
   ]
  },
  {
   "cell_type": "markdown",
   "metadata": {},
   "source": [
    "### 2.6 Plotting Data on world map\n",
    "#### Choose between Happy Planet Index and most correlated features \n",
    "#### Unfortunatly, there is no imagination between the plots"
   ]
  },
  {
   "cell_type": "code",
   "execution_count": 11,
   "metadata": {
    "collapsed": false
   },
   "outputs": [
    {
     "data": {
      "image/png": "[encoded data removed]",
      "text/plain": [
       "<matplotlib.figure.Figure at 0x1c6837a6390>"
      ]
     },
     "metadata": {},
     "output_type": "display_data"
    }
   ],
   "source": [
    "if button_plots.value:\n",
    "    MapVisualizations.interactMaps(overall_data,corr_features)"
   ]
  },
  {
   "cell_type": "markdown",
   "metadata": {},
   "source": [
    "### 2.7 Plotting boxplot of most correlated feature"
   ]
  },
  {
   "cell_type": "code",
   "execution_count": 12,
   "metadata": {
    "collapsed": false
   },
   "outputs": [
    {
     "data": {
      "text/plain": [
       "<matplotlib.text.Text at 0x1c683a72400>"
      ]
     },
     "execution_count": 12,
     "metadata": {},
     "output_type": "execute_result"
    },
    {
     "data": {
      "image/png": "[encoded data removed]",
      "text/plain": [
       "<matplotlib.figure.Figure at 0x1c68378ce10>"
      ]
     },
     "metadata": {},
     "output_type": "display_data"
    }
   ],
   "source": [
    "fig = plt.figure(figsize=(4,3))\n",
    "ax = fig.add_subplot(111)\n",
    "overall_data[corr_features[1]].to_frame().boxplot()\n",
    "ax.set_yscale('log')\n",
    "plt.ylabel('value')\n",
    "plt.title('Boxplot for most correlated feature')"
   ]
  },
  {
   "cell_type": "markdown",
   "metadata": {},
   "source": [
    "## 3.Preprocessing"
   ]
  },
  {
   "cell_type": "markdown",
   "metadata": {},
   "source": [
    "### 3.1 Impute nulls with medians"
   ]
  },
  {
   "cell_type": "code",
   "execution_count": 13,
   "metadata": {
    "collapsed": false
   },
   "outputs": [
    {
     "data": {
      "text/html": [
       "<div>\n",
       "<table border=\"1\" class=\"dataframe\">\n",
       "  <thead>\n",
       "    <tr style=\"text-align: right;\">\n",
       "      <th></th>\n",
       "      <th>country</th>\n",
       "      <th>year</th>\n",
       "      <th>Enrolment in primary education, both sexes (number)</th>\n",
       "      <th>Enrolment in primary education, female (number)</th>\n",
       "      <th>GDP at market prices (constant 2005 US$)</th>\n",
       "      <th>GDP at market prices (current US$)</th>\n",
       "      <th>GDP per capita (constant 2005 US$)</th>\n",
       "      <th>GDP per capita (current US$)</th>\n",
       "      <th>GNI (current US$)</th>\n",
       "      <th>GNI per capita, Atlas method (current US$)</th>\n",
       "      <th>...</th>\n",
       "      <th>Population, male (% of total)</th>\n",
       "      <th>Population, total</th>\n",
       "      <th>School life expectancy, primary, both sexes (years)</th>\n",
       "      <th>School life expectancy, primary, female (years)</th>\n",
       "      <th>School life expectancy, primary, gender parity index (GPI)</th>\n",
       "      <th>School life expectancy, primary, male (years)</th>\n",
       "      <th>Theoretical duration of pre-primary education (years)</th>\n",
       "      <th>Theoretical duration of primary education (years)</th>\n",
       "      <th>Theoretical duration of secondary education (years)</th>\n",
       "      <th>Happy Planet Index</th>\n",
       "    </tr>\n",
       "  </thead>\n",
       "  <tbody>\n",
       "    <tr>\n",
       "      <th>0</th>\n",
       "      <td>Afghanistan</td>\n",
       "      <td>2012.0</td>\n",
       "      <td>5767543.0</td>\n",
       "      <td>2348306.0</td>\n",
       "      <td>1.935220e+10</td>\n",
       "      <td>2.053654e+10</td>\n",
       "      <td>651.001852</td>\n",
       "      <td>690.842629</td>\n",
       "      <td>2.157185e+10</td>\n",
       "      <td>720.0</td>\n",
       "      <td>...</td>\n",
       "      <td>51.435962</td>\n",
       "      <td>29726803.0</td>\n",
       "      <td>6.53571</td>\n",
       "      <td>5.47000</td>\n",
       "      <td>0.72495</td>\n",
       "      <td>7.54532</td>\n",
       "      <td>4.0</td>\n",
       "      <td>6.0</td>\n",
       "      <td>6.0</td>\n",
       "      <td>36.8</td>\n",
       "    </tr>\n",
       "    <tr>\n",
       "      <th>2</th>\n",
       "      <td>Albania</td>\n",
       "      <td>2006.0</td>\n",
       "      <td>222402.0</td>\n",
       "      <td>107004.0</td>\n",
       "      <td>9.771760e+09</td>\n",
       "      <td>8.992642e+09</td>\n",
       "      <td>3265.365622</td>\n",
       "      <td>3005.012903</td>\n",
       "      <td>9.254605e+09</td>\n",
       "      <td>3090.0</td>\n",
       "      <td>...</td>\n",
       "      <td>50.260019</td>\n",
       "      <td>2992547.0</td>\n",
       "      <td>3.98375</td>\n",
       "      <td>3.97433</td>\n",
       "      <td>0.99544</td>\n",
       "      <td>3.99253</td>\n",
       "      <td>3.0</td>\n",
       "      <td>4.0</td>\n",
       "      <td>8.0</td>\n",
       "      <td>42.1</td>\n",
       "    </tr>\n",
       "    <tr>\n",
       "      <th>3</th>\n",
       "      <td>Albania</td>\n",
       "      <td>2009.0</td>\n",
       "      <td>236102.0</td>\n",
       "      <td>112399.0</td>\n",
       "      <td>1.150029e+10</td>\n",
       "      <td>1.204421e+10</td>\n",
       "      <td>3928.340828</td>\n",
       "      <td>4114.136545</td>\n",
       "      <td>1.185274e+10</td>\n",
       "      <td>4280.0</td>\n",
       "      <td>...</td>\n",
       "      <td>50.432577</td>\n",
       "      <td>2927519.0</td>\n",
       "      <td>4.80613</td>\n",
       "      <td>4.74382</td>\n",
       "      <td>0.97524</td>\n",
       "      <td>4.86425</td>\n",
       "      <td>3.0</td>\n",
       "      <td>5.0</td>\n",
       "      <td>7.0</td>\n",
       "      <td>47.9</td>\n",
       "    </tr>\n",
       "    <tr>\n",
       "      <th>4</th>\n",
       "      <td>Albania</td>\n",
       "      <td>2012.0</td>\n",
       "      <td>206617.0</td>\n",
       "      <td>97583.0</td>\n",
       "      <td>1.240477e+10</td>\n",
       "      <td>1.231978e+10</td>\n",
       "      <td>4277.143310</td>\n",
       "      <td>4247.839852</td>\n",
       "      <td>1.222802e+10</td>\n",
       "      <td>4360.0</td>\n",
       "      <td>...</td>\n",
       "      <td>50.128703</td>\n",
       "      <td>2900247.0</td>\n",
       "      <td>5.16259</td>\n",
       "      <td>5.09023</td>\n",
       "      <td>0.97326</td>\n",
       "      <td>5.23009</td>\n",
       "      <td>3.0</td>\n",
       "      <td>5.0</td>\n",
       "      <td>7.0</td>\n",
       "      <td>54.1</td>\n",
       "    </tr>\n",
       "    <tr>\n",
       "      <th>6</th>\n",
       "      <td>Algeria</td>\n",
       "      <td>2006.0</td>\n",
       "      <td>4196580.0</td>\n",
       "      <td>1973901.0</td>\n",
       "      <td>1.446470e+11</td>\n",
       "      <td>1.170270e+11</td>\n",
       "      <td>4285.934521</td>\n",
       "      <td>3467.544740</td>\n",
       "      <td>1.126050e+11</td>\n",
       "      <td>3100.0</td>\n",
       "      <td>...</td>\n",
       "      <td>50.489699</td>\n",
       "      <td>33749328.0</td>\n",
       "      <td>6.40438</td>\n",
       "      <td>6.17532</td>\n",
       "      <td>0.93223</td>\n",
       "      <td>6.62422</td>\n",
       "      <td>1.0</td>\n",
       "      <td>6.0</td>\n",
       "      <td>6.0</td>\n",
       "      <td>45.9</td>\n",
       "    </tr>\n",
       "  </tbody>\n",
       "</table>\n",
       "<p>5 rows × 67 columns</p>\n",
       "</div>"
      ],
      "text/plain": [
       "       country    year  Enrolment in primary education, both sexes (number)  \\\n",
       "0  Afghanistan  2012.0                                          5767543.0     \n",
       "2      Albania  2006.0                                           222402.0     \n",
       "3      Albania  2009.0                                           236102.0     \n",
       "4      Albania  2012.0                                           206617.0     \n",
       "6      Algeria  2006.0                                          4196580.0     \n",
       "\n",
       "   Enrolment in primary education, female (number)  \\\n",
       "0                                        2348306.0   \n",
       "2                                         107004.0   \n",
       "3                                         112399.0   \n",
       "4                                          97583.0   \n",
       "6                                        1973901.0   \n",
       "\n",
       "   GDP at market prices (constant 2005 US$)  \\\n",
       "0                              1.935220e+10   \n",
       "2                              9.771760e+09   \n",
       "3                              1.150029e+10   \n",
       "4                              1.240477e+10   \n",
       "6                              1.446470e+11   \n",
       "\n",
       "   GDP at market prices (current US$)  GDP per capita (constant 2005 US$)  \\\n",
       "0                        2.053654e+10                          651.001852   \n",
       "2                        8.992642e+09                         3265.365622   \n",
       "3                        1.204421e+10                         3928.340828   \n",
       "4                        1.231978e+10                         4277.143310   \n",
       "6                        1.170270e+11                         4285.934521   \n",
       "\n",
       "   GDP per capita (current US$)  GNI (current US$)  \\\n",
       "0                    690.842629       2.157185e+10   \n",
       "2                   3005.012903       9.254605e+09   \n",
       "3                   4114.136545       1.185274e+10   \n",
       "4                   4247.839852       1.222802e+10   \n",
       "6                   3467.544740       1.126050e+11   \n",
       "\n",
       "   GNI per capita, Atlas method (current US$)         ...          \\\n",
       "0                                       720.0         ...           \n",
       "2                                      3090.0         ...           \n",
       "3                                      4280.0         ...           \n",
       "4                                      4360.0         ...           \n",
       "6                                      3100.0         ...           \n",
       "\n",
       "   Population, male (% of total)  Population, total  \\\n",
       "0                      51.435962         29726803.0   \n",
       "2                      50.260019          2992547.0   \n",
       "3                      50.432577          2927519.0   \n",
       "4                      50.128703          2900247.0   \n",
       "6                      50.489699         33749328.0   \n",
       "\n",
       "   School life expectancy, primary, both sexes (years)  \\\n",
       "0                                            6.53571     \n",
       "2                                            3.98375     \n",
       "3                                            4.80613     \n",
       "4                                            5.16259     \n",
       "6                                            6.40438     \n",
       "\n",
       "   School life expectancy, primary, female (years)  \\\n",
       "0                                          5.47000   \n",
       "2                                          3.97433   \n",
       "3                                          4.74382   \n",
       "4                                          5.09023   \n",
       "6                                          6.17532   \n",
       "\n",
       "   School life expectancy, primary, gender parity index (GPI)  \\\n",
       "0                                            0.72495            \n",
       "2                                            0.99544            \n",
       "3                                            0.97524            \n",
       "4                                            0.97326            \n",
       "6                                            0.93223            \n",
       "\n",
       "   School life expectancy, primary, male (years)  \\\n",
       "0                                        7.54532   \n",
       "2                                        3.99253   \n",
       "3                                        4.86425   \n",
       "4                                        5.23009   \n",
       "6                                        6.62422   \n",
       "\n",
       "   Theoretical duration of pre-primary education (years)  \\\n",
       "0                                                4.0       \n",
       "2                                                3.0       \n",
       "3                                                3.0       \n",
       "4                                                3.0       \n",
       "6                                                1.0       \n",
       "\n",
       "   Theoretical duration of primary education (years)  \\\n",
       "0                                                6.0   \n",
       "2                                                4.0   \n",
       "3                                                5.0   \n",
       "4                                                5.0   \n",
       "6                                                6.0   \n",
       "\n",
       "   Theoretical duration of secondary education (years)  Happy Planet Index  \n",
       "0                                                6.0                  36.8  \n",
       "2                                                8.0                  42.1  \n",
       "3                                                7.0                  47.9  \n",
       "4                                                7.0                  54.1  \n",
       "6                                                6.0                  45.9  \n",
       "\n",
       "[5 rows x 67 columns]"
      ]
     },
     "execution_count": 13,
     "metadata": {},
     "output_type": "execute_result"
    }
   ],
   "source": [
    "overall_data = overall_data.fillna(overall_data.median())\n",
    "overall_data.head(5)"
   ]
  },
  {
   "cell_type": "markdown",
   "metadata": {},
   "source": [
    "### 3.2 One Hot Encoding Foreach Country"
   ]
  },
  {
   "cell_type": "code",
   "execution_count": 14,
   "metadata": {
    "collapsed": false
   },
   "outputs": [
    {
     "data": {
      "text/html": [
       "<div>\n",
       "<table border=\"1\" class=\"dataframe\">\n",
       "  <thead>\n",
       "    <tr style=\"text-align: right;\">\n",
       "      <th></th>\n",
       "      <th>year</th>\n",
       "      <th>Enrolment in primary education, both sexes (number)</th>\n",
       "      <th>Enrolment in primary education, female (number)</th>\n",
       "      <th>GDP at market prices (constant 2005 US$)</th>\n",
       "      <th>GDP at market prices (current US$)</th>\n",
       "      <th>GDP per capita (constant 2005 US$)</th>\n",
       "      <th>GDP per capita (current US$)</th>\n",
       "      <th>GNI (current US$)</th>\n",
       "      <th>GNI per capita, Atlas method (current US$)</th>\n",
       "      <th>Gross enrolment ratio, primary, both sexes (%)</th>\n",
       "      <th>...</th>\n",
       "      <th>country_United Arab Emirates</th>\n",
       "      <th>country_United Kingdom</th>\n",
       "      <th>country_United States</th>\n",
       "      <th>country_Uruguay</th>\n",
       "      <th>country_Uzbekistan</th>\n",
       "      <th>country_Vanuatu</th>\n",
       "      <th>country_Vietnam</th>\n",
       "      <th>country_Zambia</th>\n",
       "      <th>country_Zimbabwe</th>\n",
       "      <th>country</th>\n",
       "    </tr>\n",
       "  </thead>\n",
       "  <tbody>\n",
       "    <tr>\n",
       "      <th>0</th>\n",
       "      <td>2012.0</td>\n",
       "      <td>5767543.0</td>\n",
       "      <td>2348306.0</td>\n",
       "      <td>1.935220e+10</td>\n",
       "      <td>2.053654e+10</td>\n",
       "      <td>651.001852</td>\n",
       "      <td>690.842629</td>\n",
       "      <td>2.157185e+10</td>\n",
       "      <td>720.0</td>\n",
       "      <td>108.928520</td>\n",
       "      <td>...</td>\n",
       "      <td>0</td>\n",
       "      <td>0</td>\n",
       "      <td>0</td>\n",
       "      <td>0</td>\n",
       "      <td>0</td>\n",
       "      <td>0</td>\n",
       "      <td>0</td>\n",
       "      <td>0</td>\n",
       "      <td>0</td>\n",
       "      <td>Afghanistan</td>\n",
       "    </tr>\n",
       "    <tr>\n",
       "      <th>2</th>\n",
       "      <td>2006.0</td>\n",
       "      <td>222402.0</td>\n",
       "      <td>107004.0</td>\n",
       "      <td>9.771760e+09</td>\n",
       "      <td>8.992642e+09</td>\n",
       "      <td>3265.365622</td>\n",
       "      <td>3005.012903</td>\n",
       "      <td>9.254605e+09</td>\n",
       "      <td>3090.0</td>\n",
       "      <td>99.593842</td>\n",
       "      <td>...</td>\n",
       "      <td>0</td>\n",
       "      <td>0</td>\n",
       "      <td>0</td>\n",
       "      <td>0</td>\n",
       "      <td>0</td>\n",
       "      <td>0</td>\n",
       "      <td>0</td>\n",
       "      <td>0</td>\n",
       "      <td>0</td>\n",
       "      <td>Albania</td>\n",
       "    </tr>\n",
       "    <tr>\n",
       "      <th>3</th>\n",
       "      <td>2009.0</td>\n",
       "      <td>236102.0</td>\n",
       "      <td>112399.0</td>\n",
       "      <td>1.150029e+10</td>\n",
       "      <td>1.204421e+10</td>\n",
       "      <td>3928.340828</td>\n",
       "      <td>4114.136545</td>\n",
       "      <td>1.185274e+10</td>\n",
       "      <td>4280.0</td>\n",
       "      <td>97.525330</td>\n",
       "      <td>...</td>\n",
       "      <td>0</td>\n",
       "      <td>0</td>\n",
       "      <td>0</td>\n",
       "      <td>0</td>\n",
       "      <td>0</td>\n",
       "      <td>0</td>\n",
       "      <td>0</td>\n",
       "      <td>0</td>\n",
       "      <td>0</td>\n",
       "      <td>Albania</td>\n",
       "    </tr>\n",
       "    <tr>\n",
       "      <th>4</th>\n",
       "      <td>2012.0</td>\n",
       "      <td>206617.0</td>\n",
       "      <td>97583.0</td>\n",
       "      <td>1.240477e+10</td>\n",
       "      <td>1.231978e+10</td>\n",
       "      <td>4277.143310</td>\n",
       "      <td>4247.839852</td>\n",
       "      <td>1.222802e+10</td>\n",
       "      <td>4360.0</td>\n",
       "      <td>104.784393</td>\n",
       "      <td>...</td>\n",
       "      <td>0</td>\n",
       "      <td>0</td>\n",
       "      <td>0</td>\n",
       "      <td>0</td>\n",
       "      <td>0</td>\n",
       "      <td>0</td>\n",
       "      <td>0</td>\n",
       "      <td>0</td>\n",
       "      <td>0</td>\n",
       "      <td>Albania</td>\n",
       "    </tr>\n",
       "    <tr>\n",
       "      <th>6</th>\n",
       "      <td>2006.0</td>\n",
       "      <td>4196580.0</td>\n",
       "      <td>1973901.0</td>\n",
       "      <td>1.446470e+11</td>\n",
       "      <td>1.170270e+11</td>\n",
       "      <td>4285.934521</td>\n",
       "      <td>3467.544740</td>\n",
       "      <td>1.126050e+11</td>\n",
       "      <td>3100.0</td>\n",
       "      <td>108.287209</td>\n",
       "      <td>...</td>\n",
       "      <td>0</td>\n",
       "      <td>0</td>\n",
       "      <td>0</td>\n",
       "      <td>0</td>\n",
       "      <td>0</td>\n",
       "      <td>0</td>\n",
       "      <td>0</td>\n",
       "      <td>0</td>\n",
       "      <td>0</td>\n",
       "      <td>Algeria</td>\n",
       "    </tr>\n",
       "  </tbody>\n",
       "</table>\n",
       "<p>5 rows × 224 columns</p>\n",
       "</div>"
      ],
      "text/plain": [
       "     year  Enrolment in primary education, both sexes (number)  \\\n",
       "0  2012.0                                          5767543.0     \n",
       "2  2006.0                                           222402.0     \n",
       "3  2009.0                                           236102.0     \n",
       "4  2012.0                                           206617.0     \n",
       "6  2006.0                                          4196580.0     \n",
       "\n",
       "   Enrolment in primary education, female (number)  \\\n",
       "0                                        2348306.0   \n",
       "2                                         107004.0   \n",
       "3                                         112399.0   \n",
       "4                                          97583.0   \n",
       "6                                        1973901.0   \n",
       "\n",
       "   GDP at market prices (constant 2005 US$)  \\\n",
       "0                              1.935220e+10   \n",
       "2                              9.771760e+09   \n",
       "3                              1.150029e+10   \n",
       "4                              1.240477e+10   \n",
       "6                              1.446470e+11   \n",
       "\n",
       "   GDP at market prices (current US$)  GDP per capita (constant 2005 US$)  \\\n",
       "0                        2.053654e+10                          651.001852   \n",
       "2                        8.992642e+09                         3265.365622   \n",
       "3                        1.204421e+10                         3928.340828   \n",
       "4                        1.231978e+10                         4277.143310   \n",
       "6                        1.170270e+11                         4285.934521   \n",
       "\n",
       "   GDP per capita (current US$)  GNI (current US$)  \\\n",
       "0                    690.842629       2.157185e+10   \n",
       "2                   3005.012903       9.254605e+09   \n",
       "3                   4114.136545       1.185274e+10   \n",
       "4                   4247.839852       1.222802e+10   \n",
       "6                   3467.544740       1.126050e+11   \n",
       "\n",
       "   GNI per capita, Atlas method (current US$)  \\\n",
       "0                                       720.0   \n",
       "2                                      3090.0   \n",
       "3                                      4280.0   \n",
       "4                                      4360.0   \n",
       "6                                      3100.0   \n",
       "\n",
       "   Gross enrolment ratio, primary, both sexes (%)     ...       \\\n",
       "0                                      108.928520     ...        \n",
       "2                                       99.593842     ...        \n",
       "3                                       97.525330     ...        \n",
       "4                                      104.784393     ...        \n",
       "6                                      108.287209     ...        \n",
       "\n",
       "   country_United Arab Emirates  country_United Kingdom  \\\n",
       "0                             0                       0   \n",
       "2                             0                       0   \n",
       "3                             0                       0   \n",
       "4                             0                       0   \n",
       "6                             0                       0   \n",
       "\n",
       "   country_United States  country_Uruguay  country_Uzbekistan  \\\n",
       "0                      0                0                   0   \n",
       "2                      0                0                   0   \n",
       "3                      0                0                   0   \n",
       "4                      0                0                   0   \n",
       "6                      0                0                   0   \n",
       "\n",
       "   country_Vanuatu  country_Vietnam  country_Zambia  country_Zimbabwe  \\\n",
       "0                0                0               0                 0   \n",
       "2                0                0               0                 0   \n",
       "3                0                0               0                 0   \n",
       "4                0                0               0                 0   \n",
       "6                0                0               0                 0   \n",
       "\n",
       "       country  \n",
       "0  Afghanistan  \n",
       "2      Albania  \n",
       "3      Albania  \n",
       "4      Albania  \n",
       "6      Algeria  \n",
       "\n",
       "[5 rows x 224 columns]"
      ]
     },
     "execution_count": 14,
     "metadata": {},
     "output_type": "execute_result"
    }
   ],
   "source": [
    "overall_data_countries = overall_data['country']\n",
    "oh_overall_data = overall_data.drop('country', axis=1)\n",
    "onehot_overall_col = pd.get_dummies(overall_data['country'], prefix='country')\n",
    "\n",
    "#check for missing cols in onehot_overall_col\n",
    "for col in onehot_overall_col.columns:\n",
    "    if col not in onehot_overall_col.columns:\n",
    "        onehot_overall_col[col] = 0\n",
    "        \n",
    "oh_overall_data = pd.concat([oh_overall_data, onehot_overall_col], axis=1)\n",
    "overall_data = oh_overall_data\n",
    "overall_data['country'] = overall_data_countries\n",
    "overall_data.head(5)"
   ]
  },
  {
   "cell_type": "markdown",
   "metadata": {},
   "source": [
    "### 3.3 Split Data randomly into training set and test set"
   ]
  },
  {
   "cell_type": "code",
   "execution_count": 15,
   "metadata": {
    "collapsed": false
   },
   "outputs": [
    {
     "data": {
      "text/html": [
       "<div>\n",
       "<table border=\"1\" class=\"dataframe\">\n",
       "  <thead>\n",
       "    <tr style=\"text-align: right;\">\n",
       "      <th></th>\n",
       "      <th>year</th>\n",
       "      <th>Enrolment in primary education, both sexes (number)</th>\n",
       "      <th>Enrolment in primary education, female (number)</th>\n",
       "      <th>GDP at market prices (constant 2005 US$)</th>\n",
       "      <th>GDP at market prices (current US$)</th>\n",
       "      <th>GDP per capita (constant 2005 US$)</th>\n",
       "      <th>GDP per capita (current US$)</th>\n",
       "      <th>GNI (current US$)</th>\n",
       "      <th>GNI per capita, Atlas method (current US$)</th>\n",
       "      <th>Gross enrolment ratio, primary, both sexes (%)</th>\n",
       "      <th>...</th>\n",
       "      <th>country_United Arab Emirates</th>\n",
       "      <th>country_United Kingdom</th>\n",
       "      <th>country_United States</th>\n",
       "      <th>country_Uruguay</th>\n",
       "      <th>country_Uzbekistan</th>\n",
       "      <th>country_Vanuatu</th>\n",
       "      <th>country_Vietnam</th>\n",
       "      <th>country_Zambia</th>\n",
       "      <th>country_Zimbabwe</th>\n",
       "      <th>country</th>\n",
       "    </tr>\n",
       "  </thead>\n",
       "  <tbody>\n",
       "    <tr>\n",
       "      <th>0</th>\n",
       "      <td>2009.0</td>\n",
       "      <td>406920.0</td>\n",
       "      <td>200909.0</td>\n",
       "      <td>1.063964e+10</td>\n",
       "      <td>8.876191e+09</td>\n",
       "      <td>4943.249801</td>\n",
       "      <td>4123.939997</td>\n",
       "      <td>8.708821e+09</td>\n",
       "      <td>4120.0</td>\n",
       "      <td>108.228012</td>\n",
       "      <td>...</td>\n",
       "      <td>0</td>\n",
       "      <td>0</td>\n",
       "      <td>0</td>\n",
       "      <td>0</td>\n",
       "      <td>0</td>\n",
       "      <td>0</td>\n",
       "      <td>0</td>\n",
       "      <td>0</td>\n",
       "      <td>0</td>\n",
       "      <td>Namibia</td>\n",
       "    </tr>\n",
       "    <tr>\n",
       "      <th>1</th>\n",
       "      <td>1985.0</td>\n",
       "      <td>420665.0</td>\n",
       "      <td>205210.0</td>\n",
       "      <td>6.420870e+10</td>\n",
       "      <td>2.129391e+10</td>\n",
       "      <td>18147.884040</td>\n",
       "      <td>6018.489552</td>\n",
       "      <td>1.983712e+10</td>\n",
       "      <td>5630.0</td>\n",
       "      <td>95.102722</td>\n",
       "      <td>...</td>\n",
       "      <td>0</td>\n",
       "      <td>0</td>\n",
       "      <td>0</td>\n",
       "      <td>0</td>\n",
       "      <td>0</td>\n",
       "      <td>0</td>\n",
       "      <td>0</td>\n",
       "      <td>0</td>\n",
       "      <td>0</td>\n",
       "      <td>Ireland</td>\n",
       "    </tr>\n",
       "    <tr>\n",
       "      <th>2</th>\n",
       "      <td>1984.0</td>\n",
       "      <td>888440.0</td>\n",
       "      <td>430238.0</td>\n",
       "      <td>1.813080e+11</td>\n",
       "      <td>4.802002e+10</td>\n",
       "      <td>18321.674990</td>\n",
       "      <td>4852.565728</td>\n",
       "      <td>4.851687e+10</td>\n",
       "      <td>5130.0</td>\n",
       "      <td>105.983048</td>\n",
       "      <td>...</td>\n",
       "      <td>0</td>\n",
       "      <td>0</td>\n",
       "      <td>0</td>\n",
       "      <td>0</td>\n",
       "      <td>0</td>\n",
       "      <td>0</td>\n",
       "      <td>0</td>\n",
       "      <td>0</td>\n",
       "      <td>0</td>\n",
       "      <td>Greece</td>\n",
       "    </tr>\n",
       "    <tr>\n",
       "      <th>3</th>\n",
       "      <td>1991.0</td>\n",
       "      <td>2820497.0</td>\n",
       "      <td>1366826.0</td>\n",
       "      <td>8.954290e+11</td>\n",
       "      <td>5.755990e+11</td>\n",
       "      <td>22995.652240</td>\n",
       "      <td>14782.038900</td>\n",
       "      <td>5.713820e+11</td>\n",
       "      <td>13720.0</td>\n",
       "      <td>105.279709</td>\n",
       "      <td>...</td>\n",
       "      <td>0</td>\n",
       "      <td>0</td>\n",
       "      <td>0</td>\n",
       "      <td>0</td>\n",
       "      <td>0</td>\n",
       "      <td>0</td>\n",
       "      <td>0</td>\n",
       "      <td>0</td>\n",
       "      <td>0</td>\n",
       "      <td>Spain</td>\n",
       "    </tr>\n",
       "    <tr>\n",
       "      <th>4</th>\n",
       "      <td>2006.0</td>\n",
       "      <td>364263.0</td>\n",
       "      <td>161875.0</td>\n",
       "      <td>2.179437e+09</td>\n",
       "      <td>1.211162e+09</td>\n",
       "      <td>506.323083</td>\n",
       "      <td>281.375017</td>\n",
       "      <td>1.202459e+09</td>\n",
       "      <td>280.0</td>\n",
       "      <td>68.011917</td>\n",
       "      <td>...</td>\n",
       "      <td>0</td>\n",
       "      <td>0</td>\n",
       "      <td>0</td>\n",
       "      <td>0</td>\n",
       "      <td>0</td>\n",
       "      <td>0</td>\n",
       "      <td>0</td>\n",
       "      <td>0</td>\n",
       "      <td>0</td>\n",
       "      <td>Eritrea</td>\n",
       "    </tr>\n",
       "  </tbody>\n",
       "</table>\n",
       "<p>5 rows × 224 columns</p>\n",
       "</div>"
      ],
      "text/plain": [
       "     year  Enrolment in primary education, both sexes (number)  \\\n",
       "0  2009.0                                           406920.0     \n",
       "1  1985.0                                           420665.0     \n",
       "2  1984.0                                           888440.0     \n",
       "3  1991.0                                          2820497.0     \n",
       "4  2006.0                                           364263.0     \n",
       "\n",
       "   Enrolment in primary education, female (number)  \\\n",
       "0                                         200909.0   \n",
       "1                                         205210.0   \n",
       "2                                         430238.0   \n",
       "3                                        1366826.0   \n",
       "4                                         161875.0   \n",
       "\n",
       "   GDP at market prices (constant 2005 US$)  \\\n",
       "0                              1.063964e+10   \n",
       "1                              6.420870e+10   \n",
       "2                              1.813080e+11   \n",
       "3                              8.954290e+11   \n",
       "4                              2.179437e+09   \n",
       "\n",
       "   GDP at market prices (current US$)  GDP per capita (constant 2005 US$)  \\\n",
       "0                        8.876191e+09                         4943.249801   \n",
       "1                        2.129391e+10                        18147.884040   \n",
       "2                        4.802002e+10                        18321.674990   \n",
       "3                        5.755990e+11                        22995.652240   \n",
       "4                        1.211162e+09                          506.323083   \n",
       "\n",
       "   GDP per capita (current US$)  GNI (current US$)  \\\n",
       "0                   4123.939997       8.708821e+09   \n",
       "1                   6018.489552       1.983712e+10   \n",
       "2                   4852.565728       4.851687e+10   \n",
       "3                  14782.038900       5.713820e+11   \n",
       "4                    281.375017       1.202459e+09   \n",
       "\n",
       "   GNI per capita, Atlas method (current US$)  \\\n",
       "0                                      4120.0   \n",
       "1                                      5630.0   \n",
       "2                                      5130.0   \n",
       "3                                     13720.0   \n",
       "4                                       280.0   \n",
       "\n",
       "   Gross enrolment ratio, primary, both sexes (%)   ...     \\\n",
       "0                                      108.228012   ...      \n",
       "1                                       95.102722   ...      \n",
       "2                                      105.983048   ...      \n",
       "3                                      105.279709   ...      \n",
       "4                                       68.011917   ...      \n",
       "\n",
       "   country_United Arab Emirates  country_United Kingdom  \\\n",
       "0                             0                       0   \n",
       "1                             0                       0   \n",
       "2                             0                       0   \n",
       "3                             0                       0   \n",
       "4                             0                       0   \n",
       "\n",
       "   country_United States  country_Uruguay  country_Uzbekistan  \\\n",
       "0                      0                0                   0   \n",
       "1                      0                0                   0   \n",
       "2                      0                0                   0   \n",
       "3                      0                0                   0   \n",
       "4                      0                0                   0   \n",
       "\n",
       "   country_Vanuatu  country_Vietnam  country_Zambia  country_Zimbabwe  country  \n",
       "0                0                0               0                 0  Namibia  \n",
       "1                0                0               0                 0  Ireland  \n",
       "2                0                0               0                 0   Greece  \n",
       "3                0                0               0                 0    Spain  \n",
       "4                0                0               0                 0  Eritrea  \n",
       "\n",
       "[5 rows x 224 columns]"
      ]
     },
     "execution_count": 15,
     "metadata": {},
     "output_type": "execute_result"
    }
   ],
   "source": [
    "train_data, test_data = train_test_split\\\n",
    "(overall_data, test_size = 0.2, random_state=0)\n",
    "train_data.reset_index(drop=True, inplace=True)\n",
    "test_data.reset_index(drop=True, inplace=True)\n",
    "train_data.head(5)"
   ]
  },
  {
   "cell_type": "markdown",
   "metadata": {},
   "source": [
    "### 3.4 Partition factors, class and countries"
   ]
  },
  {
   "cell_type": "code",
   "execution_count": 16,
   "metadata": {
    "collapsed": false
   },
   "outputs": [
    {
     "data": {
      "text/html": [
       "<div>\n",
       "<table border=\"1\" class=\"dataframe\">\n",
       "  <thead>\n",
       "    <tr style=\"text-align: right;\">\n",
       "      <th></th>\n",
       "      <th>year</th>\n",
       "      <th>Enrolment in primary education, both sexes (number)</th>\n",
       "      <th>Enrolment in primary education, female (number)</th>\n",
       "      <th>GDP at market prices (constant 2005 US$)</th>\n",
       "      <th>GDP at market prices (current US$)</th>\n",
       "      <th>GDP per capita (constant 2005 US$)</th>\n",
       "      <th>GDP per capita (current US$)</th>\n",
       "      <th>GNI (current US$)</th>\n",
       "      <th>GNI per capita, Atlas method (current US$)</th>\n",
       "      <th>Gross enrolment ratio, primary, both sexes (%)</th>\n",
       "      <th>...</th>\n",
       "      <th>country_Ukraine</th>\n",
       "      <th>country_United Arab Emirates</th>\n",
       "      <th>country_United Kingdom</th>\n",
       "      <th>country_United States</th>\n",
       "      <th>country_Uruguay</th>\n",
       "      <th>country_Uzbekistan</th>\n",
       "      <th>country_Vanuatu</th>\n",
       "      <th>country_Vietnam</th>\n",
       "      <th>country_Zambia</th>\n",
       "      <th>country_Zimbabwe</th>\n",
       "    </tr>\n",
       "  </thead>\n",
       "  <tbody>\n",
       "    <tr>\n",
       "      <th>0</th>\n",
       "      <td>2009.0</td>\n",
       "      <td>406920.0</td>\n",
       "      <td>200909.0</td>\n",
       "      <td>1.063964e+10</td>\n",
       "      <td>8.876191e+09</td>\n",
       "      <td>4943.249801</td>\n",
       "      <td>4123.939997</td>\n",
       "      <td>8.708821e+09</td>\n",
       "      <td>4120.0</td>\n",
       "      <td>108.228012</td>\n",
       "      <td>...</td>\n",
       "      <td>0</td>\n",
       "      <td>0</td>\n",
       "      <td>0</td>\n",
       "      <td>0</td>\n",
       "      <td>0</td>\n",
       "      <td>0</td>\n",
       "      <td>0</td>\n",
       "      <td>0</td>\n",
       "      <td>0</td>\n",
       "      <td>0</td>\n",
       "    </tr>\n",
       "    <tr>\n",
       "      <th>1</th>\n",
       "      <td>1985.0</td>\n",
       "      <td>420665.0</td>\n",
       "      <td>205210.0</td>\n",
       "      <td>6.420870e+10</td>\n",
       "      <td>2.129391e+10</td>\n",
       "      <td>18147.884040</td>\n",
       "      <td>6018.489552</td>\n",
       "      <td>1.983712e+10</td>\n",
       "      <td>5630.0</td>\n",
       "      <td>95.102722</td>\n",
       "      <td>...</td>\n",
       "      <td>0</td>\n",
       "      <td>0</td>\n",
       "      <td>0</td>\n",
       "      <td>0</td>\n",
       "      <td>0</td>\n",
       "      <td>0</td>\n",
       "      <td>0</td>\n",
       "      <td>0</td>\n",
       "      <td>0</td>\n",
       "      <td>0</td>\n",
       "    </tr>\n",
       "    <tr>\n",
       "      <th>2</th>\n",
       "      <td>1984.0</td>\n",
       "      <td>888440.0</td>\n",
       "      <td>430238.0</td>\n",
       "      <td>1.813080e+11</td>\n",
       "      <td>4.802002e+10</td>\n",
       "      <td>18321.674990</td>\n",
       "      <td>4852.565728</td>\n",
       "      <td>4.851687e+10</td>\n",
       "      <td>5130.0</td>\n",
       "      <td>105.983048</td>\n",
       "      <td>...</td>\n",
       "      <td>0</td>\n",
       "      <td>0</td>\n",
       "      <td>0</td>\n",
       "      <td>0</td>\n",
       "      <td>0</td>\n",
       "      <td>0</td>\n",
       "      <td>0</td>\n",
       "      <td>0</td>\n",
       "      <td>0</td>\n",
       "      <td>0</td>\n",
       "    </tr>\n",
       "    <tr>\n",
       "      <th>3</th>\n",
       "      <td>1991.0</td>\n",
       "      <td>2820497.0</td>\n",
       "      <td>1366826.0</td>\n",
       "      <td>8.954290e+11</td>\n",
       "      <td>5.755990e+11</td>\n",
       "      <td>22995.652240</td>\n",
       "      <td>14782.038900</td>\n",
       "      <td>5.713820e+11</td>\n",
       "      <td>13720.0</td>\n",
       "      <td>105.279709</td>\n",
       "      <td>...</td>\n",
       "      <td>0</td>\n",
       "      <td>0</td>\n",
       "      <td>0</td>\n",
       "      <td>0</td>\n",
       "      <td>0</td>\n",
       "      <td>0</td>\n",
       "      <td>0</td>\n",
       "      <td>0</td>\n",
       "      <td>0</td>\n",
       "      <td>0</td>\n",
       "    </tr>\n",
       "    <tr>\n",
       "      <th>4</th>\n",
       "      <td>2006.0</td>\n",
       "      <td>364263.0</td>\n",
       "      <td>161875.0</td>\n",
       "      <td>2.179437e+09</td>\n",
       "      <td>1.211162e+09</td>\n",
       "      <td>506.323083</td>\n",
       "      <td>281.375017</td>\n",
       "      <td>1.202459e+09</td>\n",
       "      <td>280.0</td>\n",
       "      <td>68.011917</td>\n",
       "      <td>...</td>\n",
       "      <td>0</td>\n",
       "      <td>0</td>\n",
       "      <td>0</td>\n",
       "      <td>0</td>\n",
       "      <td>0</td>\n",
       "      <td>0</td>\n",
       "      <td>0</td>\n",
       "      <td>0</td>\n",
       "      <td>0</td>\n",
       "      <td>0</td>\n",
       "    </tr>\n",
       "  </tbody>\n",
       "</table>\n",
       "<p>5 rows × 222 columns</p>\n",
       "</div>"
      ],
      "text/plain": [
       "     year  Enrolment in primary education, both sexes (number)  \\\n",
       "0  2009.0                                           406920.0     \n",
       "1  1985.0                                           420665.0     \n",
       "2  1984.0                                           888440.0     \n",
       "3  1991.0                                          2820497.0     \n",
       "4  2006.0                                           364263.0     \n",
       "\n",
       "   Enrolment in primary education, female (number)  \\\n",
       "0                                         200909.0   \n",
       "1                                         205210.0   \n",
       "2                                         430238.0   \n",
       "3                                        1366826.0   \n",
       "4                                         161875.0   \n",
       "\n",
       "   GDP at market prices (constant 2005 US$)  \\\n",
       "0                              1.063964e+10   \n",
       "1                              6.420870e+10   \n",
       "2                              1.813080e+11   \n",
       "3                              8.954290e+11   \n",
       "4                              2.179437e+09   \n",
       "\n",
       "   GDP at market prices (current US$)  GDP per capita (constant 2005 US$)  \\\n",
       "0                        8.876191e+09                         4943.249801   \n",
       "1                        2.129391e+10                        18147.884040   \n",
       "2                        4.802002e+10                        18321.674990   \n",
       "3                        5.755990e+11                        22995.652240   \n",
       "4                        1.211162e+09                          506.323083   \n",
       "\n",
       "   GDP per capita (current US$)  GNI (current US$)  \\\n",
       "0                   4123.939997       8.708821e+09   \n",
       "1                   6018.489552       1.983712e+10   \n",
       "2                   4852.565728       4.851687e+10   \n",
       "3                  14782.038900       5.713820e+11   \n",
       "4                    281.375017       1.202459e+09   \n",
       "\n",
       "   GNI per capita, Atlas method (current US$)  \\\n",
       "0                                      4120.0   \n",
       "1                                      5630.0   \n",
       "2                                      5130.0   \n",
       "3                                     13720.0   \n",
       "4                                       280.0   \n",
       "\n",
       "   Gross enrolment ratio, primary, both sexes (%)        ...         \\\n",
       "0                                      108.228012        ...          \n",
       "1                                       95.102722        ...          \n",
       "2                                      105.983048        ...          \n",
       "3                                      105.279709        ...          \n",
       "4                                       68.011917        ...          \n",
       "\n",
       "   country_Ukraine  country_United Arab Emirates  country_United Kingdom  \\\n",
       "0                0                             0                       0   \n",
       "1                0                             0                       0   \n",
       "2                0                             0                       0   \n",
       "3                0                             0                       0   \n",
       "4                0                             0                       0   \n",
       "\n",
       "   country_United States  country_Uruguay  country_Uzbekistan  \\\n",
       "0                      0                0                   0   \n",
       "1                      0                0                   0   \n",
       "2                      0                0                   0   \n",
       "3                      0                0                   0   \n",
       "4                      0                0                   0   \n",
       "\n",
       "   country_Vanuatu  country_Vietnam  country_Zambia  country_Zimbabwe  \n",
       "0                0                0               0                 0  \n",
       "1                0                0               0                 0  \n",
       "2                0                0               0                 0  \n",
       "3                0                0               0                 0  \n",
       "4                0                0               0                 0  \n",
       "\n",
       "[5 rows x 222 columns]"
      ]
     },
     "execution_count": 16,
     "metadata": {},
     "output_type": "execute_result"
    }
   ],
   "source": [
    "train_countries = train_data['country']\n",
    "train_class = train_data['Happy Planet Index']\n",
    "train_factors = (train_data.drop(['Happy Planet Index', 'country'], axis=1))\n",
    "\n",
    "test_countries = test_data['country']\n",
    "test_class = test_data['Happy Planet Index']\n",
    "test_factors =(test_data.drop(['Happy Planet Index', 'country'], axis=1))\n",
    "\n",
    "train_factors.head(5)"
   ]
  },
  {
   "cell_type": "markdown",
   "metadata": {},
   "source": [
    "### 3.5 Binning The Years by Decades"
   ]
  },
  {
   "cell_type": "code",
   "execution_count": 17,
   "metadata": {
    "collapsed": false
   },
   "outputs": [
    {
     "data": {
      "text/html": [
       "<div>\n",
       "<table border=\"1\" class=\"dataframe\">\n",
       "  <thead>\n",
       "    <tr style=\"text-align: right;\">\n",
       "      <th></th>\n",
       "      <th>year</th>\n",
       "      <th>Enrolment in primary education, both sexes (number)</th>\n",
       "      <th>Enrolment in primary education, female (number)</th>\n",
       "      <th>GDP at market prices (constant 2005 US$)</th>\n",
       "      <th>GDP at market prices (current US$)</th>\n",
       "      <th>GDP per capita (constant 2005 US$)</th>\n",
       "      <th>GDP per capita (current US$)</th>\n",
       "      <th>GNI (current US$)</th>\n",
       "      <th>GNI per capita, Atlas method (current US$)</th>\n",
       "      <th>Gross enrolment ratio, primary, both sexes (%)</th>\n",
       "      <th>...</th>\n",
       "      <th>country_Ukraine</th>\n",
       "      <th>country_United Arab Emirates</th>\n",
       "      <th>country_United Kingdom</th>\n",
       "      <th>country_United States</th>\n",
       "      <th>country_Uruguay</th>\n",
       "      <th>country_Uzbekistan</th>\n",
       "      <th>country_Vanuatu</th>\n",
       "      <th>country_Vietnam</th>\n",
       "      <th>country_Zambia</th>\n",
       "      <th>country_Zimbabwe</th>\n",
       "    </tr>\n",
       "  </thead>\n",
       "  <tbody>\n",
       "    <tr>\n",
       "      <th>0</th>\n",
       "      <td>3</td>\n",
       "      <td>406920.0</td>\n",
       "      <td>200909.0</td>\n",
       "      <td>1.063964e+10</td>\n",
       "      <td>8.876191e+09</td>\n",
       "      <td>4943.249801</td>\n",
       "      <td>4123.939997</td>\n",
       "      <td>8.708821e+09</td>\n",
       "      <td>4120.0</td>\n",
       "      <td>108.228012</td>\n",
       "      <td>...</td>\n",
       "      <td>0</td>\n",
       "      <td>0</td>\n",
       "      <td>0</td>\n",
       "      <td>0</td>\n",
       "      <td>0</td>\n",
       "      <td>0</td>\n",
       "      <td>0</td>\n",
       "      <td>0</td>\n",
       "      <td>0</td>\n",
       "      <td>0</td>\n",
       "    </tr>\n",
       "    <tr>\n",
       "      <th>1</th>\n",
       "      <td>1</td>\n",
       "      <td>420665.0</td>\n",
       "      <td>205210.0</td>\n",
       "      <td>6.420870e+10</td>\n",
       "      <td>2.129391e+10</td>\n",
       "      <td>18147.884040</td>\n",
       "      <td>6018.489552</td>\n",
       "      <td>1.983712e+10</td>\n",
       "      <td>5630.0</td>\n",
       "      <td>95.102722</td>\n",
       "      <td>...</td>\n",
       "      <td>0</td>\n",
       "      <td>0</td>\n",
       "      <td>0</td>\n",
       "      <td>0</td>\n",
       "      <td>0</td>\n",
       "      <td>0</td>\n",
       "      <td>0</td>\n",
       "      <td>0</td>\n",
       "      <td>0</td>\n",
       "      <td>0</td>\n",
       "    </tr>\n",
       "    <tr>\n",
       "      <th>2</th>\n",
       "      <td>1</td>\n",
       "      <td>888440.0</td>\n",
       "      <td>430238.0</td>\n",
       "      <td>1.813080e+11</td>\n",
       "      <td>4.802002e+10</td>\n",
       "      <td>18321.674990</td>\n",
       "      <td>4852.565728</td>\n",
       "      <td>4.851687e+10</td>\n",
       "      <td>5130.0</td>\n",
       "      <td>105.983048</td>\n",
       "      <td>...</td>\n",
       "      <td>0</td>\n",
       "      <td>0</td>\n",
       "      <td>0</td>\n",
       "      <td>0</td>\n",
       "      <td>0</td>\n",
       "      <td>0</td>\n",
       "      <td>0</td>\n",
       "      <td>0</td>\n",
       "      <td>0</td>\n",
       "      <td>0</td>\n",
       "    </tr>\n",
       "    <tr>\n",
       "      <th>3</th>\n",
       "      <td>2</td>\n",
       "      <td>2820497.0</td>\n",
       "      <td>1366826.0</td>\n",
       "      <td>8.954290e+11</td>\n",
       "      <td>5.755990e+11</td>\n",
       "      <td>22995.652240</td>\n",
       "      <td>14782.038900</td>\n",
       "      <td>5.713820e+11</td>\n",
       "      <td>13720.0</td>\n",
       "      <td>105.279709</td>\n",
       "      <td>...</td>\n",
       "      <td>0</td>\n",
       "      <td>0</td>\n",
       "      <td>0</td>\n",
       "      <td>0</td>\n",
       "      <td>0</td>\n",
       "      <td>0</td>\n",
       "      <td>0</td>\n",
       "      <td>0</td>\n",
       "      <td>0</td>\n",
       "      <td>0</td>\n",
       "    </tr>\n",
       "    <tr>\n",
       "      <th>4</th>\n",
       "      <td>3</td>\n",
       "      <td>364263.0</td>\n",
       "      <td>161875.0</td>\n",
       "      <td>2.179437e+09</td>\n",
       "      <td>1.211162e+09</td>\n",
       "      <td>506.323083</td>\n",
       "      <td>281.375017</td>\n",
       "      <td>1.202459e+09</td>\n",
       "      <td>280.0</td>\n",
       "      <td>68.011917</td>\n",
       "      <td>...</td>\n",
       "      <td>0</td>\n",
       "      <td>0</td>\n",
       "      <td>0</td>\n",
       "      <td>0</td>\n",
       "      <td>0</td>\n",
       "      <td>0</td>\n",
       "      <td>0</td>\n",
       "      <td>0</td>\n",
       "      <td>0</td>\n",
       "      <td>0</td>\n",
       "    </tr>\n",
       "  </tbody>\n",
       "</table>\n",
       "<p>5 rows × 222 columns</p>\n",
       "</div>"
      ],
      "text/plain": [
       "   year  Enrolment in primary education, both sexes (number)  \\\n",
       "0     3                                           406920.0     \n",
       "1     1                                           420665.0     \n",
       "2     1                                           888440.0     \n",
       "3     2                                          2820497.0     \n",
       "4     3                                           364263.0     \n",
       "\n",
       "   Enrolment in primary education, female (number)  \\\n",
       "0                                         200909.0   \n",
       "1                                         205210.0   \n",
       "2                                         430238.0   \n",
       "3                                        1366826.0   \n",
       "4                                         161875.0   \n",
       "\n",
       "   GDP at market prices (constant 2005 US$)  \\\n",
       "0                              1.063964e+10   \n",
       "1                              6.420870e+10   \n",
       "2                              1.813080e+11   \n",
       "3                              8.954290e+11   \n",
       "4                              2.179437e+09   \n",
       "\n",
       "   GDP at market prices (current US$)  GDP per capita (constant 2005 US$)  \\\n",
       "0                        8.876191e+09                         4943.249801   \n",
       "1                        2.129391e+10                        18147.884040   \n",
       "2                        4.802002e+10                        18321.674990   \n",
       "3                        5.755990e+11                        22995.652240   \n",
       "4                        1.211162e+09                          506.323083   \n",
       "\n",
       "   GDP per capita (current US$)  GNI (current US$)  \\\n",
       "0                   4123.939997       8.708821e+09   \n",
       "1                   6018.489552       1.983712e+10   \n",
       "2                   4852.565728       4.851687e+10   \n",
       "3                  14782.038900       5.713820e+11   \n",
       "4                    281.375017       1.202459e+09   \n",
       "\n",
       "   GNI per capita, Atlas method (current US$)  \\\n",
       "0                                      4120.0   \n",
       "1                                      5630.0   \n",
       "2                                      5130.0   \n",
       "3                                     13720.0   \n",
       "4                                       280.0   \n",
       "\n",
       "   Gross enrolment ratio, primary, both sexes (%)        ...         \\\n",
       "0                                      108.228012        ...          \n",
       "1                                       95.102722        ...          \n",
       "2                                      105.983048        ...          \n",
       "3                                      105.279709        ...          \n",
       "4                                       68.011917        ...          \n",
       "\n",
       "   country_Ukraine  country_United Arab Emirates  country_United Kingdom  \\\n",
       "0                0                             0                       0   \n",
       "1                0                             0                       0   \n",
       "2                0                             0                       0   \n",
       "3                0                             0                       0   \n",
       "4                0                             0                       0   \n",
       "\n",
       "   country_United States  country_Uruguay  country_Uzbekistan  \\\n",
       "0                      0                0                   0   \n",
       "1                      0                0                   0   \n",
       "2                      0                0                   0   \n",
       "3                      0                0                   0   \n",
       "4                      0                0                   0   \n",
       "\n",
       "   country_Vanuatu  country_Vietnam  country_Zambia  country_Zimbabwe  \n",
       "0                0                0               0                 0  \n",
       "1                0                0               0                 0  \n",
       "2                0                0               0                 0  \n",
       "3                0                0               0                 0  \n",
       "4                0                0               0                 0  \n",
       "\n",
       "[5 rows x 222 columns]"
      ]
     },
     "execution_count": 17,
     "metadata": {},
     "output_type": "execute_result"
    }
   ],
   "source": [
    "min_year = min(min(train_factors['year']), min(test_factors['year']))\n",
    "train_factors['year'] = train_factors['year'].apply(lambda x:math.floor((x-min_year) / 10))\n",
    "test_factors['year'] = test_factors['year'].apply(lambda x:math.floor((x-min_year) / 10))\n",
    "train_factors.head(5)"
   ]
  },
  {
   "cell_type": "markdown",
   "metadata": {},
   "source": [
    "### 3.6 Change all numeric values' datatypes to float"
   ]
  },
  {
   "cell_type": "code",
   "execution_count": 18,
   "metadata": {
    "collapsed": false
   },
   "outputs": [
    {
     "data": {
      "text/plain": [
       "year                                                   float64\n",
       "Enrolment in primary education, both sexes (number)    float64\n",
       "Enrolment in primary education, female (number)        float64\n",
       "GDP at market prices (constant 2005 US$)               float64\n",
       "GDP at market prices (current US$)                     float64\n",
       "dtype: object"
      ]
     },
     "execution_count": 18,
     "metadata": {},
     "output_type": "execute_result"
    }
   ],
   "source": [
    "train_factors = train_factors.astype(np.float)\n",
    "test_factors = test_factors.astype(np.float)\n",
    "train_factors.dtypes[:5]"
   ]
  },
  {
   "cell_type": "markdown",
   "metadata": {},
   "source": [
    "### 3.7 Creating a yearless and countryless copies of the data\n",
    "#### Henceforth, we duplicate our actions handling the data for each copy "
   ]
  },
  {
   "cell_type": "code",
   "execution_count": 19,
   "metadata": {
    "collapsed": false,
    "scrolled": true
   },
   "outputs": [],
   "source": [
    "alternative_models = AlternativeModel.createAlternativeModels(train_data, train_factors, train_class, train_countries, test_data, test_factors,\\\n",
    "                                       test_class, test_countries)"
   ]
  },
  {
   "cell_type": "markdown",
   "metadata": {
    "collapsed": true
   },
   "source": [
    "### 3.8 Data linearity proving"
   ]
  },
  {
   "cell_type": "code",
   "execution_count": 20,
   "metadata": {
    "collapsed": false
   },
   "outputs": [
    {
     "name": "stdout",
     "output_type": "stream",
     "text": [
      "Please choose an option\n"
     ]
    },
    {
     "data": {
      "text/plain": [
       "<function classes.OutliersDetection.allDataLinearityProving>"
      ]
     },
     "execution_count": 20,
     "metadata": {},
     "output_type": "execute_result"
    }
   ],
   "source": [
    "interact(OutliersDetection.allDataLinearityProving,\\\n",
    "             request=RadioButtons(options=  types_for_interact,\\\n",
    "                                  description='Select data type:', disabled=False))"
   ]
  },
  {
   "cell_type": "markdown",
   "metadata": {},
   "source": [
    "### 3.9 Scaling nomeric features"
   ]
  },
  {
   "cell_type": "code",
   "execution_count": 21,
   "metadata": {
    "collapsed": false
   },
   "outputs": [
    {
     "data": {
      "text/html": [
       "<div>\n",
       "<table border=\"1\" class=\"dataframe\">\n",
       "  <thead>\n",
       "    <tr style=\"text-align: right;\">\n",
       "      <th></th>\n",
       "      <th>year</th>\n",
       "      <th>Enrolment in primary education, both sexes (number)</th>\n",
       "      <th>Enrolment in primary education, female (number)</th>\n",
       "      <th>GDP at market prices (constant 2005 US$)</th>\n",
       "      <th>GDP at market prices (current US$)</th>\n",
       "      <th>GDP per capita (constant 2005 US$)</th>\n",
       "      <th>GDP per capita (current US$)</th>\n",
       "      <th>GNI (current US$)</th>\n",
       "      <th>GNI per capita, Atlas method (current US$)</th>\n",
       "      <th>Gross enrolment ratio, primary, both sexes (%)</th>\n",
       "      <th>...</th>\n",
       "      <th>country_Ukraine</th>\n",
       "      <th>country_United Arab Emirates</th>\n",
       "      <th>country_United Kingdom</th>\n",
       "      <th>country_United States</th>\n",
       "      <th>country_Uruguay</th>\n",
       "      <th>country_Uzbekistan</th>\n",
       "      <th>country_Vanuatu</th>\n",
       "      <th>country_Vietnam</th>\n",
       "      <th>country_Zambia</th>\n",
       "      <th>country_Zimbabwe</th>\n",
       "    </tr>\n",
       "  </thead>\n",
       "  <tbody>\n",
       "    <tr>\n",
       "      <th>0</th>\n",
       "      <td>0.780879</td>\n",
       "      <td>-0.287638</td>\n",
       "      <td>-0.296172</td>\n",
       "      <td>-0.514255</td>\n",
       "      <td>-0.378689</td>\n",
       "      <td>-1.064374</td>\n",
       "      <td>-0.728401</td>\n",
       "      <td>-0.374095</td>\n",
       "      <td>-0.745905</td>\n",
       "      <td>0.612859</td>\n",
       "      <td>...</td>\n",
       "      <td>-0.063758</td>\n",
       "      <td>-0.045038</td>\n",
       "      <td>-0.176961</td>\n",
       "      <td>-0.055188</td>\n",
       "      <td>-0.055188</td>\n",
       "      <td>-0.045038</td>\n",
       "      <td>-0.03183</td>\n",
       "      <td>-0.063758</td>\n",
       "      <td>-0.03183</td>\n",
       "      <td>-0.055188</td>\n",
       "    </tr>\n",
       "    <tr>\n",
       "      <th>1</th>\n",
       "      <td>-0.782461</td>\n",
       "      <td>-0.286277</td>\n",
       "      <td>-0.295247</td>\n",
       "      <td>-0.471274</td>\n",
       "      <td>-0.367663</td>\n",
       "      <td>-0.355682</td>\n",
       "      <td>-0.598975</td>\n",
       "      <td>-0.364349</td>\n",
       "      <td>-0.637493</td>\n",
       "      <td>-0.809469</td>\n",
       "      <td>...</td>\n",
       "      <td>-0.063758</td>\n",
       "      <td>-0.045038</td>\n",
       "      <td>-0.176961</td>\n",
       "      <td>-0.055188</td>\n",
       "      <td>-0.055188</td>\n",
       "      <td>-0.045038</td>\n",
       "      <td>-0.03183</td>\n",
       "      <td>-0.063758</td>\n",
       "      <td>-0.03183</td>\n",
       "      <td>-0.055188</td>\n",
       "    </tr>\n",
       "    <tr>\n",
       "      <th>2</th>\n",
       "      <td>-0.782461</td>\n",
       "      <td>-0.239970</td>\n",
       "      <td>-0.246859</td>\n",
       "      <td>-0.377320</td>\n",
       "      <td>-0.343932</td>\n",
       "      <td>-0.346354</td>\n",
       "      <td>-0.678625</td>\n",
       "      <td>-0.339231</td>\n",
       "      <td>-0.673391</td>\n",
       "      <td>0.369583</td>\n",
       "      <td>...</td>\n",
       "      <td>-0.063758</td>\n",
       "      <td>-0.045038</td>\n",
       "      <td>-0.176961</td>\n",
       "      <td>-0.055188</td>\n",
       "      <td>-0.055188</td>\n",
       "      <td>-0.045038</td>\n",
       "      <td>-0.03183</td>\n",
       "      <td>-0.063758</td>\n",
       "      <td>-0.03183</td>\n",
       "      <td>-0.055188</td>\n",
       "    </tr>\n",
       "    <tr>\n",
       "      <th>3</th>\n",
       "      <td>-0.000791</td>\n",
       "      <td>-0.048709</td>\n",
       "      <td>-0.045464</td>\n",
       "      <td>0.195653</td>\n",
       "      <td>0.124527</td>\n",
       "      <td>-0.095502</td>\n",
       "      <td>-0.000298</td>\n",
       "      <td>0.118704</td>\n",
       "      <td>-0.056662</td>\n",
       "      <td>0.293365</td>\n",
       "      <td>...</td>\n",
       "      <td>-0.063758</td>\n",
       "      <td>-0.045038</td>\n",
       "      <td>-0.176961</td>\n",
       "      <td>-0.055188</td>\n",
       "      <td>-0.055188</td>\n",
       "      <td>-0.045038</td>\n",
       "      <td>-0.03183</td>\n",
       "      <td>-0.063758</td>\n",
       "      <td>-0.03183</td>\n",
       "      <td>-0.055188</td>\n",
       "    </tr>\n",
       "    <tr>\n",
       "      <th>4</th>\n",
       "      <td>0.780879</td>\n",
       "      <td>-0.291860</td>\n",
       "      <td>-0.304565</td>\n",
       "      <td>-0.521043</td>\n",
       "      <td>-0.385495</td>\n",
       "      <td>-1.302503</td>\n",
       "      <td>-0.990904</td>\n",
       "      <td>-0.380670</td>\n",
       "      <td>-1.021603</td>\n",
       "      <td>-3.745178</td>\n",
       "      <td>...</td>\n",
       "      <td>-0.063758</td>\n",
       "      <td>-0.045038</td>\n",
       "      <td>-0.176961</td>\n",
       "      <td>-0.055188</td>\n",
       "      <td>-0.055188</td>\n",
       "      <td>-0.045038</td>\n",
       "      <td>-0.03183</td>\n",
       "      <td>-0.063758</td>\n",
       "      <td>-0.03183</td>\n",
       "      <td>-0.055188</td>\n",
       "    </tr>\n",
       "  </tbody>\n",
       "</table>\n",
       "<p>5 rows × 222 columns</p>\n",
       "</div>"
      ],
      "text/plain": [
       "       year  Enrolment in primary education, both sexes (number)  \\\n",
       "0  0.780879                                          -0.287638     \n",
       "1 -0.782461                                          -0.286277     \n",
       "2 -0.782461                                          -0.239970     \n",
       "3 -0.000791                                          -0.048709     \n",
       "4  0.780879                                          -0.291860     \n",
       "\n",
       "   Enrolment in primary education, female (number)  \\\n",
       "0                                        -0.296172   \n",
       "1                                        -0.295247   \n",
       "2                                        -0.246859   \n",
       "3                                        -0.045464   \n",
       "4                                        -0.304565   \n",
       "\n",
       "   GDP at market prices (constant 2005 US$)  \\\n",
       "0                                 -0.514255   \n",
       "1                                 -0.471274   \n",
       "2                                 -0.377320   \n",
       "3                                  0.195653   \n",
       "4                                 -0.521043   \n",
       "\n",
       "   GDP at market prices (current US$)  GDP per capita (constant 2005 US$)  \\\n",
       "0                           -0.378689                           -1.064374   \n",
       "1                           -0.367663                           -0.355682   \n",
       "2                           -0.343932                           -0.346354   \n",
       "3                            0.124527                           -0.095502   \n",
       "4                           -0.385495                           -1.302503   \n",
       "\n",
       "   GDP per capita (current US$)  GNI (current US$)  \\\n",
       "0                     -0.728401          -0.374095   \n",
       "1                     -0.598975          -0.364349   \n",
       "2                     -0.678625          -0.339231   \n",
       "3                     -0.000298           0.118704   \n",
       "4                     -0.990904          -0.380670   \n",
       "\n",
       "   GNI per capita, Atlas method (current US$)  \\\n",
       "0                                   -0.745905   \n",
       "1                                   -0.637493   \n",
       "2                                   -0.673391   \n",
       "3                                   -0.056662   \n",
       "4                                   -1.021603   \n",
       "\n",
       "   Gross enrolment ratio, primary, both sexes (%)        ...         \\\n",
       "0                                        0.612859        ...          \n",
       "1                                       -0.809469        ...          \n",
       "2                                        0.369583        ...          \n",
       "3                                        0.293365        ...          \n",
       "4                                       -3.745178        ...          \n",
       "\n",
       "   country_Ukraine  country_United Arab Emirates  country_United Kingdom  \\\n",
       "0        -0.063758                     -0.045038               -0.176961   \n",
       "1        -0.063758                     -0.045038               -0.176961   \n",
       "2        -0.063758                     -0.045038               -0.176961   \n",
       "3        -0.063758                     -0.045038               -0.176961   \n",
       "4        -0.063758                     -0.045038               -0.176961   \n",
       "\n",
       "   country_United States  country_Uruguay  country_Uzbekistan  \\\n",
       "0              -0.055188        -0.055188           -0.045038   \n",
       "1              -0.055188        -0.055188           -0.045038   \n",
       "2              -0.055188        -0.055188           -0.045038   \n",
       "3              -0.055188        -0.055188           -0.045038   \n",
       "4              -0.055188        -0.055188           -0.045038   \n",
       "\n",
       "   country_Vanuatu  country_Vietnam  country_Zambia  country_Zimbabwe  \n",
       "0         -0.03183        -0.063758        -0.03183         -0.055188  \n",
       "1         -0.03183        -0.063758        -0.03183         -0.055188  \n",
       "2         -0.03183        -0.063758        -0.03183         -0.055188  \n",
       "3         -0.03183        -0.063758        -0.03183         -0.055188  \n",
       "4         -0.03183        -0.063758        -0.03183         -0.055188  \n",
       "\n",
       "[5 rows x 222 columns]"
      ]
     },
     "execution_count": 21,
     "metadata": {},
     "output_type": "execute_result"
    }
   ],
   "source": [
    "for data in data_types:\n",
    "    alternative_models[data].train_factors = \\\n",
    "            pd.DataFrame(sp.StandardScaler().fit_transform(alternative_models[data].train_factors),columns =\\\n",
    "                                          alternative_models[data].train_factors.columns)\n",
    "    alternative_models[data].test_factors = \\\n",
    "            pd.DataFrame(sp.StandardScaler().fit_transform(alternative_models[data].test_factors),columns =\\\n",
    "                                          alternative_models[data].test_factors.columns)\n",
    "AlternativeModel.updateAlternativeModels(alternative_models)\n",
    "alternative_models['main data'].train_factors.head(5)"
   ]
  },
  {
   "cell_type": "markdown",
   "metadata": {},
   "source": [
    "## 4. Outliers Detection"
   ]
  },
  {
   "cell_type": "markdown",
   "metadata": {},
   "source": [
    "### 4.1 Robust Regression Method"
   ]
  },
  {
   "cell_type": "code",
   "execution_count": 22,
   "metadata": {
    "collapsed": false,
    "scrolled": true
   },
   "outputs": [
    {
     "name": "stdout",
     "output_type": "stream",
     "text": [
      "Please choose an option\n"
     ]
    },
    {
     "data": {
      "text/plain": [
       "<function classes.OutliersDetection.showResidualsRemoval>"
      ]
     },
     "execution_count": 22,
     "metadata": {},
     "output_type": "execute_result"
    }
   ],
   "source": [
    "f = FloatProgress(min=0, max=100)\n",
    "display(f)\n",
    "f.value += 1\n",
    "for data in data_types:\n",
    "    alternative_models[data].train_factors, alternative_models[data].train_class, alternative_models[data].train_data =\\\n",
    "                                OutliersDetection.removeOutliersRlm(alternative_models[data].train_factors, \\\n",
    "                                                                    alternative_models[data].train_class, \\\n",
    "                                                                alternative_models[data].train_data, 1,data)\n",
    "    f.value += 33\n",
    "    print(data)\n",
    "    \n",
    "AlternativeModel.updateAlternativeModels(alternative_models)\n",
    "\n",
    "interact(OutliersDetection.showResidualsRemoval,\\\n",
    "             request=RadioButtons(options=  types_for_interact,\\\n",
    "                                  description='Select data type:', disabled=False))"
   ]
  },
  {
   "cell_type": "markdown",
   "metadata": {},
   "source": [
    "### 4.2 PCA Visual Method"
   ]
  },
  {
   "cell_type": "markdown",
   "metadata": {},
   "source": [
    "#### 4.2.1 Apply 2D-PCA dimension reduction for visual outliers detection "
   ]
  },
  {
   "cell_type": "code",
   "execution_count": 23,
   "metadata": {
    "collapsed": false
   },
   "outputs": [
    {
     "name": "stdout",
     "output_type": "stream",
     "text": [
      "Please choose an option\n"
     ]
    },
    {
     "data": {
      "text/plain": [
       "<function classes.OutliersDetection.allDataTwoDimPCAandClustering>"
      ]
     },
     "execution_count": 23,
     "metadata": {},
     "output_type": "execute_result"
    }
   ],
   "source": [
    "PCAAltModels = dict([(data,(OutliersDetection.twoDimPCAandClustering(alternative_models[data].train_factors,data))) \\\n",
    "                     for data in data_types])\n",
    "AlternativeModel.updateAlternativeModels(alternative_models)\n",
    "\n",
    "interact(OutliersDetection.allDataTwoDimPCAandClustering,\\\n",
    "             request=RadioButtons(options=  types_for_interact,\\\n",
    "                                  description='Select data type:', disabled=False))"
   ]
  },
  {
   "cell_type": "markdown",
   "metadata": {},
   "source": [
    "#### 4.2.2 Print outliers' countries"
   ]
  },
  {
   "cell_type": "code",
   "execution_count": 24,
   "metadata": {
    "collapsed": false
   },
   "outputs": [
    {
     "name": "stdout",
     "output_type": "stream",
     "text": [
      "Please choose an option\n"
     ]
    }
   ],
   "source": [
    "outliers_indecies_alternative_model = dict([(data,np.where(PCAAltModels[data][0][:,0] > 20)[0].tolist()) \\\n",
    "                                            for data in data_types])\n",
    "outliers_df_alternative_model = dict([(data,alternative_models[data].train_data.loc\\\n",
    "                                       [outliers_indecies_alternative_model[data], :]) for data \\\n",
    "                             in data_types])\n",
    "OutliersDetection.printOutlierCountries(outliers_df_alternative_model,outliers_indecies_alternative_model)"
   ]
  },
  {
   "cell_type": "markdown",
   "metadata": {},
   "source": [
    "#### 4.2.3 Remove visible outliers if reducing aquracy"
   ]
  },
  {
   "cell_type": "code",
   "execution_count": 25,
   "metadata": {
    "collapsed": false
   },
   "outputs": [
    {
     "name": "stdout",
     "output_type": "stream",
     "text": [
      "•  main data run:\n",
      "\tR^2 on validation set with outliers: 0.904946241467 , and without outliers: 0.910812702711\n",
      "\tLeaving outliers in the training set, did not exceed 0.3 threshold in the difference between the R^2s. \n",
      "\n",
      "•  no countries run:\n",
      "\tR^2 on validation set with outliers: 0.410568418316 , and without outliers: 0.458319744672\n",
      "\tRemoving outliers from training set. \n",
      "\n",
      "•  no years run:\n",
      "\tR^2 on validation set with outliers: 0.900838982776 , and without outliers: 0.905329255707\n",
      "\tLeaving outliers in the training set, did not exceed 0.3 threshold in the difference between the R^2s. \n",
      "\n"
     ]
    }
   ],
   "source": [
    "f = FloatProgress(min=0, max=100)\n",
    "display(f)\n",
    "f.value += 1\n",
    "for data in data_types:\n",
    "    print(\"• \",data,\"run:\")\n",
    "    alternative_models[data].train_factors, alternative_models[data].train_class, alternative_models[data].train_data =\\\n",
    "                                OutliersDetection.removeOutliersPCA(alternative_models[data].train_factors,\\\n",
    "                                                                    alternative_models[data].train_class,\\\n",
    "                                                                    alternative_models[data].train_data,\\\n",
    "                                                                    outliers_indecies_alternative_model[data])\n",
    "    f.value += 33\n",
    "AlternativeModel.updateAlternativeModels(alternative_models)"
   ]
  },
  {
   "cell_type": "markdown",
   "metadata": {},
   "source": [
    "## 5. Feature selection with E.Net model"
   ]
  },
  {
   "cell_type": "markdown",
   "metadata": {},
   "source": [
    "### 5.1 Feature selection"
   ]
  },
  {
   "cell_type": "code",
   "execution_count": 26,
   "metadata": {
    "collapsed": false
   },
   "outputs": [
    {
     "name": "stdout",
     "output_type": "stream",
     "text": [
      "Please choose an option\n"
     ]
    }
   ],
   "source": [
    "chosen_features_and_coefs_alternative_models = dict([(data,\"\") for data in data_types])\n",
    "table_alternative_models = dict([(data,\"\") for data in data_types])\n",
    "\n",
    "f = FloatProgress(min=0, max=100)\n",
    "display(f)\n",
    "f.value += 1\n",
    "for data in data_types:\n",
    "    chosen_features_and_coefs_alternative_models[data], table_alternative_models[data] =\\\n",
    "                                FeatureSelection.featureSelectionWithENET(alternative_models[data].train_factors,\\\n",
    "                                                                    alternative_models[data].train_class)\n",
    "    f.value += 33\n",
    "AlternativeModel.updateAlternativeModels(alternative_models)\n",
    "\n",
    "FeatureSelection.printStrongCoeffs(table_alternative_models)"
   ]
  },
  {
   "cell_type": "markdown",
   "metadata": {},
   "source": [
    "### 5.2 Countries correlated to target plot"
   ]
  },
  {
   "cell_type": "code",
   "execution_count": 27,
   "metadata": {
    "collapsed": false
   },
   "outputs": [
    {
     "name": "stdout",
     "output_type": "stream",
     "text": [
      "Please choose an option\n"
     ]
    }
   ],
   "source": [
    "FeatureSelection.countriesCorrMap(chosen_features_and_coefs_alternative_models)"
   ]
  },
  {
   "cell_type": "markdown",
   "metadata": {},
   "source": [
    "### 5.3 Take remaining features"
   ]
  },
  {
   "cell_type": "code",
   "execution_count": 28,
   "metadata": {
    "collapsed": false
   },
   "outputs": [],
   "source": [
    "for data in data_types:\n",
    "    chosen_features = [x[0] for x in chosen_features_and_coefs_alternative_models[data]]\n",
    "    alternative_models[data].train_factors = alternative_models[data].train_factors[chosen_features]\n",
    "    alternative_models[data].test_factors = alternative_models[data].test_factors[chosen_features]"
   ]
  },
  {
   "cell_type": "markdown",
   "metadata": {},
   "source": [
    "## 6. Features extraction\n",
    "#### Checking feature interactions' correlations to label - done only for main data type"
   ]
  },
  {
   "cell_type": "markdown",
   "metadata": {},
   "source": [
    "### 6.1 Synthesizing features' interactions"
   ]
  },
  {
   "cell_type": "code",
   "execution_count": 29,
   "metadata": {
    "collapsed": false
   },
   "outputs": [
    {
     "data": {
      "text/html": [
       "<div>\n",
       "<table border=\"1\" class=\"dataframe\">\n",
       "  <thead>\n",
       "    <tr style=\"text-align: right;\">\n",
       "      <th></th>\n",
       "      <th>year^1</th>\n",
       "      <th>Enrolment in primary education, both sexes (number)^1</th>\n",
       "      <th>Enrolment in primary education, female (number)^1</th>\n",
       "      <th>GDP at market prices (constant 2005 US$)^1</th>\n",
       "      <th>GDP at market prices (current US$)^1</th>\n",
       "      <th>GDP per capita (constant 2005 US$)^1</th>\n",
       "      <th>GDP per capita (current US$)^1</th>\n",
       "      <th>GNI (current US$)^1</th>\n",
       "      <th>GNI per capita, Atlas method (current US$)^1</th>\n",
       "      <th>Gross enrolment ratio, primary, both sexes (%)^1</th>\n",
       "      <th>...</th>\n",
       "      <th>country_Vanuatu^2</th>\n",
       "      <th>country_Vanuatu^1xcountry_Vietnam^1</th>\n",
       "      <th>country_Vanuatu^1xcountry_Zambia^1</th>\n",
       "      <th>country_Vanuatu^1xcountry_Zimbabwe^1</th>\n",
       "      <th>country_Vietnam^2</th>\n",
       "      <th>country_Vietnam^1xcountry_Zambia^1</th>\n",
       "      <th>country_Vietnam^1xcountry_Zimbabwe^1</th>\n",
       "      <th>country_Zambia^2</th>\n",
       "      <th>country_Zambia^1xcountry_Zimbabwe^1</th>\n",
       "      <th>country_Zimbabwe^2</th>\n",
       "    </tr>\n",
       "  </thead>\n",
       "  <tbody>\n",
       "    <tr>\n",
       "      <th>0</th>\n",
       "      <td>3.0</td>\n",
       "      <td>406920.0</td>\n",
       "      <td>200909.0</td>\n",
       "      <td>1.063964e+10</td>\n",
       "      <td>8.876191e+09</td>\n",
       "      <td>4943.249801</td>\n",
       "      <td>4123.939997</td>\n",
       "      <td>8.708821e+09</td>\n",
       "      <td>4120.0</td>\n",
       "      <td>108.228012</td>\n",
       "      <td>...</td>\n",
       "      <td>0.0</td>\n",
       "      <td>0.0</td>\n",
       "      <td>0.0</td>\n",
       "      <td>0.0</td>\n",
       "      <td>0.0</td>\n",
       "      <td>0.0</td>\n",
       "      <td>0.0</td>\n",
       "      <td>0.0</td>\n",
       "      <td>0.0</td>\n",
       "      <td>0.0</td>\n",
       "    </tr>\n",
       "    <tr>\n",
       "      <th>1</th>\n",
       "      <td>1.0</td>\n",
       "      <td>420665.0</td>\n",
       "      <td>205210.0</td>\n",
       "      <td>6.420870e+10</td>\n",
       "      <td>2.129391e+10</td>\n",
       "      <td>18147.884040</td>\n",
       "      <td>6018.489552</td>\n",
       "      <td>1.983712e+10</td>\n",
       "      <td>5630.0</td>\n",
       "      <td>95.102722</td>\n",
       "      <td>...</td>\n",
       "      <td>0.0</td>\n",
       "      <td>0.0</td>\n",
       "      <td>0.0</td>\n",
       "      <td>0.0</td>\n",
       "      <td>0.0</td>\n",
       "      <td>0.0</td>\n",
       "      <td>0.0</td>\n",
       "      <td>0.0</td>\n",
       "      <td>0.0</td>\n",
       "      <td>0.0</td>\n",
       "    </tr>\n",
       "    <tr>\n",
       "      <th>2</th>\n",
       "      <td>1.0</td>\n",
       "      <td>888440.0</td>\n",
       "      <td>430238.0</td>\n",
       "      <td>1.813080e+11</td>\n",
       "      <td>4.802002e+10</td>\n",
       "      <td>18321.674990</td>\n",
       "      <td>4852.565728</td>\n",
       "      <td>4.851687e+10</td>\n",
       "      <td>5130.0</td>\n",
       "      <td>105.983048</td>\n",
       "      <td>...</td>\n",
       "      <td>0.0</td>\n",
       "      <td>0.0</td>\n",
       "      <td>0.0</td>\n",
       "      <td>0.0</td>\n",
       "      <td>0.0</td>\n",
       "      <td>0.0</td>\n",
       "      <td>0.0</td>\n",
       "      <td>0.0</td>\n",
       "      <td>0.0</td>\n",
       "      <td>0.0</td>\n",
       "    </tr>\n",
       "    <tr>\n",
       "      <th>3</th>\n",
       "      <td>2.0</td>\n",
       "      <td>2820497.0</td>\n",
       "      <td>1366826.0</td>\n",
       "      <td>8.954290e+11</td>\n",
       "      <td>5.755990e+11</td>\n",
       "      <td>22995.652240</td>\n",
       "      <td>14782.038900</td>\n",
       "      <td>5.713820e+11</td>\n",
       "      <td>13720.0</td>\n",
       "      <td>105.279709</td>\n",
       "      <td>...</td>\n",
       "      <td>0.0</td>\n",
       "      <td>0.0</td>\n",
       "      <td>0.0</td>\n",
       "      <td>0.0</td>\n",
       "      <td>0.0</td>\n",
       "      <td>0.0</td>\n",
       "      <td>0.0</td>\n",
       "      <td>0.0</td>\n",
       "      <td>0.0</td>\n",
       "      <td>0.0</td>\n",
       "    </tr>\n",
       "    <tr>\n",
       "      <th>4</th>\n",
       "      <td>3.0</td>\n",
       "      <td>364263.0</td>\n",
       "      <td>161875.0</td>\n",
       "      <td>2.179437e+09</td>\n",
       "      <td>1.211162e+09</td>\n",
       "      <td>506.323083</td>\n",
       "      <td>281.375017</td>\n",
       "      <td>1.202459e+09</td>\n",
       "      <td>280.0</td>\n",
       "      <td>68.011917</td>\n",
       "      <td>...</td>\n",
       "      <td>0.0</td>\n",
       "      <td>0.0</td>\n",
       "      <td>0.0</td>\n",
       "      <td>0.0</td>\n",
       "      <td>0.0</td>\n",
       "      <td>0.0</td>\n",
       "      <td>0.0</td>\n",
       "      <td>0.0</td>\n",
       "      <td>0.0</td>\n",
       "      <td>0.0</td>\n",
       "    </tr>\n",
       "  </tbody>\n",
       "</table>\n",
       "<p>5 rows × 24975 columns</p>\n",
       "</div>"
      ],
      "text/plain": [
       "   year^1  Enrolment in primary education, both sexes (number)^1  \\\n",
       "0     3.0                                           406920.0       \n",
       "1     1.0                                           420665.0       \n",
       "2     1.0                                           888440.0       \n",
       "3     2.0                                          2820497.0       \n",
       "4     3.0                                           364263.0       \n",
       "\n",
       "   Enrolment in primary education, female (number)^1  \\\n",
       "0                                           200909.0   \n",
       "1                                           205210.0   \n",
       "2                                           430238.0   \n",
       "3                                          1366826.0   \n",
       "4                                           161875.0   \n",
       "\n",
       "   GDP at market prices (constant 2005 US$)^1  \\\n",
       "0                                1.063964e+10   \n",
       "1                                6.420870e+10   \n",
       "2                                1.813080e+11   \n",
       "3                                8.954290e+11   \n",
       "4                                2.179437e+09   \n",
       "\n",
       "   GDP at market prices (current US$)^1  GDP per capita (constant 2005 US$)^1  \\\n",
       "0                          8.876191e+09                           4943.249801   \n",
       "1                          2.129391e+10                          18147.884040   \n",
       "2                          4.802002e+10                          18321.674990   \n",
       "3                          5.755990e+11                          22995.652240   \n",
       "4                          1.211162e+09                            506.323083   \n",
       "\n",
       "   GDP per capita (current US$)^1  GNI (current US$)^1  \\\n",
       "0                     4123.939997         8.708821e+09   \n",
       "1                     6018.489552         1.983712e+10   \n",
       "2                     4852.565728         4.851687e+10   \n",
       "3                    14782.038900         5.713820e+11   \n",
       "4                      281.375017         1.202459e+09   \n",
       "\n",
       "   GNI per capita, Atlas method (current US$)^1  \\\n",
       "0                                        4120.0   \n",
       "1                                        5630.0   \n",
       "2                                        5130.0   \n",
       "3                                       13720.0   \n",
       "4                                         280.0   \n",
       "\n",
       "   Gross enrolment ratio, primary, both sexes (%)^1         ...          \\\n",
       "0                                        108.228012         ...           \n",
       "1                                         95.102722         ...           \n",
       "2                                        105.983048         ...           \n",
       "3                                        105.279709         ...           \n",
       "4                                         68.011917         ...           \n",
       "\n",
       "   country_Vanuatu^2  country_Vanuatu^1xcountry_Vietnam^1  \\\n",
       "0                0.0                                  0.0   \n",
       "1                0.0                                  0.0   \n",
       "2                0.0                                  0.0   \n",
       "3                0.0                                  0.0   \n",
       "4                0.0                                  0.0   \n",
       "\n",
       "   country_Vanuatu^1xcountry_Zambia^1  country_Vanuatu^1xcountry_Zimbabwe^1  \\\n",
       "0                                 0.0                                   0.0   \n",
       "1                                 0.0                                   0.0   \n",
       "2                                 0.0                                   0.0   \n",
       "3                                 0.0                                   0.0   \n",
       "4                                 0.0                                   0.0   \n",
       "\n",
       "   country_Vietnam^2  country_Vietnam^1xcountry_Zambia^1  \\\n",
       "0                0.0                                 0.0   \n",
       "1                0.0                                 0.0   \n",
       "2                0.0                                 0.0   \n",
       "3                0.0                                 0.0   \n",
       "4                0.0                                 0.0   \n",
       "\n",
       "   country_Vietnam^1xcountry_Zimbabwe^1  country_Zambia^2  \\\n",
       "0                                   0.0               0.0   \n",
       "1                                   0.0               0.0   \n",
       "2                                   0.0               0.0   \n",
       "3                                   0.0               0.0   \n",
       "4                                   0.0               0.0   \n",
       "\n",
       "   country_Zambia^1xcountry_Zimbabwe^1  country_Zimbabwe^2  \n",
       "0                                  0.0                 0.0  \n",
       "1                                  0.0                 0.0  \n",
       "2                                  0.0                 0.0  \n",
       "3                                  0.0                 0.0  \n",
       "4                                  0.0                 0.0  \n",
       "\n",
       "[5 rows x 24975 columns]"
      ]
     },
     "execution_count": 29,
     "metadata": {},
     "output_type": "execute_result"
    }
   ],
   "source": [
    "poly = sp.PolynomialFeatures(2, include_bias=False)\n",
    "transf_train = poly.fit_transform(train_factors)\n",
    "transf_test = poly.fit_transform(test_factors)\n",
    "target_feature_names = ['x'.join(['{}^{}'.format(pair[0],pair[1]) for pair in tuple if pair[1]!=0]) for tuple in [zip(train_factors.columns,p) for p in poly.powers_]]\n",
    "train_factors_after_extracion = (pd.DataFrame(transf_train, columns = target_feature_names))\n",
    "test_factors_after_extracion = (pd.DataFrame(transf_test, columns = target_feature_names))\n",
    "train_factors_after_extracion.head(5)"
   ]
  },
  {
   "cell_type": "markdown",
   "metadata": {},
   "source": [
    "### 6.2 Checking correlations between target and synthesized features"
   ]
  },
  {
   "cell_type": "code",
   "execution_count": 30,
   "metadata": {
    "collapsed": false
   },
   "outputs": [
    {
     "name": "stdout",
     "output_type": "stream",
     "text": [
      "There are 460 new features that are more correlative to target then old features and many other new very correlative features\n"
     ]
    },
    {
     "data": {
      "text/html": [
       "<div>\n",
       "<table border=\"1\" class=\"dataframe\">\n",
       "  <thead>\n",
       "    <tr style=\"text-align: right;\">\n",
       "      <th></th>\n",
       "      <th>Correlation to Happy Planet Index</th>\n",
       "      <th>Feature</th>\n",
       "    </tr>\n",
       "  </thead>\n",
       "  <tbody>\n",
       "    <tr>\n",
       "      <th>0</th>\n",
       "      <td>0.273763</td>\n",
       "      <td>year^1xPopulation, ages 15-64, female^1</td>\n",
       "    </tr>\n",
       "    <tr>\n",
       "      <th>1</th>\n",
       "      <td>0.273307</td>\n",
       "      <td>year^1xPopulation of the official age for uppe...</td>\n",
       "    </tr>\n",
       "    <tr>\n",
       "      <th>2</th>\n",
       "      <td>0.272771</td>\n",
       "      <td>Population, ages 15-64, female^1xTheoretical d...</td>\n",
       "    </tr>\n",
       "    <tr>\n",
       "      <th>3</th>\n",
       "      <td>0.272517</td>\n",
       "      <td>year^1xPopulation of the official age for uppe...</td>\n",
       "    </tr>\n",
       "    <tr>\n",
       "      <th>4</th>\n",
       "      <td>0.272433</td>\n",
       "      <td>GNI (current US$)^1xPopulation of the official...</td>\n",
       "    </tr>\n",
       "  </tbody>\n",
       "</table>\n",
       "</div>"
      ],
      "text/plain": [
       "   Correlation to Happy Planet Index  \\\n",
       "0                           0.273763   \n",
       "1                           0.273307   \n",
       "2                           0.272771   \n",
       "3                           0.272517   \n",
       "4                           0.272433   \n",
       "\n",
       "                                             Feature  \n",
       "0            year^1xPopulation, ages 15-64, female^1  \n",
       "1  year^1xPopulation of the official age for uppe...  \n",
       "2  Population, ages 15-64, female^1xTheoretical d...  \n",
       "3  year^1xPopulation of the official age for uppe...  \n",
       "4  GNI (current US$)^1xPopulation of the official...  "
      ]
     },
     "execution_count": 30,
     "metadata": {},
     "output_type": "execute_result"
    }
   ],
   "source": [
    "poly = sp.PolynomialFeatures(2, include_bias=False)\n",
    "transf_train = poly.fit_transform(train_factors)\n",
    "target_feature_names = ['x'.join(['{}^{}'.format(pair[0],pair[1]) for pair in tuple if pair[1]!=0]) for tuple in [zip(train_factors.columns,p) for p in poly.powers_]]\n",
    "train_factors_after_extracion = (pd.DataFrame(transf_train, columns = target_feature_names))\n",
    "\n",
    "max_corr_before = HPI_correlation['Correlation to Happy Planet Index'].iloc[0]\n",
    "HPI_correlation_feature_extraction = train_factors_after_extracion[train_factors_after_extracion.columns[:]].apply\\\n",
    "(lambda x: x.corr(train_data['Happy Planet Index'], method='spearman'))\n",
    "HPI_correlation_feature_extraction = HPI_correlation_feature_extraction.abs().sort_values(ascending=False)\n",
    "HPI_correlation_feature_extraction = pd.DataFrame({'Feature':HPI_correlation_feature_extraction.index,\\\n",
    "                                'Correlation to Happy Planet Index':HPI_correlation_feature_extraction.values})\n",
    "HPI_correlation_feature_extraction = HPI_correlation_feature_extraction.loc\\\n",
    "[(HPI_correlation_feature_extraction[\"Correlation to Happy Planet Index\"] > max_corr_before) \\\n",
    " & ((HPI_correlation_feature_extraction[\"Feature\"].str.count(\"\\^\") == 2) | ((HPI_correlation_feature_extraction[\"Feature\"].str.count(\"\\^2\") == 1)))]\n",
    "print('There are', HPI_correlation_feature_extraction.shape[0],\\\n",
    "      'new features that are more correlative to target then old features and many other new very correlative features')\n",
    "HPI_correlation_feature_extraction.head(5)"
   ]
  },
  {
   "cell_type": "markdown",
   "metadata": {},
   "source": [
    "## 7. Model - Kernel ridge regression"
   ]
  },
  {
   "cell_type": "markdown",
   "metadata": {},
   "source": [
    "#### We use this model with the kernel trick due to the positive results of section 6.2"
   ]
  },
  {
   "cell_type": "code",
   "execution_count": 31,
   "metadata": {
    "collapsed": false
   },
   "outputs": [
    {
     "name": "stdout",
     "output_type": "stream",
     "text": [
      "Please choose an option from the bar above\n"
     ]
    }
   ],
   "source": [
    "param_grid_for_kridge = {'alpha': [1e0, 1e-1, 1e-2, 1e-3, 1e-4, 1e-5, 1e-6, 1e-7, 1e-8, 1e-9, 1e-10, 1e-11, 1e-12],\\\n",
    "              'gamma': [1e0, 1e-1, 1e-2, 1e-3, 1e-4, 1e-5, 1e-6, 1e-7, 1e-8, 1e-9, 1e-10, 1e-11, 1e-12]}\n",
    "model = GridSearchCV(KernelRidge(kernel='polynomial', degree=2),\\\n",
    "                     cv=5, param_grid=param_grid_for_kridge, n_jobs=-1, verbose=1)\n",
    "\n",
    "kernel_ridge_results = dict([(data,ResultsMeasurements(button_exec.value, alternative_models[data].train_data,\\\n",
    "                                                     alternative_models[data].test_data,alternative_models[data].train_factors,\\\n",
    "                                                     alternative_models[data].test_factors,alternative_models[data].train_class,\\\n",
    "                                                     alternative_models[data].test_class,model,'kernel ridge resgression '+data))\\\n",
    "                           for data in data_types])\n",
    "tab = ResultsMeasurements.tabDisplay(kernel_ridge_results)\n",
    "tab"
   ]
  },
  {
   "cell_type": "markdown",
   "metadata": {},
   "source": [
    "## 8. Model Evaluation"
   ]
  },
  {
   "cell_type": "markdown",
   "metadata": {},
   "source": [
    "### 8.1 Linear Regression"
   ]
  },
  {
   "cell_type": "code",
   "execution_count": 32,
   "metadata": {
    "collapsed": false,
    "scrolled": true
   },
   "outputs": [
    {
     "name": "stdout",
     "output_type": "stream",
     "text": [
      "Please choose an option from the bar above\n"
     ]
    }
   ],
   "source": [
    "lr = LinearRegression()\n",
    "linear_regression_results = dict([(data,ResultsMeasurements(button_exec.value, alternative_models[data].train_data,\\\n",
    "                                                     alternative_models[data].test_data,alternative_models[data].train_factors,\\\n",
    "                                                     alternative_models[data].test_factors,alternative_models[data].train_class,\\\n",
    "                                                     alternative_models[data].test_class,lr,'linear regression '+data))\\\n",
    "                           for data in data_types])\n",
    "tab = ResultsMeasurements.tabDisplay(linear_regression_results)\n",
    "tab"
   ]
  },
  {
   "cell_type": "markdown",
   "metadata": {},
   "source": [
    "### 8.2 Ridge Regression"
   ]
  },
  {
   "cell_type": "code",
   "execution_count": 33,
   "metadata": {
    "collapsed": false
   },
   "outputs": [
    {
     "name": "stdout",
     "output_type": "stream",
     "text": [
      "Please choose an option from the bar above\n"
     ]
    }
   ],
   "source": [
    "ridge = Ridge(alpha=1.0)\n",
    "ridge_regression_results = dict([(data,ResultsMeasurements(button_exec.value, alternative_models[data].train_data,\\\n",
    "                                                     alternative_models[data].test_data,alternative_models[data].train_factors,\\\n",
    "                                                     alternative_models[data].test_factors,alternative_models[data].train_class,\\\n",
    "                                                     alternative_models[data].test_class,ridge,'ridge resgression '+data))\\\n",
    "                           for data in data_types])\n",
    "tab = ResultsMeasurements.tabDisplay(ridge_regression_results)\n",
    "tab"
   ]
  },
  {
   "cell_type": "markdown",
   "metadata": {},
   "source": [
    "### 8.3 Random Forest\n",
    "#### The Random Forest model presents better results on the data, and therefore we will use it instead of the kernel ridge"
   ]
  },
  {
   "cell_type": "code",
   "execution_count": 34,
   "metadata": {
    "collapsed": false
   },
   "outputs": [
    {
     "name": "stdout",
     "output_type": "stream",
     "text": [
      "Please choose an option from the bar above\n"
     ]
    }
   ],
   "source": [
    "param_grid_for_random_forest = {'max_features': [None, 'sqrt', 'log2'],\\\n",
    "                    'n_estimators': [500, 1000, 1500], 'max_depth': [None, 1, 5, 10, 50], 'min_samples_split':\\\n",
    "                    [2, 3, 4, 5], 'min_samples_leaf':[1, 3, 5, 7, 9]}\n",
    "clf = GridSearchCV(RandomForestRegressor(), param_grid=param_grid_for_random_forest, cv=5,\n",
    "                  n_jobs=-1, verbose=1)\n",
    "random_forest_results = dict([(data,ResultsMeasurements(button_exec.value, alternative_models[data].train_data,\\\n",
    "                                                     alternative_models[data].test_data,alternative_models[data].train_factors,\\\n",
    "                                                     alternative_models[data].test_factors,alternative_models[data].train_class,\\\n",
    "                                                     alternative_models[data].test_class,clf,'random forest resgression '+data))\\\n",
    "                           for data in data_types])\n",
    "tab = ResultsMeasurements.tabDisplay(random_forest_results)\n",
    "tab"
   ]
  },
  {
   "cell_type": "markdown",
   "metadata": {},
   "source": [
    "### 8.4 Numeric Results Comparison for all 4 models"
   ]
  },
  {
   "cell_type": "code",
   "execution_count": 35,
   "metadata": {
    "collapsed": false,
    "scrolled": true
   },
   "outputs": [
    {
     "name": "stdout",
     "output_type": "stream",
     "text": [
      "Please choose an option\n"
     ]
    }
   ],
   "source": [
    "ResultsMeasurements.compareModels(linear_regression_results, ridge_regression_results, kernel_ridge_results,random_forest_results)"
   ]
  },
  {
   "cell_type": "markdown",
   "metadata": {},
   "source": [
    "## 9. The prediction of Random Forest (elected model), on the test dataset compared to label"
   ]
  },
  {
   "cell_type": "code",
   "execution_count": 36,
   "metadata": {
    "collapsed": false
   },
   "outputs": [
    {
     "name": "stdout",
     "output_type": "stream",
     "text": [
      "Please choose an option\n"
     ]
    }
   ],
   "source": [
    "ResultsMeasurements.compareLabelPredictionOnMap(random_forest_results)"
   ]
  },
  {
   "cell_type": "markdown",
   "metadata": {},
   "source": [
    "## 10.  Types of datasets prediction comparison (for our elected model - Random Forest)"
   ]
  },
  {
   "cell_type": "code",
   "execution_count": 37,
   "metadata": {
    "collapsed": false
   },
   "outputs": [
    {
     "data": {
      "text/html": [
       "<div>\n",
       "<table border=\"1\" class=\"dataframe\">\n",
       "  <thead>\n",
       "    <tr style=\"text-align: right;\">\n",
       "      <th></th>\n",
       "      <th>parameter</th>\n",
       "      <th>main data</th>\n",
       "      <th>no countries</th>\n",
       "      <th>no years</th>\n",
       "    </tr>\n",
       "  </thead>\n",
       "  <tbody>\n",
       "    <tr>\n",
       "      <th>0</th>\n",
       "      <td>R^2 for Train data</td>\n",
       "      <td>0.967862</td>\n",
       "      <td>-0.044004</td>\n",
       "      <td>0.961483</td>\n",
       "    </tr>\n",
       "    <tr>\n",
       "      <th>1</th>\n",
       "      <td>R^2 for Test data</td>\n",
       "      <td>0.718918</td>\n",
       "      <td>-0.103774</td>\n",
       "      <td>0.448158</td>\n",
       "    </tr>\n",
       "    <tr>\n",
       "      <th>2</th>\n",
       "      <td>Mean HPI for Train data</td>\n",
       "      <td>41.055932</td>\n",
       "      <td>40.815178</td>\n",
       "      <td>41.034000</td>\n",
       "    </tr>\n",
       "    <tr>\n",
       "      <th>3</th>\n",
       "      <td>Mean prediction for Train data</td>\n",
       "      <td>41.051285</td>\n",
       "      <td>41.513766</td>\n",
       "      <td>41.014139</td>\n",
       "    </tr>\n",
       "    <tr>\n",
       "      <th>4</th>\n",
       "      <td>Mean HPI for Test data</td>\n",
       "      <td>41.364372</td>\n",
       "      <td>41.364372</td>\n",
       "      <td>41.364372</td>\n",
       "    </tr>\n",
       "    <tr>\n",
       "      <th>5</th>\n",
       "      <td>Mean prediction for Test data</td>\n",
       "      <td>41.001483</td>\n",
       "      <td>40.946224</td>\n",
       "      <td>43.033926</td>\n",
       "    </tr>\n",
       "    <tr>\n",
       "      <th>6</th>\n",
       "      <td>Error Percentage for Train data</td>\n",
       "      <td>2.444418</td>\n",
       "      <td>14.163411</td>\n",
       "      <td>2.714507</td>\n",
       "    </tr>\n",
       "    <tr>\n",
       "      <th>7</th>\n",
       "      <td>Error Percentage for Test data</td>\n",
       "      <td>7.627692</td>\n",
       "      <td>17.750404</td>\n",
       "      <td>10.303969</td>\n",
       "    </tr>\n",
       "  </tbody>\n",
       "</table>\n",
       "</div>"
      ],
      "text/plain": [
       "                         parameter  main data  no countries   no years\n",
       "0               R^2 for Train data   0.967862     -0.044004   0.961483\n",
       "1                R^2 for Test data   0.718918     -0.103774   0.448158\n",
       "2          Mean HPI for Train data  41.055932     40.815178  41.034000\n",
       "3   Mean prediction for Train data  41.051285     41.513766  41.014139\n",
       "4           Mean HPI for Test data  41.364372     41.364372  41.364372\n",
       "5    Mean prediction for Test data  41.001483     40.946224  43.033926\n",
       "6  Error Percentage for Train data   2.444418     14.163411   2.714507\n",
       "7   Error Percentage for Test data   7.627692     17.750404  10.303969"
      ]
     },
     "metadata": {},
     "output_type": "display_data"
    }
   ],
   "source": [
    "comparison_parameters = pd.DataFrame(['R^2 for Train data','R^2 for Test data','Mean HPI for Train data',\\\n",
    "                              'Mean pdataTypesrediction for Train data','Mean HPI for Test data','Mean prediction for Test data',\\\n",
    "                              'Error Percentage for Train data','Error Percentage for Test data'])\n",
    "for dataset in data_types:\n",
    "    comparison_parameters[dataset] = random_forest_results[dataset].comparison_parameters_df\n",
    "comparison_parameters.columns = ['parameter'] + data_types\n",
    "display(comparison_parameters.head(10))"
   ]
  },
  {
   "cell_type": "code",
   "execution_count": null,
   "metadata": {
    "collapsed": true
   },
   "outputs": [],
   "source": []
  }
 ],
 "metadata": {
  "anaconda-cloud": {},
  "kernelspec": {
   "display_name": "Python [conda root]",
   "language": "python",
   "name": "conda-root-py"
  },
  "language_info": {
   "codemirror_mode": {
    "name": "ipython",
    "version": 3
   },
   "file_extension": ".py",
   "mimetype": "text/x-python",
   "name": "python",
   "nbconvert_exporter": "python",
   "pygments_lexer": "ipython3",
   "version": "3.5.2"
  },
  "widgets": {
   "state": {
    "01ec7341538b458b99286e2dc8e93603": {
     "views": [
      {
       "cell_index": 3
      }
     ]
    },
    "03165cc850f14f54beb20b4441844841": {
     "views": [
      {
       "cell_index": 80
      }
     ]
    },
    "04c70220cb614948a97e7e23b696b9d5": {
     "views": [
      {
       "cell_index": 57
      }
     ]
    },
    "0704ad3d304b4d93a6171c021d833a32": {
     "views": [
      {
       "cell_index": 25
      }
     ]
    },
    "0d0502aef8a647ebb09c17ba2b7a6651": {
     "views": [
      {
       "cell_index": 3
      }
     ]
    },
    "0e4cb1741f5d458e95300d05bed61446": {
     "views": [
      {
       "cell_index": 3
      }
     ]
    },
    "1198097f54be4737ad93d8057b695ca3": {
     "views": [
      {
       "cell_index": 3
      }
     ]
    },
    "1229927a413b47d089cb8603c0d674b5": {
     "views": [
      {
       "cell_index": 54
      }
     ]
    },
    "1260cc0258df484a802bfa1f117a4979": {
     "views": [
      {
       "cell_index": 3
      }
     ]
    },
    "16e6b095083441359fd493daf91dd463": {
     "views": [
      {
       "cell_index": 3
      }
     ]
    },
    "1a9a6d11b423452eabca95d9d421524f": {
     "views": [
      {
       "cell_index": 74
      }
     ]
    },
    "1f94f4322d544bc69ca0593f15a7def4": {
     "views": [
      {
       "cell_index": 59
      }
     ]
    },
    "20782d0aea2d4da1bdc35e64cfb32074": {
     "views": [
      {
       "cell_index": 3
      }
     ]
    },
    "20d15d39009e4f1784c098c5a4a3d4c1": {
     "views": [
      {
       "cell_index": 59
      }
     ]
    },
    "2286976dd9f14df589fc75cc707bbdb6": {
     "views": [
      {
       "cell_index": 47
      }
     ]
    },
    "235c48e0eddc4a61b55da42636d4337f": {
     "views": [
      {
       "cell_index": 80
      }
     ]
    },
    "240a1a98bb5c4ea09049b038df745401": {
     "views": [
      {
       "cell_index": 47
      }
     ]
    },
    "2a5ebcaa2a004746b5fdda8498428269": {
     "views": [
      {
       "cell_index": 3
      }
     ]
    },
    "2bae79ec1f1c43c4bc185c9f22227732": {
     "views": [
      {
       "cell_index": 44
      }
     ]
    },
    "2dd73acceaaf4761a58f6675c2b4f437": {
     "views": [
      {
       "cell_index": 47
      }
     ]
    },
    "3054e0b14c42499fae528e9ff1f1f3d1": {
     "views": [
      {
       "cell_index": 59
      }
     ]
    },
    "323a78f708824dc98910a0ff7952791f": {
     "views": [
      {
       "cell_index": 57
      }
     ]
    },
    "3fb96395b3714a9987d6fa2ce4e17fc3": {
     "views": [
      {
       "cell_index": 3
      }
     ]
    },
    "41735ac2fd6f4db08549592239eb6a74": {
     "views": [
      {
       "cell_index": 3
      }
     ]
    },
    "450639f132f54325a51a8677814c6b5e": {
     "views": [
      {
       "cell_index": 57
      }
     ]
    },
    "475f56381a314d1f83f77ab11219bbee": {
     "views": [
      {
       "cell_index": 3
      }
     ]
    },
    "4b9254b818b54432bbf7ff87b878b9e7": {
     "views": [
      {
       "cell_index": 59
      }
     ]
    },
    "4f486550176d46079f2db7648708db1c": {
     "views": [
      {
       "cell_index": 61
      }
     ]
    },
    "535df90df15041ffa21dd6b05cdb4656": {
     "views": [
      {
       "cell_index": 47
      }
     ]
    },
    "547994400d36495bafc63116f910b5b1": {
     "views": [
      {
       "cell_index": 49
      }
     ]
    },
    "54a4144c399546efba4a319ce32b8da3": {
     "views": [
      {
       "cell_index": 52
      }
     ]
    },
    "59783320c72d49e4ba45c56437c76560": {
     "views": [
      {
       "cell_index": 3
      }
     ]
    },
    "5a95f81f5c344b309bb56bd62c3f4b60": {
     "views": [
      {
       "cell_index": 3
      }
     ]
    },
    "5fad4587d7b24e20ae440246e0dcbfb3": {
     "views": [
      {
       "cell_index": 59
      }
     ]
    },
    "623e18ca048447eebe2347c1a9a23e4f": {
     "views": [
      {
       "cell_index": 49
      }
     ]
    },
    "634885f3f30d4b84a6a4cfd7910b8134": {
     "views": [
      {
       "cell_index": 49
      }
     ]
    },
    "65ab0a0eb55d4151a4fa048af493de74": {
     "views": [
      {
       "cell_index": 57
      }
     ]
    },
    "675858fde4424812878e91f42aa3fefd": {
     "views": [
      {
       "cell_index": 3
      }
     ]
    },
    "6a41ddf180d64a3981ddcf43204201f2": {
     "views": [
      {
       "cell_index": 57
      }
     ]
    },
    "6b6c8d8a29604b119423f478d325be14": {
     "views": [
      {
       "cell_index": 47
      }
     ]
    },
    "6df1c5715a0c45a4924ecd0d3c30927a": {
     "views": [
      {
       "cell_index": 80
      }
     ]
    },
    "74149c7c86af43529489fbe56fcf241c": {
     "views": [
      {
       "cell_index": 3
      }
     ]
    },
    "7f8a8ba147e745f3b0c75bdab6ae7cc4": {
     "views": [
      {
       "cell_index": 56
      }
     ]
    },
    "8022a44c615e48f795d7e24f8e189ca3": {
     "views": [
      {
       "cell_index": 3
      }
     ]
    },
    "808d30c0ffa940dba1c155926e15826f": {
     "views": [
      {
       "cell_index": 47
      }
     ]
    },
    "845fdf134fd945529eebbedbe421ca93": {
     "views": [
      {
       "cell_index": 82
      }
     ]
    },
    "873c5869517c4266bc5beb05941129fe": {
     "views": [
      {
       "cell_index": 3
      }
     ]
    },
    "897afb32ab92444f81e7117d15aea0fe": {
     "views": [
      {
       "cell_index": 49
      }
     ]
    },
    "8a280b8aab67462990f782cb94986c93": {
     "views": [
      {
       "cell_index": 3
      }
     ]
    },
    "8c3ad8e3b6f34a5cbc878ec2fdee4ca1": {
     "views": [
      {
       "cell_index": 76
      }
     ]
    },
    "90d654fd11c241518f14c4ff08fb1e64": {
     "views": [
      {
       "cell_index": 3
      }
     ]
    },
    "96cee06f4a56427f8f845522d33d27b0": {
     "views": [
      {
       "cell_index": 3
      }
     ]
    },
    "97764007d5b1425ea8606f695b70b6a1": {
     "views": [
      {
       "cell_index": 57
      }
     ]
    },
    "988eba41e7764f80816fb4c286037f28": {
     "views": [
      {
       "cell_index": 47
      }
     ]
    },
    "9bf217f772c6472a9a9cdef14759480c": {
     "views": [
      {
       "cell_index": 3
      }
     ]
    },
    "a0d06d23e8c14e35963926c407dbd667": {
     "views": [
      {
       "cell_index": 3
      }
     ]
    },
    "a171d3d5c3db49308ac10b4d8b1b26e6": {
     "views": [
      {
       "cell_index": 3
      }
     ]
    },
    "a666ba28badf46daac674ace077565e5": {
     "views": [
      {
       "cell_index": 3
      }
     ]
    },
    "a88a71c64a09491c9ba8d02e10041b13": {
     "views": [
      {
       "cell_index": 3
      }
     ]
    },
    "abc73ef2e7ff4f2db826aa39f52df02c": {
     "views": [
      {
       "cell_index": 25
      }
     ]
    },
    "ad9491dec5184e48a1169b516fe703d4": {
     "views": [
      {
       "cell_index": 80
      }
     ]
    },
    "b14f1d0f8a8347628d4a26ec887f2534": {
     "views": [
      {
       "cell_index": 3
      }
     ]
    },
    "b1fb85c6763d4e8b92cba7cb2414e721": {
     "views": [
      {
       "cell_index": 3
      }
     ]
    },
    "b8e1475496704438bc1f08f100a52b99": {
     "views": [
      {
       "cell_index": 3
      }
     ]
    },
    "bad8da11f1214c4fa029d2f4422cb691": {
     "views": [
      {
       "cell_index": 3
      }
     ]
    },
    "be0074d03ba745e0bb7f7aa1345c17ba": {
     "views": [
      {
       "cell_index": 49
      }
     ]
    },
    "c1f6af7248d7434592369b76ffe0f63d": {
     "views": [
      {
       "cell_index": 57
      }
     ]
    },
    "c2b75275d3974f809d1f75a7d5a3658b": {
     "views": [
      {
       "cell_index": 3
      }
     ]
    },
    "c323332d80294013959ece97d8fe8716": {
     "views": [
      {
       "cell_index": 47
      }
     ]
    },
    "c989618ece314931999a3f11547606de": {
     "views": [
      {
       "cell_index": 59
      }
     ]
    },
    "d0b2cb1427f642c586637f7488792da2": {
     "views": [
      {
       "cell_index": 78
      }
     ]
    },
    "d19e98e4ddc2481ab2185b7845895f1a": {
     "views": [
      {
       "cell_index": 3
      }
     ]
    },
    "d233ece9e4eb4505883476b0c1f02be3": {
     "views": [
      {
       "cell_index": 3
      }
     ]
    },
    "d57a23c6345e4410b55cf806e16c892f": {
     "views": [
      {
       "cell_index": 3
      }
     ]
    },
    "d61a014e36b14b52a771fe763c049555": {
     "views": [
      {
       "cell_index": 57
      }
     ]
    },
    "d74799839775403d9d884a627dc400e2": {
     "views": [
      {
       "cell_index": 3
      }
     ]
    },
    "dbdd542a20bb47d3b478bd8970f759fd": {
     "views": [
      {
       "cell_index": 71
      }
     ]
    },
    "e341c46e82f04901b014c198a08a8717": {
     "views": [
      {
       "cell_index": 3
      }
     ]
    },
    "e854d53a8d1d43228313e9ac60028cac": {
     "views": [
      {
       "cell_index": 3
      }
     ]
    },
    "ea3127ba925843bab6a1366e1e306230": {
     "views": [
      {
       "cell_index": 57
      }
     ]
    },
    "ea9e3fafd54e4f1b88959283179ca59b": {
     "views": [
      {
       "cell_index": 3
      }
     ]
    },
    "eab40000a1734fa5b3d2801017f3275f": {
     "views": [
      {
       "cell_index": 3
      }
     ]
    },
    "ec00f15a9ec146d7baa12c5be7664ed2": {
     "views": [
      {
       "cell_index": 3
      }
     ]
    },
    "efcc3af214ed4208a0859306a935947d": {
     "views": [
      {
       "cell_index": 3
      }
     ]
    },
    "f19f1f0077ca4f159f706418367e8a32": {
     "views": [
      {
       "cell_index": 25
      }
     ]
    },
    "f3d73b35bfa34e9faad6fbb04e61c46e": {
     "views": [
      {
       "cell_index": 3
      }
     ]
    },
    "f542d38497b345ab9f3326d0d90764b4": {
     "views": [
      {
       "cell_index": 3
      }
     ]
    },
    "f7ff3ede4ab24ebea1edb6a954cc87cb": {
     "views": [
      {
       "cell_index": 49
      }
     ]
    },
    "fad47aa0b45a493cbc32b84f74b982aa": {
     "views": [
      {
       "cell_index": 47
      }
     ]
    },
    "fdd4b4b319b1471e8a5c4fe4e0412647": {
     "views": [
      {
       "cell_index": 3
      }
     ]
    },
    "fe4c4bd4c32544ed890e9c3fdcec2c4f": {
     "views": [
      {
       "cell_index": 3
      }
     ]
    },
    "fecdf562337f4f3c80c94e2c32c2da9b": {
     "views": [
      {
       "cell_index": 47
      }
     ]
    }
   },
   "version": "1.2.0"
  }
 },
 "nbformat": 4,
 "nbformat_minor": 0
}
