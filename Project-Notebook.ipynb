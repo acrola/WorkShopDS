{
 "cells": [
  {
   "cell_type": "markdown",
   "metadata": {},
   "source": [
    "# Education and Economic Factors as a Happiness predictors"
   ]
  },
  {
   "cell_type": "markdown",
   "metadata": {
    "slideshow": {
     "slide_type": "slide"
    }
   },
   "source": [
    "## 1. Data preparation and cleaning"
   ]
  },
  {
   "cell_type": "markdown",
   "metadata": {},
   "source": [
    "### 1.1 Import Utilities Library\n",
    "\n",
    "##### Click \"Run long executions\" for dataset file prepararion and model training\n",
    "##### Click \"Don't show plots\" for disabling graphics\n",
    "##### Click \"Delete offline plots\" for deleting all offline plots"
   ]
  },
  {
   "cell_type": "code",
   "execution_count": 1,
   "metadata": {
    "collapsed": false
   },
   "outputs": [],
   "source": [
    "%matplotlib inline\n",
    "from utilities import *"
   ]
  },
  {
   "cell_type": "markdown",
   "metadata": {},
   "source": [
    "### 1.2 Obtaining the Dataset file"
   ]
  },
  {
   "cell_type": "code",
   "execution_count": 2,
   "metadata": {
    "collapsed": false
   },
   "outputs": [],
   "source": [
    "if not button_exec.value:\n",
    "    DataPreparation.obtainDataFromLocalDBs()"
   ]
  },
  {
   "cell_type": "markdown",
   "metadata": {},
   "source": [
    "### 1.3 Loading the Dataset file"
   ]
  },
  {
   "cell_type": "code",
   "execution_count": 3,
   "metadata": {
    "collapsed": false
   },
   "outputs": [
    {
     "data": {
      "text/html": [
       "<div>\n",
       "<table border=\"1\" class=\"dataframe\">\n",
       "  <thead>\n",
       "    <tr style=\"text-align: right;\">\n",
       "      <th></th>\n",
       "      <th>country</th>\n",
       "      <th>year</th>\n",
       "      <th>Adjusted net enrolment rate, lower secondary, both sexes (%)</th>\n",
       "      <th>Adjusted net enrolment rate, lower secondary, female (%)</th>\n",
       "      <th>Adjusted net enrolment rate, lower secondary, gender parity index (GPI)</th>\n",
       "      <th>Adjusted net enrolment rate, lower secondary, male (%)</th>\n",
       "      <th>Adjusted net enrolment rate, primary, both sexes (%)</th>\n",
       "      <th>Adjusted net enrolment rate, primary, female (%)</th>\n",
       "      <th>Adjusted net enrolment rate, primary, gender parity index (GPI)</th>\n",
       "      <th>Adjusted net enrolment rate, primary, male (%)</th>\n",
       "      <th>...</th>\n",
       "      <th>Wittgenstein Projection: Population in thousands by highest level of educational attainment. Upper Secondary. Total</th>\n",
       "      <th>Youth illiterate population, 15-24 years, % female</th>\n",
       "      <th>Youth illiterate population, 15-24 years, both sexes (number)</th>\n",
       "      <th>Youth illiterate population, 15-24 years, female (number)</th>\n",
       "      <th>Youth illiterate population, 15-24 years, male (number)</th>\n",
       "      <th>Youth literacy rate, population 15-24 years, both sexes (%)</th>\n",
       "      <th>Youth literacy rate, population 15-24 years, female (%)</th>\n",
       "      <th>Youth literacy rate, population 15-24 years, gender parity index (GPI)</th>\n",
       "      <th>Youth literacy rate, population 15-24 years, male (%)</th>\n",
       "      <th>Happy Planet Index</th>\n",
       "    </tr>\n",
       "  </thead>\n",
       "  <tbody>\n",
       "    <tr>\n",
       "      <th>0</th>\n",
       "      <td>Afghanistan</td>\n",
       "      <td>2012.0</td>\n",
       "      <td>NaN</td>\n",
       "      <td>NaN</td>\n",
       "      <td>NaN</td>\n",
       "      <td>NaN</td>\n",
       "      <td>NaN</td>\n",
       "      <td>NaN</td>\n",
       "      <td>NaN</td>\n",
       "      <td>NaN</td>\n",
       "      <td>...</td>\n",
       "      <td>NaN</td>\n",
       "      <td>NaN</td>\n",
       "      <td>NaN</td>\n",
       "      <td>NaN</td>\n",
       "      <td>NaN</td>\n",
       "      <td>NaN</td>\n",
       "      <td>NaN</td>\n",
       "      <td>NaN</td>\n",
       "      <td>NaN</td>\n",
       "      <td>36.8</td>\n",
       "    </tr>\n",
       "    <tr>\n",
       "      <th>1</th>\n",
       "      <td>Afghanistan</td>\n",
       "      <td>2016.0</td>\n",
       "      <td>NaN</td>\n",
       "      <td>NaN</td>\n",
       "      <td>NaN</td>\n",
       "      <td>NaN</td>\n",
       "      <td>NaN</td>\n",
       "      <td>NaN</td>\n",
       "      <td>NaN</td>\n",
       "      <td>NaN</td>\n",
       "      <td>...</td>\n",
       "      <td>NaN</td>\n",
       "      <td>NaN</td>\n",
       "      <td>NaN</td>\n",
       "      <td>NaN</td>\n",
       "      <td>NaN</td>\n",
       "      <td>NaN</td>\n",
       "      <td>NaN</td>\n",
       "      <td>NaN</td>\n",
       "      <td>NaN</td>\n",
       "      <td>20.2</td>\n",
       "    </tr>\n",
       "    <tr>\n",
       "      <th>2</th>\n",
       "      <td>Albania</td>\n",
       "      <td>2006.0</td>\n",
       "      <td>NaN</td>\n",
       "      <td>NaN</td>\n",
       "      <td>NaN</td>\n",
       "      <td>NaN</td>\n",
       "      <td>NaN</td>\n",
       "      <td>NaN</td>\n",
       "      <td>NaN</td>\n",
       "      <td>NaN</td>\n",
       "      <td>...</td>\n",
       "      <td>NaN</td>\n",
       "      <td>NaN</td>\n",
       "      <td>NaN</td>\n",
       "      <td>NaN</td>\n",
       "      <td>NaN</td>\n",
       "      <td>NaN</td>\n",
       "      <td>NaN</td>\n",
       "      <td>NaN</td>\n",
       "      <td>NaN</td>\n",
       "      <td>42.1</td>\n",
       "    </tr>\n",
       "    <tr>\n",
       "      <th>3</th>\n",
       "      <td>Albania</td>\n",
       "      <td>2009.0</td>\n",
       "      <td>NaN</td>\n",
       "      <td>NaN</td>\n",
       "      <td>NaN</td>\n",
       "      <td>NaN</td>\n",
       "      <td>89.393333</td>\n",
       "      <td>88.698219</td>\n",
       "      <td>0.98508</td>\n",
       "      <td>90.041763</td>\n",
       "      <td>...</td>\n",
       "      <td>NaN</td>\n",
       "      <td>NaN</td>\n",
       "      <td>NaN</td>\n",
       "      <td>NaN</td>\n",
       "      <td>NaN</td>\n",
       "      <td>NaN</td>\n",
       "      <td>NaN</td>\n",
       "      <td>NaN</td>\n",
       "      <td>NaN</td>\n",
       "      <td>47.9</td>\n",
       "    </tr>\n",
       "    <tr>\n",
       "      <th>4</th>\n",
       "      <td>Albania</td>\n",
       "      <td>2012.0</td>\n",
       "      <td>NaN</td>\n",
       "      <td>NaN</td>\n",
       "      <td>NaN</td>\n",
       "      <td>NaN</td>\n",
       "      <td>96.137093</td>\n",
       "      <td>95.353287</td>\n",
       "      <td>0.98445</td>\n",
       "      <td>96.859650</td>\n",
       "      <td>...</td>\n",
       "      <td>NaN</td>\n",
       "      <td>58.875946</td>\n",
       "      <td>4302.0</td>\n",
       "      <td>2533.0</td>\n",
       "      <td>1769.0</td>\n",
       "      <td>99.2314</td>\n",
       "      <td>99.020187</td>\n",
       "      <td>0.99642</td>\n",
       "      <td>99.375977</td>\n",
       "      <td>54.1</td>\n",
       "    </tr>\n",
       "  </tbody>\n",
       "</table>\n",
       "<p>5 rows × 3624 columns</p>\n",
       "</div>"
      ],
      "text/plain": [
       "       country    year  \\\n",
       "0  Afghanistan  2012.0   \n",
       "1  Afghanistan  2016.0   \n",
       "2      Albania  2006.0   \n",
       "3      Albania  2009.0   \n",
       "4      Albania  2012.0   \n",
       "\n",
       "   Adjusted net enrolment rate, lower secondary, both sexes (%)  \\\n",
       "0                                                NaN              \n",
       "1                                                NaN              \n",
       "2                                                NaN              \n",
       "3                                                NaN              \n",
       "4                                                NaN              \n",
       "\n",
       "   Adjusted net enrolment rate, lower secondary, female (%)  \\\n",
       "0                                                NaN          \n",
       "1                                                NaN          \n",
       "2                                                NaN          \n",
       "3                                                NaN          \n",
       "4                                                NaN          \n",
       "\n",
       "   Adjusted net enrolment rate, lower secondary, gender parity index (GPI)  \\\n",
       "0                                                NaN                         \n",
       "1                                                NaN                         \n",
       "2                                                NaN                         \n",
       "3                                                NaN                         \n",
       "4                                                NaN                         \n",
       "\n",
       "   Adjusted net enrolment rate, lower secondary, male (%)  \\\n",
       "0                                                NaN        \n",
       "1                                                NaN        \n",
       "2                                                NaN        \n",
       "3                                                NaN        \n",
       "4                                                NaN        \n",
       "\n",
       "   Adjusted net enrolment rate, primary, both sexes (%)  \\\n",
       "0                                                NaN      \n",
       "1                                                NaN      \n",
       "2                                                NaN      \n",
       "3                                          89.393333      \n",
       "4                                          96.137093      \n",
       "\n",
       "   Adjusted net enrolment rate, primary, female (%)  \\\n",
       "0                                               NaN   \n",
       "1                                               NaN   \n",
       "2                                               NaN   \n",
       "3                                         88.698219   \n",
       "4                                         95.353287   \n",
       "\n",
       "   Adjusted net enrolment rate, primary, gender parity index (GPI)  \\\n",
       "0                                                NaN                 \n",
       "1                                                NaN                 \n",
       "2                                                NaN                 \n",
       "3                                            0.98508                 \n",
       "4                                            0.98445                 \n",
       "\n",
       "   Adjusted net enrolment rate, primary, male (%)         ...          \\\n",
       "0                                             NaN         ...           \n",
       "1                                             NaN         ...           \n",
       "2                                             NaN         ...           \n",
       "3                                       90.041763         ...           \n",
       "4                                       96.859650         ...           \n",
       "\n",
       "   Wittgenstein Projection: Population in thousands by highest level of educational attainment. Upper Secondary. Total  \\\n",
       "0                                                NaN                                                                     \n",
       "1                                                NaN                                                                     \n",
       "2                                                NaN                                                                     \n",
       "3                                                NaN                                                                     \n",
       "4                                                NaN                                                                     \n",
       "\n",
       "   Youth illiterate population, 15-24 years, % female  \\\n",
       "0                                                NaN    \n",
       "1                                                NaN    \n",
       "2                                                NaN    \n",
       "3                                                NaN    \n",
       "4                                          58.875946    \n",
       "\n",
       "   Youth illiterate population, 15-24 years, both sexes (number)  \\\n",
       "0                                                NaN               \n",
       "1                                                NaN               \n",
       "2                                                NaN               \n",
       "3                                                NaN               \n",
       "4                                             4302.0               \n",
       "\n",
       "   Youth illiterate population, 15-24 years, female (number)  \\\n",
       "0                                                NaN           \n",
       "1                                                NaN           \n",
       "2                                                NaN           \n",
       "3                                                NaN           \n",
       "4                                             2533.0           \n",
       "\n",
       "   Youth illiterate population, 15-24 years, male (number)  \\\n",
       "0                                                NaN         \n",
       "1                                                NaN         \n",
       "2                                                NaN         \n",
       "3                                                NaN         \n",
       "4                                             1769.0         \n",
       "\n",
       "   Youth literacy rate, population 15-24 years, both sexes (%)  \\\n",
       "0                                                NaN             \n",
       "1                                                NaN             \n",
       "2                                                NaN             \n",
       "3                                                NaN             \n",
       "4                                            99.2314             \n",
       "\n",
       "   Youth literacy rate, population 15-24 years, female (%)  \\\n",
       "0                                                NaN         \n",
       "1                                                NaN         \n",
       "2                                                NaN         \n",
       "3                                                NaN         \n",
       "4                                          99.020187         \n",
       "\n",
       "   Youth literacy rate, population 15-24 years, gender parity index (GPI)  \\\n",
       "0                                                NaN                        \n",
       "1                                                NaN                        \n",
       "2                                                NaN                        \n",
       "3                                                NaN                        \n",
       "4                                            0.99642                        \n",
       "\n",
       "   Youth literacy rate, population 15-24 years, male (%)  Happy Planet Index  \n",
       "0                                                NaN                    36.8  \n",
       "1                                                NaN                    20.2  \n",
       "2                                                NaN                    42.1  \n",
       "3                                                NaN                    47.9  \n",
       "4                                          99.375977                    54.1  \n",
       "\n",
       "[5 rows x 3624 columns]"
      ]
     },
     "execution_count": 3,
     "metadata": {},
     "output_type": "execute_result"
    }
   ],
   "source": [
    "overall_data = pd.read_csv(DataPreparation.retriveMergedFilePath(),\\\n",
    "                           header=0, index_col=0, skiprows=0, encoding='iso-8859-1')\n",
    "overall_data.head(5)"
   ]
  },
  {
   "cell_type": "markdown",
   "metadata": {},
   "source": [
    "### 1.4 Drop columns and rows with %(nulls)>80%"
   ]
  },
  {
   "cell_type": "code",
   "execution_count": 4,
   "metadata": {
    "collapsed": false
   },
   "outputs": [
    {
     "data": {
      "text/html": [
       "<div>\n",
       "<table border=\"1\" class=\"dataframe\">\n",
       "  <thead>\n",
       "    <tr style=\"text-align: right;\">\n",
       "      <th></th>\n",
       "      <th>country</th>\n",
       "      <th>year</th>\n",
       "      <th>Enrolment in primary education, both sexes (number)</th>\n",
       "      <th>Enrolment in primary education, female (number)</th>\n",
       "      <th>GDP at market prices (constant 2005 US$)</th>\n",
       "      <th>GDP at market prices (current US$)</th>\n",
       "      <th>GDP per capita (constant 2005 US$)</th>\n",
       "      <th>GDP per capita (current US$)</th>\n",
       "      <th>GNI (current US$)</th>\n",
       "      <th>GNI per capita, Atlas method (current US$)</th>\n",
       "      <th>...</th>\n",
       "      <th>Population, male (% of total)</th>\n",
       "      <th>Population, total</th>\n",
       "      <th>School life expectancy, primary, both sexes (years)</th>\n",
       "      <th>School life expectancy, primary, female (years)</th>\n",
       "      <th>School life expectancy, primary, gender parity index (GPI)</th>\n",
       "      <th>School life expectancy, primary, male (years)</th>\n",
       "      <th>Theoretical duration of pre-primary education (years)</th>\n",
       "      <th>Theoretical duration of primary education (years)</th>\n",
       "      <th>Theoretical duration of secondary education (years)</th>\n",
       "      <th>Happy Planet Index</th>\n",
       "    </tr>\n",
       "  </thead>\n",
       "  <tbody>\n",
       "    <tr>\n",
       "      <th>0</th>\n",
       "      <td>Afghanistan</td>\n",
       "      <td>2012.0</td>\n",
       "      <td>5767543.0</td>\n",
       "      <td>2348306.0</td>\n",
       "      <td>1.935220e+10</td>\n",
       "      <td>2.053654e+10</td>\n",
       "      <td>651.001852</td>\n",
       "      <td>690.842629</td>\n",
       "      <td>2.157185e+10</td>\n",
       "      <td>720.0</td>\n",
       "      <td>...</td>\n",
       "      <td>51.435962</td>\n",
       "      <td>29726803.0</td>\n",
       "      <td>6.53571</td>\n",
       "      <td>5.47000</td>\n",
       "      <td>0.72495</td>\n",
       "      <td>7.54532</td>\n",
       "      <td>4.0</td>\n",
       "      <td>6.0</td>\n",
       "      <td>6.0</td>\n",
       "      <td>36.8</td>\n",
       "    </tr>\n",
       "    <tr>\n",
       "      <th>2</th>\n",
       "      <td>Albania</td>\n",
       "      <td>2006.0</td>\n",
       "      <td>222402.0</td>\n",
       "      <td>107004.0</td>\n",
       "      <td>9.771760e+09</td>\n",
       "      <td>8.992642e+09</td>\n",
       "      <td>3265.365622</td>\n",
       "      <td>3005.012903</td>\n",
       "      <td>9.254605e+09</td>\n",
       "      <td>3090.0</td>\n",
       "      <td>...</td>\n",
       "      <td>50.260019</td>\n",
       "      <td>2992547.0</td>\n",
       "      <td>3.98375</td>\n",
       "      <td>3.97433</td>\n",
       "      <td>0.99544</td>\n",
       "      <td>3.99253</td>\n",
       "      <td>3.0</td>\n",
       "      <td>4.0</td>\n",
       "      <td>8.0</td>\n",
       "      <td>42.1</td>\n",
       "    </tr>\n",
       "    <tr>\n",
       "      <th>3</th>\n",
       "      <td>Albania</td>\n",
       "      <td>2009.0</td>\n",
       "      <td>236102.0</td>\n",
       "      <td>112399.0</td>\n",
       "      <td>1.150029e+10</td>\n",
       "      <td>1.204421e+10</td>\n",
       "      <td>3928.340828</td>\n",
       "      <td>4114.136545</td>\n",
       "      <td>1.185274e+10</td>\n",
       "      <td>4280.0</td>\n",
       "      <td>...</td>\n",
       "      <td>50.432577</td>\n",
       "      <td>2927519.0</td>\n",
       "      <td>4.80613</td>\n",
       "      <td>4.74382</td>\n",
       "      <td>0.97524</td>\n",
       "      <td>4.86425</td>\n",
       "      <td>3.0</td>\n",
       "      <td>5.0</td>\n",
       "      <td>7.0</td>\n",
       "      <td>47.9</td>\n",
       "    </tr>\n",
       "    <tr>\n",
       "      <th>4</th>\n",
       "      <td>Albania</td>\n",
       "      <td>2012.0</td>\n",
       "      <td>206617.0</td>\n",
       "      <td>97583.0</td>\n",
       "      <td>1.240477e+10</td>\n",
       "      <td>1.231978e+10</td>\n",
       "      <td>4277.143310</td>\n",
       "      <td>4247.839852</td>\n",
       "      <td>1.222802e+10</td>\n",
       "      <td>4360.0</td>\n",
       "      <td>...</td>\n",
       "      <td>50.128703</td>\n",
       "      <td>2900247.0</td>\n",
       "      <td>5.16259</td>\n",
       "      <td>5.09023</td>\n",
       "      <td>0.97326</td>\n",
       "      <td>5.23009</td>\n",
       "      <td>3.0</td>\n",
       "      <td>5.0</td>\n",
       "      <td>7.0</td>\n",
       "      <td>54.1</td>\n",
       "    </tr>\n",
       "    <tr>\n",
       "      <th>6</th>\n",
       "      <td>Algeria</td>\n",
       "      <td>2006.0</td>\n",
       "      <td>4196580.0</td>\n",
       "      <td>1973901.0</td>\n",
       "      <td>1.446470e+11</td>\n",
       "      <td>1.170270e+11</td>\n",
       "      <td>4285.934521</td>\n",
       "      <td>3467.544740</td>\n",
       "      <td>1.126050e+11</td>\n",
       "      <td>3100.0</td>\n",
       "      <td>...</td>\n",
       "      <td>50.489699</td>\n",
       "      <td>33749328.0</td>\n",
       "      <td>6.40438</td>\n",
       "      <td>6.17532</td>\n",
       "      <td>0.93223</td>\n",
       "      <td>6.62422</td>\n",
       "      <td>1.0</td>\n",
       "      <td>6.0</td>\n",
       "      <td>6.0</td>\n",
       "      <td>45.9</td>\n",
       "    </tr>\n",
       "  </tbody>\n",
       "</table>\n",
       "<p>5 rows × 67 columns</p>\n",
       "</div>"
      ],
      "text/plain": [
       "       country    year  Enrolment in primary education, both sexes (number)  \\\n",
       "0  Afghanistan  2012.0                                          5767543.0     \n",
       "2      Albania  2006.0                                           222402.0     \n",
       "3      Albania  2009.0                                           236102.0     \n",
       "4      Albania  2012.0                                           206617.0     \n",
       "6      Algeria  2006.0                                          4196580.0     \n",
       "\n",
       "   Enrolment in primary education, female (number)  \\\n",
       "0                                        2348306.0   \n",
       "2                                         107004.0   \n",
       "3                                         112399.0   \n",
       "4                                          97583.0   \n",
       "6                                        1973901.0   \n",
       "\n",
       "   GDP at market prices (constant 2005 US$)  \\\n",
       "0                              1.935220e+10   \n",
       "2                              9.771760e+09   \n",
       "3                              1.150029e+10   \n",
       "4                              1.240477e+10   \n",
       "6                              1.446470e+11   \n",
       "\n",
       "   GDP at market prices (current US$)  GDP per capita (constant 2005 US$)  \\\n",
       "0                        2.053654e+10                          651.001852   \n",
       "2                        8.992642e+09                         3265.365622   \n",
       "3                        1.204421e+10                         3928.340828   \n",
       "4                        1.231978e+10                         4277.143310   \n",
       "6                        1.170270e+11                         4285.934521   \n",
       "\n",
       "   GDP per capita (current US$)  GNI (current US$)  \\\n",
       "0                    690.842629       2.157185e+10   \n",
       "2                   3005.012903       9.254605e+09   \n",
       "3                   4114.136545       1.185274e+10   \n",
       "4                   4247.839852       1.222802e+10   \n",
       "6                   3467.544740       1.126050e+11   \n",
       "\n",
       "   GNI per capita, Atlas method (current US$)         ...          \\\n",
       "0                                       720.0         ...           \n",
       "2                                      3090.0         ...           \n",
       "3                                      4280.0         ...           \n",
       "4                                      4360.0         ...           \n",
       "6                                      3100.0         ...           \n",
       "\n",
       "   Population, male (% of total)  Population, total  \\\n",
       "0                      51.435962         29726803.0   \n",
       "2                      50.260019          2992547.0   \n",
       "3                      50.432577          2927519.0   \n",
       "4                      50.128703          2900247.0   \n",
       "6                      50.489699         33749328.0   \n",
       "\n",
       "   School life expectancy, primary, both sexes (years)  \\\n",
       "0                                            6.53571     \n",
       "2                                            3.98375     \n",
       "3                                            4.80613     \n",
       "4                                            5.16259     \n",
       "6                                            6.40438     \n",
       "\n",
       "   School life expectancy, primary, female (years)  \\\n",
       "0                                          5.47000   \n",
       "2                                          3.97433   \n",
       "3                                          4.74382   \n",
       "4                                          5.09023   \n",
       "6                                          6.17532   \n",
       "\n",
       "   School life expectancy, primary, gender parity index (GPI)  \\\n",
       "0                                            0.72495            \n",
       "2                                            0.99544            \n",
       "3                                            0.97524            \n",
       "4                                            0.97326            \n",
       "6                                            0.93223            \n",
       "\n",
       "   School life expectancy, primary, male (years)  \\\n",
       "0                                        7.54532   \n",
       "2                                        3.99253   \n",
       "3                                        4.86425   \n",
       "4                                        5.23009   \n",
       "6                                        6.62422   \n",
       "\n",
       "   Theoretical duration of pre-primary education (years)  \\\n",
       "0                                                4.0       \n",
       "2                                                3.0       \n",
       "3                                                3.0       \n",
       "4                                                3.0       \n",
       "6                                                1.0       \n",
       "\n",
       "   Theoretical duration of primary education (years)  \\\n",
       "0                                                6.0   \n",
       "2                                                4.0   \n",
       "3                                                5.0   \n",
       "4                                                5.0   \n",
       "6                                                6.0   \n",
       "\n",
       "   Theoretical duration of secondary education (years)  Happy Planet Index  \n",
       "0                                                6.0                  36.8  \n",
       "2                                                8.0                  42.1  \n",
       "3                                                7.0                  47.9  \n",
       "4                                                7.0                  54.1  \n",
       "6                                                6.0                  45.9  \n",
       "\n",
       "[5 rows x 67 columns]"
      ]
     },
     "execution_count": 4,
     "metadata": {},
     "output_type": "execute_result"
    }
   ],
   "source": [
    "THRESH = 0.2\n",
    "overall_data = overall_data.dropna(1, thresh=(overall_data.shape[0] * (1 - THRESH)))\n",
    "overall_data = overall_data.dropna(0, thresh=(overall_data.shape[1] * (1 - THRESH)))\n",
    "overall_data.head(5)"
   ]
  },
  {
   "cell_type": "markdown",
   "metadata": {},
   "source": [
    "## 2. Data Visualization & Analysis"
   ]
  },
  {
   "cell_type": "markdown",
   "metadata": {},
   "source": [
    "### 2.1 Most frequent countries appearing in the Dataset"
   ]
  },
  {
   "cell_type": "markdown",
   "metadata": {},
   "source": [
    "#### 2.1.1 Show counts on globbus map"
   ]
  },
  {
   "cell_type": "code",
   "execution_count": 5,
   "metadata": {
    "collapsed": false
   },
   "outputs": [
    {
     "data": {
      "image/png": "[encoded data removed]",
      "text/plain": [
       "<matplotlib.figure.Figure at 0x277aa966940>"
      ]
     },
     "metadata": {},
     "output_type": "display_data"
    }
   ],
   "source": [
    "overall_data_country_counts = overall_data.copy()\n",
    "overall_data_country_counts['country counts'] = \\\n",
    "    overall_data_country_counts.groupby('country')['country'].transform('count')\n",
    "MapVisualizations.plotDataOnMap(overall_data_country_counts, \\\n",
    "                                feature='country counts', year='mean', show_plot=button_plots.value)"
   ]
  },
  {
   "cell_type": "markdown",
   "metadata": {},
   "source": [
    "#### 2.1.2 Show counts in table"
   ]
  },
  {
   "cell_type": "code",
   "execution_count": 6,
   "metadata": {
    "collapsed": false
   },
   "outputs": [
    {
     "data": {
      "text/html": [
       "<div>\n",
       "<table border=\"1\" class=\"dataframe\">\n",
       "  <thead>\n",
       "    <tr style=\"text-align: right;\">\n",
       "      <th></th>\n",
       "      <th>country</th>\n",
       "      <th>country counts</th>\n",
       "    </tr>\n",
       "  </thead>\n",
       "  <tbody>\n",
       "    <tr>\n",
       "      <th>0</th>\n",
       "      <td>Spain</td>\n",
       "      <td>39</td>\n",
       "    </tr>\n",
       "    <tr>\n",
       "      <th>1</th>\n",
       "      <td>United Kingdom</td>\n",
       "      <td>39</td>\n",
       "    </tr>\n",
       "    <tr>\n",
       "      <th>2</th>\n",
       "      <td>Finland</td>\n",
       "      <td>39</td>\n",
       "    </tr>\n",
       "    <tr>\n",
       "      <th>3</th>\n",
       "      <td>Germany</td>\n",
       "      <td>39</td>\n",
       "    </tr>\n",
       "    <tr>\n",
       "      <th>4</th>\n",
       "      <td>Mexico</td>\n",
       "      <td>39</td>\n",
       "    </tr>\n",
       "    <tr>\n",
       "      <th>5</th>\n",
       "      <td>Netherlands</td>\n",
       "      <td>39</td>\n",
       "    </tr>\n",
       "    <tr>\n",
       "      <th>6</th>\n",
       "      <td>Sweden</td>\n",
       "      <td>39</td>\n",
       "    </tr>\n",
       "    <tr>\n",
       "      <th>7</th>\n",
       "      <td>Italy</td>\n",
       "      <td>39</td>\n",
       "    </tr>\n",
       "    <tr>\n",
       "      <th>8</th>\n",
       "      <td>Japan</td>\n",
       "      <td>39</td>\n",
       "    </tr>\n",
       "    <tr>\n",
       "      <th>9</th>\n",
       "      <td>France</td>\n",
       "      <td>39</td>\n",
       "    </tr>\n",
       "  </tbody>\n",
       "</table>\n",
       "</div>"
      ],
      "text/plain": [
       "          country  country counts\n",
       "0           Spain              39\n",
       "1  United Kingdom              39\n",
       "2         Finland              39\n",
       "3         Germany              39\n",
       "4          Mexico              39\n",
       "5     Netherlands              39\n",
       "6          Sweden              39\n",
       "7           Italy              39\n",
       "8           Japan              39\n",
       "9          France              39"
      ]
     },
     "execution_count": 6,
     "metadata": {},
     "output_type": "execute_result"
    }
   ],
   "source": [
    "overall_data_country_counts = overall_data_country_counts\\\n",
    "    .groupby(['country'])[['country','country counts']].mean()\n",
    "overall_data_country_counts = overall_data_country_counts.sort('country counts', ascending=False)\n",
    "overall_data_country_counts.reset_index(inplace=True)\n",
    "overall_data_country_counts[['country','country counts']].head(10)"
   ]
  },
  {
   "cell_type": "markdown",
   "metadata": {},
   "source": [
    "### 2.2 Data distribution over the years"
   ]
  },
  {
   "cell_type": "code",
   "execution_count": 7,
   "metadata": {
    "collapsed": false
   },
   "outputs": [
    {
     "data": {
      "image/png": "[encoded data removed]",
      "text/plain": [
       "<matplotlib.figure.Figure at 0x277a9f63d30>"
      ]
     },
     "metadata": {},
     "output_type": "display_data"
    }
   ],
   "source": [
    "%matplotlib inline\n",
    "if button_plots.value:\n",
    "    DataVisualizations.distPlot(overall_data['year'],\\\n",
    "                                'Histogram of years','years','count',20,False)"
   ]
  },
  {
   "cell_type": "markdown",
   "metadata": {},
   "source": [
    "### 2.3 Checking distrubution of the label visually"
   ]
  },
  {
   "cell_type": "code",
   "execution_count": 8,
   "metadata": {
    "collapsed": false
   },
   "outputs": [
    {
     "data": {
      "image/png": "[encoded data removed]",
      "text/plain": [
       "<matplotlib.figure.Figure at 0x277aa3a2eb8>"
      ]
     },
     "metadata": {},
     "output_type": "display_data"
    }
   ],
   "source": [
    "%matplotlib inline\n",
    "if button_plots.value:\n",
    "    DataVisualizations.distPlot(overall_data['Happy Planet Index'],\\\n",
    "                                'Histogram of Happy Planet Index values','HPI','density',25,True)"
   ]
  },
  {
   "cell_type": "markdown",
   "metadata": {},
   "source": [
    "### 2.4 Most feature-target Correlated features in the data"
   ]
  },
  {
   "cell_type": "code",
   "execution_count": 9,
   "metadata": {
    "collapsed": false
   },
   "outputs": [
    {
     "data": {
      "text/html": [
       "<div>\n",
       "<table border=\"1\" class=\"dataframe\">\n",
       "  <thead>\n",
       "    <tr style=\"text-align: right;\">\n",
       "      <th></th>\n",
       "      <th>Correlation to Happy Planet Index</th>\n",
       "      <th>Feature</th>\n",
       "    </tr>\n",
       "  </thead>\n",
       "  <tbody>\n",
       "    <tr>\n",
       "      <th>0</th>\n",
       "      <td>0.244313</td>\n",
       "      <td>Population, ages 15-64, female</td>\n",
       "    </tr>\n",
       "    <tr>\n",
       "      <th>1</th>\n",
       "      <td>0.242787</td>\n",
       "      <td>Population of the official age for pre-primary...</td>\n",
       "    </tr>\n",
       "    <tr>\n",
       "      <th>2</th>\n",
       "      <td>0.242299</td>\n",
       "      <td>Population of the official age for pre-primary...</td>\n",
       "    </tr>\n",
       "    <tr>\n",
       "      <th>3</th>\n",
       "      <td>0.241668</td>\n",
       "      <td>Population of the official age for pre-primary...</td>\n",
       "    </tr>\n",
       "    <tr>\n",
       "      <th>4</th>\n",
       "      <td>0.241227</td>\n",
       "      <td>Population, ages 15-64, total</td>\n",
       "    </tr>\n",
       "  </tbody>\n",
       "</table>\n",
       "</div>"
      ],
      "text/plain": [
       "   Correlation to Happy Planet Index  \\\n",
       "0                           0.244313   \n",
       "1                           0.242787   \n",
       "2                           0.242299   \n",
       "3                           0.241668   \n",
       "4                           0.241227   \n",
       "\n",
       "                                             Feature  \n",
       "0                     Population, ages 15-64, female  \n",
       "1  Population of the official age for pre-primary...  \n",
       "2  Population of the official age for pre-primary...  \n",
       "3  Population of the official age for pre-primary...  \n",
       "4                      Population, ages 15-64, total  "
      ]
     },
     "execution_count": 9,
     "metadata": {},
     "output_type": "execute_result"
    }
   ],
   "source": [
    "HPI_correlation = overall_data[overall_data.columns[1:-1]].apply\\\n",
    "    (lambda x: x.corr(overall_data['Happy Planet Index'], method='spearman'))\n",
    "HPI_correlation = HPI_correlation.abs().sort_values(ascending=False)\n",
    "HPI_correlation = pd.DataFrame({'Feature':HPI_correlation.index,\\\n",
    "                                'Correlation to Happy Planet Index':HPI_correlation.values})\n",
    "HPI_correlation.head(5)"
   ]
  },
  {
   "cell_type": "markdown",
   "metadata": {},
   "source": [
    "### 2.5 Plot Correlation matrix, taken 2 positive and 2 negative most correlated features"
   ]
  },
  {
   "cell_type": "code",
   "execution_count": 10,
   "metadata": {
    "collapsed": false
   },
   "outputs": [
    {
     "data": {
      "image/png": "[encoded data removed]",
      "text/plain": [
       "<matplotlib.figure.Figure at 0x277aa966400>"
      ]
     },
     "metadata": {},
     "output_type": "display_data"
    }
   ],
   "source": [
    "%matplotlib inline\n",
    "corr_features = HPI_correlation['Feature'].head(5).tolist() + ['Happy Planet Index']\n",
    "corr_features = [x for x in corr_features if x != 'year']\n",
    "overall_data_to_plot = overall_data[corr_features]\n",
    "data_corr_mat= overall_data_to_plot.corr(method='spearman')\n",
    "if button_plots.value:\n",
    "    plt.figure(figsize=(4,4))\n",
    "    sns.heatmap(data_corr_mat, vmax=1, square=True, annot=True, cmap='cubehelix')"
   ]
  },
  {
   "cell_type": "markdown",
   "metadata": {},
   "source": [
    "### 2.6 Plotting Data on world map\n",
    "#### Choose between Happy Planet Index and most correlated features \n",
    "#### Unfortunatly, there is no imagination between the plots"
   ]
  },
  {
   "cell_type": "code",
   "execution_count": 11,
   "metadata": {
    "collapsed": false
   },
   "outputs": [
    {
     "name": "stdout",
     "output_type": "stream",
     "text": [
      "Please choose an option\n"
     ]
    }
   ],
   "source": [
    "if button_plots.value:\n",
    "    MapVisualizations.interactMaps(overall_data,corr_features)"
   ]
  },
  {
   "cell_type": "markdown",
   "metadata": {},
   "source": [
    "### 2.7 Plotting boxplot of most correlated feature"
   ]
  },
  {
   "cell_type": "code",
   "execution_count": 12,
   "metadata": {
    "collapsed": false
   },
   "outputs": [
    {
     "data": {
      "text/plain": [
       "<matplotlib.text.Text at 0x277aa59dba8>"
      ]
     },
     "execution_count": 12,
     "metadata": {},
     "output_type": "execute_result"
    },
    {
     "data": {
      "image/png": "[encoded data removed]",
      "text/plain": [
       "<matplotlib.figure.Figure at 0x277aa966470>"
      ]
     },
     "metadata": {},
     "output_type": "display_data"
    }
   ],
   "source": [
    "fig = plt.figure(figsize=(4,3))\n",
    "ax = fig.add_subplot(111)\n",
    "overall_data[corr_features[1]].to_frame().boxplot()\n",
    "ax.set_yscale('log')\n",
    "plt.ylabel('value')\n",
    "plt.title('Boxplot for most correlated feature')"
   ]
  },
  {
   "cell_type": "markdown",
   "metadata": {},
   "source": [
    "## 3. Preprocessing"
   ]
  },
  {
   "cell_type": "markdown",
   "metadata": {},
   "source": [
    "### 3.1 Impute nulls with medians"
   ]
  },
  {
   "cell_type": "code",
   "execution_count": 13,
   "metadata": {
    "collapsed": false
   },
   "outputs": [
    {
     "data": {
      "text/html": [
       "<div>\n",
       "<table border=\"1\" class=\"dataframe\">\n",
       "  <thead>\n",
       "    <tr style=\"text-align: right;\">\n",
       "      <th></th>\n",
       "      <th>country</th>\n",
       "      <th>year</th>\n",
       "      <th>Enrolment in primary education, both sexes (number)</th>\n",
       "      <th>Enrolment in primary education, female (number)</th>\n",
       "      <th>GDP at market prices (constant 2005 US$)</th>\n",
       "      <th>GDP at market prices (current US$)</th>\n",
       "      <th>GDP per capita (constant 2005 US$)</th>\n",
       "      <th>GDP per capita (current US$)</th>\n",
       "      <th>GNI (current US$)</th>\n",
       "      <th>GNI per capita, Atlas method (current US$)</th>\n",
       "      <th>...</th>\n",
       "      <th>Population, male (% of total)</th>\n",
       "      <th>Population, total</th>\n",
       "      <th>School life expectancy, primary, both sexes (years)</th>\n",
       "      <th>School life expectancy, primary, female (years)</th>\n",
       "      <th>School life expectancy, primary, gender parity index (GPI)</th>\n",
       "      <th>School life expectancy, primary, male (years)</th>\n",
       "      <th>Theoretical duration of pre-primary education (years)</th>\n",
       "      <th>Theoretical duration of primary education (years)</th>\n",
       "      <th>Theoretical duration of secondary education (years)</th>\n",
       "      <th>Happy Planet Index</th>\n",
       "    </tr>\n",
       "  </thead>\n",
       "  <tbody>\n",
       "    <tr>\n",
       "      <th>0</th>\n",
       "      <td>Afghanistan</td>\n",
       "      <td>2012.0</td>\n",
       "      <td>5767543.0</td>\n",
       "      <td>2348306.0</td>\n",
       "      <td>1.935220e+10</td>\n",
       "      <td>2.053654e+10</td>\n",
       "      <td>651.001852</td>\n",
       "      <td>690.842629</td>\n",
       "      <td>2.157185e+10</td>\n",
       "      <td>720.0</td>\n",
       "      <td>...</td>\n",
       "      <td>51.435962</td>\n",
       "      <td>29726803.0</td>\n",
       "      <td>6.53571</td>\n",
       "      <td>5.47000</td>\n",
       "      <td>0.72495</td>\n",
       "      <td>7.54532</td>\n",
       "      <td>4.0</td>\n",
       "      <td>6.0</td>\n",
       "      <td>6.0</td>\n",
       "      <td>36.8</td>\n",
       "    </tr>\n",
       "    <tr>\n",
       "      <th>2</th>\n",
       "      <td>Albania</td>\n",
       "      <td>2006.0</td>\n",
       "      <td>222402.0</td>\n",
       "      <td>107004.0</td>\n",
       "      <td>9.771760e+09</td>\n",
       "      <td>8.992642e+09</td>\n",
       "      <td>3265.365622</td>\n",
       "      <td>3005.012903</td>\n",
       "      <td>9.254605e+09</td>\n",
       "      <td>3090.0</td>\n",
       "      <td>...</td>\n",
       "      <td>50.260019</td>\n",
       "      <td>2992547.0</td>\n",
       "      <td>3.98375</td>\n",
       "      <td>3.97433</td>\n",
       "      <td>0.99544</td>\n",
       "      <td>3.99253</td>\n",
       "      <td>3.0</td>\n",
       "      <td>4.0</td>\n",
       "      <td>8.0</td>\n",
       "      <td>42.1</td>\n",
       "    </tr>\n",
       "    <tr>\n",
       "      <th>3</th>\n",
       "      <td>Albania</td>\n",
       "      <td>2009.0</td>\n",
       "      <td>236102.0</td>\n",
       "      <td>112399.0</td>\n",
       "      <td>1.150029e+10</td>\n",
       "      <td>1.204421e+10</td>\n",
       "      <td>3928.340828</td>\n",
       "      <td>4114.136545</td>\n",
       "      <td>1.185274e+10</td>\n",
       "      <td>4280.0</td>\n",
       "      <td>...</td>\n",
       "      <td>50.432577</td>\n",
       "      <td>2927519.0</td>\n",
       "      <td>4.80613</td>\n",
       "      <td>4.74382</td>\n",
       "      <td>0.97524</td>\n",
       "      <td>4.86425</td>\n",
       "      <td>3.0</td>\n",
       "      <td>5.0</td>\n",
       "      <td>7.0</td>\n",
       "      <td>47.9</td>\n",
       "    </tr>\n",
       "    <tr>\n",
       "      <th>4</th>\n",
       "      <td>Albania</td>\n",
       "      <td>2012.0</td>\n",
       "      <td>206617.0</td>\n",
       "      <td>97583.0</td>\n",
       "      <td>1.240477e+10</td>\n",
       "      <td>1.231978e+10</td>\n",
       "      <td>4277.143310</td>\n",
       "      <td>4247.839852</td>\n",
       "      <td>1.222802e+10</td>\n",
       "      <td>4360.0</td>\n",
       "      <td>...</td>\n",
       "      <td>50.128703</td>\n",
       "      <td>2900247.0</td>\n",
       "      <td>5.16259</td>\n",
       "      <td>5.09023</td>\n",
       "      <td>0.97326</td>\n",
       "      <td>5.23009</td>\n",
       "      <td>3.0</td>\n",
       "      <td>5.0</td>\n",
       "      <td>7.0</td>\n",
       "      <td>54.1</td>\n",
       "    </tr>\n",
       "    <tr>\n",
       "      <th>6</th>\n",
       "      <td>Algeria</td>\n",
       "      <td>2006.0</td>\n",
       "      <td>4196580.0</td>\n",
       "      <td>1973901.0</td>\n",
       "      <td>1.446470e+11</td>\n",
       "      <td>1.170270e+11</td>\n",
       "      <td>4285.934521</td>\n",
       "      <td>3467.544740</td>\n",
       "      <td>1.126050e+11</td>\n",
       "      <td>3100.0</td>\n",
       "      <td>...</td>\n",
       "      <td>50.489699</td>\n",
       "      <td>33749328.0</td>\n",
       "      <td>6.40438</td>\n",
       "      <td>6.17532</td>\n",
       "      <td>0.93223</td>\n",
       "      <td>6.62422</td>\n",
       "      <td>1.0</td>\n",
       "      <td>6.0</td>\n",
       "      <td>6.0</td>\n",
       "      <td>45.9</td>\n",
       "    </tr>\n",
       "  </tbody>\n",
       "</table>\n",
       "<p>5 rows × 67 columns</p>\n",
       "</div>"
      ],
      "text/plain": [
       "       country    year  Enrolment in primary education, both sexes (number)  \\\n",
       "0  Afghanistan  2012.0                                          5767543.0     \n",
       "2      Albania  2006.0                                           222402.0     \n",
       "3      Albania  2009.0                                           236102.0     \n",
       "4      Albania  2012.0                                           206617.0     \n",
       "6      Algeria  2006.0                                          4196580.0     \n",
       "\n",
       "   Enrolment in primary education, female (number)  \\\n",
       "0                                        2348306.0   \n",
       "2                                         107004.0   \n",
       "3                                         112399.0   \n",
       "4                                          97583.0   \n",
       "6                                        1973901.0   \n",
       "\n",
       "   GDP at market prices (constant 2005 US$)  \\\n",
       "0                              1.935220e+10   \n",
       "2                              9.771760e+09   \n",
       "3                              1.150029e+10   \n",
       "4                              1.240477e+10   \n",
       "6                              1.446470e+11   \n",
       "\n",
       "   GDP at market prices (current US$)  GDP per capita (constant 2005 US$)  \\\n",
       "0                        2.053654e+10                          651.001852   \n",
       "2                        8.992642e+09                         3265.365622   \n",
       "3                        1.204421e+10                         3928.340828   \n",
       "4                        1.231978e+10                         4277.143310   \n",
       "6                        1.170270e+11                         4285.934521   \n",
       "\n",
       "   GDP per capita (current US$)  GNI (current US$)  \\\n",
       "0                    690.842629       2.157185e+10   \n",
       "2                   3005.012903       9.254605e+09   \n",
       "3                   4114.136545       1.185274e+10   \n",
       "4                   4247.839852       1.222802e+10   \n",
       "6                   3467.544740       1.126050e+11   \n",
       "\n",
       "   GNI per capita, Atlas method (current US$)         ...          \\\n",
       "0                                       720.0         ...           \n",
       "2                                      3090.0         ...           \n",
       "3                                      4280.0         ...           \n",
       "4                                      4360.0         ...           \n",
       "6                                      3100.0         ...           \n",
       "\n",
       "   Population, male (% of total)  Population, total  \\\n",
       "0                      51.435962         29726803.0   \n",
       "2                      50.260019          2992547.0   \n",
       "3                      50.432577          2927519.0   \n",
       "4                      50.128703          2900247.0   \n",
       "6                      50.489699         33749328.0   \n",
       "\n",
       "   School life expectancy, primary, both sexes (years)  \\\n",
       "0                                            6.53571     \n",
       "2                                            3.98375     \n",
       "3                                            4.80613     \n",
       "4                                            5.16259     \n",
       "6                                            6.40438     \n",
       "\n",
       "   School life expectancy, primary, female (years)  \\\n",
       "0                                          5.47000   \n",
       "2                                          3.97433   \n",
       "3                                          4.74382   \n",
       "4                                          5.09023   \n",
       "6                                          6.17532   \n",
       "\n",
       "   School life expectancy, primary, gender parity index (GPI)  \\\n",
       "0                                            0.72495            \n",
       "2                                            0.99544            \n",
       "3                                            0.97524            \n",
       "4                                            0.97326            \n",
       "6                                            0.93223            \n",
       "\n",
       "   School life expectancy, primary, male (years)  \\\n",
       "0                                        7.54532   \n",
       "2                                        3.99253   \n",
       "3                                        4.86425   \n",
       "4                                        5.23009   \n",
       "6                                        6.62422   \n",
       "\n",
       "   Theoretical duration of pre-primary education (years)  \\\n",
       "0                                                4.0       \n",
       "2                                                3.0       \n",
       "3                                                3.0       \n",
       "4                                                3.0       \n",
       "6                                                1.0       \n",
       "\n",
       "   Theoretical duration of primary education (years)  \\\n",
       "0                                                6.0   \n",
       "2                                                4.0   \n",
       "3                                                5.0   \n",
       "4                                                5.0   \n",
       "6                                                6.0   \n",
       "\n",
       "   Theoretical duration of secondary education (years)  Happy Planet Index  \n",
       "0                                                6.0                  36.8  \n",
       "2                                                8.0                  42.1  \n",
       "3                                                7.0                  47.9  \n",
       "4                                                7.0                  54.1  \n",
       "6                                                6.0                  45.9  \n",
       "\n",
       "[5 rows x 67 columns]"
      ]
     },
     "execution_count": 13,
     "metadata": {},
     "output_type": "execute_result"
    }
   ],
   "source": [
    "overall_data = overall_data.fillna(overall_data.median())\n",
    "overall_data.head(5)"
   ]
  },
  {
   "cell_type": "markdown",
   "metadata": {},
   "source": [
    "### 3.2 One Hot Encoding Foreach Country"
   ]
  },
  {
   "cell_type": "code",
   "execution_count": 14,
   "metadata": {
    "collapsed": false
   },
   "outputs": [
    {
     "data": {
      "text/html": [
       "<div>\n",
       "<table border=\"1\" class=\"dataframe\">\n",
       "  <thead>\n",
       "    <tr style=\"text-align: right;\">\n",
       "      <th></th>\n",
       "      <th>year</th>\n",
       "      <th>Enrolment in primary education, both sexes (number)</th>\n",
       "      <th>Enrolment in primary education, female (number)</th>\n",
       "      <th>GDP at market prices (constant 2005 US$)</th>\n",
       "      <th>GDP at market prices (current US$)</th>\n",
       "      <th>GDP per capita (constant 2005 US$)</th>\n",
       "      <th>GDP per capita (current US$)</th>\n",
       "      <th>GNI (current US$)</th>\n",
       "      <th>GNI per capita, Atlas method (current US$)</th>\n",
       "      <th>Gross enrolment ratio, primary, both sexes (%)</th>\n",
       "      <th>...</th>\n",
       "      <th>country_United Arab Emirates</th>\n",
       "      <th>country_United Kingdom</th>\n",
       "      <th>country_United States</th>\n",
       "      <th>country_Uruguay</th>\n",
       "      <th>country_Uzbekistan</th>\n",
       "      <th>country_Vanuatu</th>\n",
       "      <th>country_Vietnam</th>\n",
       "      <th>country_Zambia</th>\n",
       "      <th>country_Zimbabwe</th>\n",
       "      <th>country</th>\n",
       "    </tr>\n",
       "  </thead>\n",
       "  <tbody>\n",
       "    <tr>\n",
       "      <th>0</th>\n",
       "      <td>2012.0</td>\n",
       "      <td>5767543.0</td>\n",
       "      <td>2348306.0</td>\n",
       "      <td>1.935220e+10</td>\n",
       "      <td>2.053654e+10</td>\n",
       "      <td>651.001852</td>\n",
       "      <td>690.842629</td>\n",
       "      <td>2.157185e+10</td>\n",
       "      <td>720.0</td>\n",
       "      <td>108.928520</td>\n",
       "      <td>...</td>\n",
       "      <td>0</td>\n",
       "      <td>0</td>\n",
       "      <td>0</td>\n",
       "      <td>0</td>\n",
       "      <td>0</td>\n",
       "      <td>0</td>\n",
       "      <td>0</td>\n",
       "      <td>0</td>\n",
       "      <td>0</td>\n",
       "      <td>Afghanistan</td>\n",
       "    </tr>\n",
       "    <tr>\n",
       "      <th>2</th>\n",
       "      <td>2006.0</td>\n",
       "      <td>222402.0</td>\n",
       "      <td>107004.0</td>\n",
       "      <td>9.771760e+09</td>\n",
       "      <td>8.992642e+09</td>\n",
       "      <td>3265.365622</td>\n",
       "      <td>3005.012903</td>\n",
       "      <td>9.254605e+09</td>\n",
       "      <td>3090.0</td>\n",
       "      <td>99.593842</td>\n",
       "      <td>...</td>\n",
       "      <td>0</td>\n",
       "      <td>0</td>\n",
       "      <td>0</td>\n",
       "      <td>0</td>\n",
       "      <td>0</td>\n",
       "      <td>0</td>\n",
       "      <td>0</td>\n",
       "      <td>0</td>\n",
       "      <td>0</td>\n",
       "      <td>Albania</td>\n",
       "    </tr>\n",
       "    <tr>\n",
       "      <th>3</th>\n",
       "      <td>2009.0</td>\n",
       "      <td>236102.0</td>\n",
       "      <td>112399.0</td>\n",
       "      <td>1.150029e+10</td>\n",
       "      <td>1.204421e+10</td>\n",
       "      <td>3928.340828</td>\n",
       "      <td>4114.136545</td>\n",
       "      <td>1.185274e+10</td>\n",
       "      <td>4280.0</td>\n",
       "      <td>97.525330</td>\n",
       "      <td>...</td>\n",
       "      <td>0</td>\n",
       "      <td>0</td>\n",
       "      <td>0</td>\n",
       "      <td>0</td>\n",
       "      <td>0</td>\n",
       "      <td>0</td>\n",
       "      <td>0</td>\n",
       "      <td>0</td>\n",
       "      <td>0</td>\n",
       "      <td>Albania</td>\n",
       "    </tr>\n",
       "    <tr>\n",
       "      <th>4</th>\n",
       "      <td>2012.0</td>\n",
       "      <td>206617.0</td>\n",
       "      <td>97583.0</td>\n",
       "      <td>1.240477e+10</td>\n",
       "      <td>1.231978e+10</td>\n",
       "      <td>4277.143310</td>\n",
       "      <td>4247.839852</td>\n",
       "      <td>1.222802e+10</td>\n",
       "      <td>4360.0</td>\n",
       "      <td>104.784393</td>\n",
       "      <td>...</td>\n",
       "      <td>0</td>\n",
       "      <td>0</td>\n",
       "      <td>0</td>\n",
       "      <td>0</td>\n",
       "      <td>0</td>\n",
       "      <td>0</td>\n",
       "      <td>0</td>\n",
       "      <td>0</td>\n",
       "      <td>0</td>\n",
       "      <td>Albania</td>\n",
       "    </tr>\n",
       "    <tr>\n",
       "      <th>6</th>\n",
       "      <td>2006.0</td>\n",
       "      <td>4196580.0</td>\n",
       "      <td>1973901.0</td>\n",
       "      <td>1.446470e+11</td>\n",
       "      <td>1.170270e+11</td>\n",
       "      <td>4285.934521</td>\n",
       "      <td>3467.544740</td>\n",
       "      <td>1.126050e+11</td>\n",
       "      <td>3100.0</td>\n",
       "      <td>108.287209</td>\n",
       "      <td>...</td>\n",
       "      <td>0</td>\n",
       "      <td>0</td>\n",
       "      <td>0</td>\n",
       "      <td>0</td>\n",
       "      <td>0</td>\n",
       "      <td>0</td>\n",
       "      <td>0</td>\n",
       "      <td>0</td>\n",
       "      <td>0</td>\n",
       "      <td>Algeria</td>\n",
       "    </tr>\n",
       "  </tbody>\n",
       "</table>\n",
       "<p>5 rows × 224 columns</p>\n",
       "</div>"
      ],
      "text/plain": [
       "     year  Enrolment in primary education, both sexes (number)  \\\n",
       "0  2012.0                                          5767543.0     \n",
       "2  2006.0                                           222402.0     \n",
       "3  2009.0                                           236102.0     \n",
       "4  2012.0                                           206617.0     \n",
       "6  2006.0                                          4196580.0     \n",
       "\n",
       "   Enrolment in primary education, female (number)  \\\n",
       "0                                        2348306.0   \n",
       "2                                         107004.0   \n",
       "3                                         112399.0   \n",
       "4                                          97583.0   \n",
       "6                                        1973901.0   \n",
       "\n",
       "   GDP at market prices (constant 2005 US$)  \\\n",
       "0                              1.935220e+10   \n",
       "2                              9.771760e+09   \n",
       "3                              1.150029e+10   \n",
       "4                              1.240477e+10   \n",
       "6                              1.446470e+11   \n",
       "\n",
       "   GDP at market prices (current US$)  GDP per capita (constant 2005 US$)  \\\n",
       "0                        2.053654e+10                          651.001852   \n",
       "2                        8.992642e+09                         3265.365622   \n",
       "3                        1.204421e+10                         3928.340828   \n",
       "4                        1.231978e+10                         4277.143310   \n",
       "6                        1.170270e+11                         4285.934521   \n",
       "\n",
       "   GDP per capita (current US$)  GNI (current US$)  \\\n",
       "0                    690.842629       2.157185e+10   \n",
       "2                   3005.012903       9.254605e+09   \n",
       "3                   4114.136545       1.185274e+10   \n",
       "4                   4247.839852       1.222802e+10   \n",
       "6                   3467.544740       1.126050e+11   \n",
       "\n",
       "   GNI per capita, Atlas method (current US$)  \\\n",
       "0                                       720.0   \n",
       "2                                      3090.0   \n",
       "3                                      4280.0   \n",
       "4                                      4360.0   \n",
       "6                                      3100.0   \n",
       "\n",
       "   Gross enrolment ratio, primary, both sexes (%)     ...       \\\n",
       "0                                      108.928520     ...        \n",
       "2                                       99.593842     ...        \n",
       "3                                       97.525330     ...        \n",
       "4                                      104.784393     ...        \n",
       "6                                      108.287209     ...        \n",
       "\n",
       "   country_United Arab Emirates  country_United Kingdom  \\\n",
       "0                             0                       0   \n",
       "2                             0                       0   \n",
       "3                             0                       0   \n",
       "4                             0                       0   \n",
       "6                             0                       0   \n",
       "\n",
       "   country_United States  country_Uruguay  country_Uzbekistan  \\\n",
       "0                      0                0                   0   \n",
       "2                      0                0                   0   \n",
       "3                      0                0                   0   \n",
       "4                      0                0                   0   \n",
       "6                      0                0                   0   \n",
       "\n",
       "   country_Vanuatu  country_Vietnam  country_Zambia  country_Zimbabwe  \\\n",
       "0                0                0               0                 0   \n",
       "2                0                0               0                 0   \n",
       "3                0                0               0                 0   \n",
       "4                0                0               0                 0   \n",
       "6                0                0               0                 0   \n",
       "\n",
       "       country  \n",
       "0  Afghanistan  \n",
       "2      Albania  \n",
       "3      Albania  \n",
       "4      Albania  \n",
       "6      Algeria  \n",
       "\n",
       "[5 rows x 224 columns]"
      ]
     },
     "execution_count": 14,
     "metadata": {},
     "output_type": "execute_result"
    }
   ],
   "source": [
    "overall_data_countries = overall_data['country']\n",
    "oh_overall_data = overall_data.drop('country', axis=1)\n",
    "onehot_overall_col = pd.get_dummies(overall_data['country'], prefix='country')\n",
    "\n",
    "#check for missing cols in onehot_overall_col\n",
    "for col in onehot_overall_col.columns:\n",
    "    if col not in onehot_overall_col.columns:\n",
    "        onehot_overall_col[col] = 0\n",
    "        \n",
    "oh_overall_data = pd.concat([oh_overall_data, onehot_overall_col], axis=1)\n",
    "overall_data = oh_overall_data\n",
    "overall_data['country'] = overall_data_countries\n",
    "overall_data.head(5)"
   ]
  },
  {
   "cell_type": "markdown",
   "metadata": {},
   "source": [
    "### 3.3 Split Data randomly into training set and test set"
   ]
  },
  {
   "cell_type": "code",
   "execution_count": 15,
   "metadata": {
    "collapsed": false
   },
   "outputs": [
    {
     "data": {
      "text/html": [
       "<div>\n",
       "<table border=\"1\" class=\"dataframe\">\n",
       "  <thead>\n",
       "    <tr style=\"text-align: right;\">\n",
       "      <th></th>\n",
       "      <th>year</th>\n",
       "      <th>Enrolment in primary education, both sexes (number)</th>\n",
       "      <th>Enrolment in primary education, female (number)</th>\n",
       "      <th>GDP at market prices (constant 2005 US$)</th>\n",
       "      <th>GDP at market prices (current US$)</th>\n",
       "      <th>GDP per capita (constant 2005 US$)</th>\n",
       "      <th>GDP per capita (current US$)</th>\n",
       "      <th>GNI (current US$)</th>\n",
       "      <th>GNI per capita, Atlas method (current US$)</th>\n",
       "      <th>Gross enrolment ratio, primary, both sexes (%)</th>\n",
       "      <th>...</th>\n",
       "      <th>country_United Arab Emirates</th>\n",
       "      <th>country_United Kingdom</th>\n",
       "      <th>country_United States</th>\n",
       "      <th>country_Uruguay</th>\n",
       "      <th>country_Uzbekistan</th>\n",
       "      <th>country_Vanuatu</th>\n",
       "      <th>country_Vietnam</th>\n",
       "      <th>country_Zambia</th>\n",
       "      <th>country_Zimbabwe</th>\n",
       "      <th>country</th>\n",
       "    </tr>\n",
       "  </thead>\n",
       "  <tbody>\n",
       "    <tr>\n",
       "      <th>0</th>\n",
       "      <td>2009.0</td>\n",
       "      <td>406920.0</td>\n",
       "      <td>200909.0</td>\n",
       "      <td>1.063964e+10</td>\n",
       "      <td>8.876191e+09</td>\n",
       "      <td>4943.249801</td>\n",
       "      <td>4123.939997</td>\n",
       "      <td>8.708821e+09</td>\n",
       "      <td>4120.0</td>\n",
       "      <td>108.228012</td>\n",
       "      <td>...</td>\n",
       "      <td>0</td>\n",
       "      <td>0</td>\n",
       "      <td>0</td>\n",
       "      <td>0</td>\n",
       "      <td>0</td>\n",
       "      <td>0</td>\n",
       "      <td>0</td>\n",
       "      <td>0</td>\n",
       "      <td>0</td>\n",
       "      <td>Namibia</td>\n",
       "    </tr>\n",
       "    <tr>\n",
       "      <th>1</th>\n",
       "      <td>1985.0</td>\n",
       "      <td>420665.0</td>\n",
       "      <td>205210.0</td>\n",
       "      <td>6.420870e+10</td>\n",
       "      <td>2.129391e+10</td>\n",
       "      <td>18147.884040</td>\n",
       "      <td>6018.489552</td>\n",
       "      <td>1.983712e+10</td>\n",
       "      <td>5630.0</td>\n",
       "      <td>95.102722</td>\n",
       "      <td>...</td>\n",
       "      <td>0</td>\n",
       "      <td>0</td>\n",
       "      <td>0</td>\n",
       "      <td>0</td>\n",
       "      <td>0</td>\n",
       "      <td>0</td>\n",
       "      <td>0</td>\n",
       "      <td>0</td>\n",
       "      <td>0</td>\n",
       "      <td>Ireland</td>\n",
       "    </tr>\n",
       "    <tr>\n",
       "      <th>2</th>\n",
       "      <td>1984.0</td>\n",
       "      <td>888440.0</td>\n",
       "      <td>430238.0</td>\n",
       "      <td>1.813080e+11</td>\n",
       "      <td>4.802002e+10</td>\n",
       "      <td>18321.674990</td>\n",
       "      <td>4852.565728</td>\n",
       "      <td>4.851687e+10</td>\n",
       "      <td>5130.0</td>\n",
       "      <td>105.983048</td>\n",
       "      <td>...</td>\n",
       "      <td>0</td>\n",
       "      <td>0</td>\n",
       "      <td>0</td>\n",
       "      <td>0</td>\n",
       "      <td>0</td>\n",
       "      <td>0</td>\n",
       "      <td>0</td>\n",
       "      <td>0</td>\n",
       "      <td>0</td>\n",
       "      <td>Greece</td>\n",
       "    </tr>\n",
       "    <tr>\n",
       "      <th>3</th>\n",
       "      <td>1991.0</td>\n",
       "      <td>2820497.0</td>\n",
       "      <td>1366826.0</td>\n",
       "      <td>8.954290e+11</td>\n",
       "      <td>5.755990e+11</td>\n",
       "      <td>22995.652240</td>\n",
       "      <td>14782.038900</td>\n",
       "      <td>5.713820e+11</td>\n",
       "      <td>13720.0</td>\n",
       "      <td>105.279709</td>\n",
       "      <td>...</td>\n",
       "      <td>0</td>\n",
       "      <td>0</td>\n",
       "      <td>0</td>\n",
       "      <td>0</td>\n",
       "      <td>0</td>\n",
       "      <td>0</td>\n",
       "      <td>0</td>\n",
       "      <td>0</td>\n",
       "      <td>0</td>\n",
       "      <td>Spain</td>\n",
       "    </tr>\n",
       "    <tr>\n",
       "      <th>4</th>\n",
       "      <td>2006.0</td>\n",
       "      <td>364263.0</td>\n",
       "      <td>161875.0</td>\n",
       "      <td>2.179437e+09</td>\n",
       "      <td>1.211162e+09</td>\n",
       "      <td>506.323083</td>\n",
       "      <td>281.375017</td>\n",
       "      <td>1.202459e+09</td>\n",
       "      <td>280.0</td>\n",
       "      <td>68.011917</td>\n",
       "      <td>...</td>\n",
       "      <td>0</td>\n",
       "      <td>0</td>\n",
       "      <td>0</td>\n",
       "      <td>0</td>\n",
       "      <td>0</td>\n",
       "      <td>0</td>\n",
       "      <td>0</td>\n",
       "      <td>0</td>\n",
       "      <td>0</td>\n",
       "      <td>Eritrea</td>\n",
       "    </tr>\n",
       "  </tbody>\n",
       "</table>\n",
       "<p>5 rows × 224 columns</p>\n",
       "</div>"
      ],
      "text/plain": [
       "     year  Enrolment in primary education, both sexes (number)  \\\n",
       "0  2009.0                                           406920.0     \n",
       "1  1985.0                                           420665.0     \n",
       "2  1984.0                                           888440.0     \n",
       "3  1991.0                                          2820497.0     \n",
       "4  2006.0                                           364263.0     \n",
       "\n",
       "   Enrolment in primary education, female (number)  \\\n",
       "0                                         200909.0   \n",
       "1                                         205210.0   \n",
       "2                                         430238.0   \n",
       "3                                        1366826.0   \n",
       "4                                         161875.0   \n",
       "\n",
       "   GDP at market prices (constant 2005 US$)  \\\n",
       "0                              1.063964e+10   \n",
       "1                              6.420870e+10   \n",
       "2                              1.813080e+11   \n",
       "3                              8.954290e+11   \n",
       "4                              2.179437e+09   \n",
       "\n",
       "   GDP at market prices (current US$)  GDP per capita (constant 2005 US$)  \\\n",
       "0                        8.876191e+09                         4943.249801   \n",
       "1                        2.129391e+10                        18147.884040   \n",
       "2                        4.802002e+10                        18321.674990   \n",
       "3                        5.755990e+11                        22995.652240   \n",
       "4                        1.211162e+09                          506.323083   \n",
       "\n",
       "   GDP per capita (current US$)  GNI (current US$)  \\\n",
       "0                   4123.939997       8.708821e+09   \n",
       "1                   6018.489552       1.983712e+10   \n",
       "2                   4852.565728       4.851687e+10   \n",
       "3                  14782.038900       5.713820e+11   \n",
       "4                    281.375017       1.202459e+09   \n",
       "\n",
       "   GNI per capita, Atlas method (current US$)  \\\n",
       "0                                      4120.0   \n",
       "1                                      5630.0   \n",
       "2                                      5130.0   \n",
       "3                                     13720.0   \n",
       "4                                       280.0   \n",
       "\n",
       "   Gross enrolment ratio, primary, both sexes (%)   ...     \\\n",
       "0                                      108.228012   ...      \n",
       "1                                       95.102722   ...      \n",
       "2                                      105.983048   ...      \n",
       "3                                      105.279709   ...      \n",
       "4                                       68.011917   ...      \n",
       "\n",
       "   country_United Arab Emirates  country_United Kingdom  \\\n",
       "0                             0                       0   \n",
       "1                             0                       0   \n",
       "2                             0                       0   \n",
       "3                             0                       0   \n",
       "4                             0                       0   \n",
       "\n",
       "   country_United States  country_Uruguay  country_Uzbekistan  \\\n",
       "0                      0                0                   0   \n",
       "1                      0                0                   0   \n",
       "2                      0                0                   0   \n",
       "3                      0                0                   0   \n",
       "4                      0                0                   0   \n",
       "\n",
       "   country_Vanuatu  country_Vietnam  country_Zambia  country_Zimbabwe  country  \n",
       "0                0                0               0                 0  Namibia  \n",
       "1                0                0               0                 0  Ireland  \n",
       "2                0                0               0                 0   Greece  \n",
       "3                0                0               0                 0    Spain  \n",
       "4                0                0               0                 0  Eritrea  \n",
       "\n",
       "[5 rows x 224 columns]"
      ]
     },
     "execution_count": 15,
     "metadata": {},
     "output_type": "execute_result"
    }
   ],
   "source": [
    "train_data, test_data = train_test_split\\\n",
    "(overall_data, test_size = 0.2, random_state=0)\n",
    "train_data.reset_index(drop=True, inplace=True)\n",
    "test_data.reset_index(drop=True, inplace=True)\n",
    "train_data.head(5)"
   ]
  },
  {
   "cell_type": "markdown",
   "metadata": {},
   "source": [
    "### 3.4 Partition factors, class and countries"
   ]
  },
  {
   "cell_type": "code",
   "execution_count": 16,
   "metadata": {
    "collapsed": false
   },
   "outputs": [
    {
     "data": {
      "text/html": [
       "<div>\n",
       "<table border=\"1\" class=\"dataframe\">\n",
       "  <thead>\n",
       "    <tr style=\"text-align: right;\">\n",
       "      <th></th>\n",
       "      <th>year</th>\n",
       "      <th>Enrolment in primary education, both sexes (number)</th>\n",
       "      <th>Enrolment in primary education, female (number)</th>\n",
       "      <th>GDP at market prices (constant 2005 US$)</th>\n",
       "      <th>GDP at market prices (current US$)</th>\n",
       "      <th>GDP per capita (constant 2005 US$)</th>\n",
       "      <th>GDP per capita (current US$)</th>\n",
       "      <th>GNI (current US$)</th>\n",
       "      <th>GNI per capita, Atlas method (current US$)</th>\n",
       "      <th>Gross enrolment ratio, primary, both sexes (%)</th>\n",
       "      <th>...</th>\n",
       "      <th>country_Ukraine</th>\n",
       "      <th>country_United Arab Emirates</th>\n",
       "      <th>country_United Kingdom</th>\n",
       "      <th>country_United States</th>\n",
       "      <th>country_Uruguay</th>\n",
       "      <th>country_Uzbekistan</th>\n",
       "      <th>country_Vanuatu</th>\n",
       "      <th>country_Vietnam</th>\n",
       "      <th>country_Zambia</th>\n",
       "      <th>country_Zimbabwe</th>\n",
       "    </tr>\n",
       "  </thead>\n",
       "  <tbody>\n",
       "    <tr>\n",
       "      <th>0</th>\n",
       "      <td>2009.0</td>\n",
       "      <td>406920.0</td>\n",
       "      <td>200909.0</td>\n",
       "      <td>1.063964e+10</td>\n",
       "      <td>8.876191e+09</td>\n",
       "      <td>4943.249801</td>\n",
       "      <td>4123.939997</td>\n",
       "      <td>8.708821e+09</td>\n",
       "      <td>4120.0</td>\n",
       "      <td>108.228012</td>\n",
       "      <td>...</td>\n",
       "      <td>0</td>\n",
       "      <td>0</td>\n",
       "      <td>0</td>\n",
       "      <td>0</td>\n",
       "      <td>0</td>\n",
       "      <td>0</td>\n",
       "      <td>0</td>\n",
       "      <td>0</td>\n",
       "      <td>0</td>\n",
       "      <td>0</td>\n",
       "    </tr>\n",
       "    <tr>\n",
       "      <th>1</th>\n",
       "      <td>1985.0</td>\n",
       "      <td>420665.0</td>\n",
       "      <td>205210.0</td>\n",
       "      <td>6.420870e+10</td>\n",
       "      <td>2.129391e+10</td>\n",
       "      <td>18147.884040</td>\n",
       "      <td>6018.489552</td>\n",
       "      <td>1.983712e+10</td>\n",
       "      <td>5630.0</td>\n",
       "      <td>95.102722</td>\n",
       "      <td>...</td>\n",
       "      <td>0</td>\n",
       "      <td>0</td>\n",
       "      <td>0</td>\n",
       "      <td>0</td>\n",
       "      <td>0</td>\n",
       "      <td>0</td>\n",
       "      <td>0</td>\n",
       "      <td>0</td>\n",
       "      <td>0</td>\n",
       "      <td>0</td>\n",
       "    </tr>\n",
       "    <tr>\n",
       "      <th>2</th>\n",
       "      <td>1984.0</td>\n",
       "      <td>888440.0</td>\n",
       "      <td>430238.0</td>\n",
       "      <td>1.813080e+11</td>\n",
       "      <td>4.802002e+10</td>\n",
       "      <td>18321.674990</td>\n",
       "      <td>4852.565728</td>\n",
       "      <td>4.851687e+10</td>\n",
       "      <td>5130.0</td>\n",
       "      <td>105.983048</td>\n",
       "      <td>...</td>\n",
       "      <td>0</td>\n",
       "      <td>0</td>\n",
       "      <td>0</td>\n",
       "      <td>0</td>\n",
       "      <td>0</td>\n",
       "      <td>0</td>\n",
       "      <td>0</td>\n",
       "      <td>0</td>\n",
       "      <td>0</td>\n",
       "      <td>0</td>\n",
       "    </tr>\n",
       "    <tr>\n",
       "      <th>3</th>\n",
       "      <td>1991.0</td>\n",
       "      <td>2820497.0</td>\n",
       "      <td>1366826.0</td>\n",
       "      <td>8.954290e+11</td>\n",
       "      <td>5.755990e+11</td>\n",
       "      <td>22995.652240</td>\n",
       "      <td>14782.038900</td>\n",
       "      <td>5.713820e+11</td>\n",
       "      <td>13720.0</td>\n",
       "      <td>105.279709</td>\n",
       "      <td>...</td>\n",
       "      <td>0</td>\n",
       "      <td>0</td>\n",
       "      <td>0</td>\n",
       "      <td>0</td>\n",
       "      <td>0</td>\n",
       "      <td>0</td>\n",
       "      <td>0</td>\n",
       "      <td>0</td>\n",
       "      <td>0</td>\n",
       "      <td>0</td>\n",
       "    </tr>\n",
       "    <tr>\n",
       "      <th>4</th>\n",
       "      <td>2006.0</td>\n",
       "      <td>364263.0</td>\n",
       "      <td>161875.0</td>\n",
       "      <td>2.179437e+09</td>\n",
       "      <td>1.211162e+09</td>\n",
       "      <td>506.323083</td>\n",
       "      <td>281.375017</td>\n",
       "      <td>1.202459e+09</td>\n",
       "      <td>280.0</td>\n",
       "      <td>68.011917</td>\n",
       "      <td>...</td>\n",
       "      <td>0</td>\n",
       "      <td>0</td>\n",
       "      <td>0</td>\n",
       "      <td>0</td>\n",
       "      <td>0</td>\n",
       "      <td>0</td>\n",
       "      <td>0</td>\n",
       "      <td>0</td>\n",
       "      <td>0</td>\n",
       "      <td>0</td>\n",
       "    </tr>\n",
       "  </tbody>\n",
       "</table>\n",
       "<p>5 rows × 222 columns</p>\n",
       "</div>"
      ],
      "text/plain": [
       "     year  Enrolment in primary education, both sexes (number)  \\\n",
       "0  2009.0                                           406920.0     \n",
       "1  1985.0                                           420665.0     \n",
       "2  1984.0                                           888440.0     \n",
       "3  1991.0                                          2820497.0     \n",
       "4  2006.0                                           364263.0     \n",
       "\n",
       "   Enrolment in primary education, female (number)  \\\n",
       "0                                         200909.0   \n",
       "1                                         205210.0   \n",
       "2                                         430238.0   \n",
       "3                                        1366826.0   \n",
       "4                                         161875.0   \n",
       "\n",
       "   GDP at market prices (constant 2005 US$)  \\\n",
       "0                              1.063964e+10   \n",
       "1                              6.420870e+10   \n",
       "2                              1.813080e+11   \n",
       "3                              8.954290e+11   \n",
       "4                              2.179437e+09   \n",
       "\n",
       "   GDP at market prices (current US$)  GDP per capita (constant 2005 US$)  \\\n",
       "0                        8.876191e+09                         4943.249801   \n",
       "1                        2.129391e+10                        18147.884040   \n",
       "2                        4.802002e+10                        18321.674990   \n",
       "3                        5.755990e+11                        22995.652240   \n",
       "4                        1.211162e+09                          506.323083   \n",
       "\n",
       "   GDP per capita (current US$)  GNI (current US$)  \\\n",
       "0                   4123.939997       8.708821e+09   \n",
       "1                   6018.489552       1.983712e+10   \n",
       "2                   4852.565728       4.851687e+10   \n",
       "3                  14782.038900       5.713820e+11   \n",
       "4                    281.375017       1.202459e+09   \n",
       "\n",
       "   GNI per capita, Atlas method (current US$)  \\\n",
       "0                                      4120.0   \n",
       "1                                      5630.0   \n",
       "2                                      5130.0   \n",
       "3                                     13720.0   \n",
       "4                                       280.0   \n",
       "\n",
       "   Gross enrolment ratio, primary, both sexes (%)        ...         \\\n",
       "0                                      108.228012        ...          \n",
       "1                                       95.102722        ...          \n",
       "2                                      105.983048        ...          \n",
       "3                                      105.279709        ...          \n",
       "4                                       68.011917        ...          \n",
       "\n",
       "   country_Ukraine  country_United Arab Emirates  country_United Kingdom  \\\n",
       "0                0                             0                       0   \n",
       "1                0                             0                       0   \n",
       "2                0                             0                       0   \n",
       "3                0                             0                       0   \n",
       "4                0                             0                       0   \n",
       "\n",
       "   country_United States  country_Uruguay  country_Uzbekistan  \\\n",
       "0                      0                0                   0   \n",
       "1                      0                0                   0   \n",
       "2                      0                0                   0   \n",
       "3                      0                0                   0   \n",
       "4                      0                0                   0   \n",
       "\n",
       "   country_Vanuatu  country_Vietnam  country_Zambia  country_Zimbabwe  \n",
       "0                0                0               0                 0  \n",
       "1                0                0               0                 0  \n",
       "2                0                0               0                 0  \n",
       "3                0                0               0                 0  \n",
       "4                0                0               0                 0  \n",
       "\n",
       "[5 rows x 222 columns]"
      ]
     },
     "execution_count": 16,
     "metadata": {},
     "output_type": "execute_result"
    }
   ],
   "source": [
    "train_countries = train_data['country']\n",
    "train_class = train_data['Happy Planet Index']\n",
    "train_factors = (train_data.drop(['Happy Planet Index', 'country'], axis=1))\n",
    "\n",
    "test_countries = test_data['country']\n",
    "test_class = test_data['Happy Planet Index']\n",
    "test_factors =(test_data.drop(['Happy Planet Index', 'country'], axis=1))\n",
    "\n",
    "train_factors.head(5)"
   ]
  },
  {
   "cell_type": "markdown",
   "metadata": {},
   "source": [
    "### 3.5 Binning The Years by Decades"
   ]
  },
  {
   "cell_type": "code",
   "execution_count": 17,
   "metadata": {
    "collapsed": false
   },
   "outputs": [
    {
     "data": {
      "text/html": [
       "<div>\n",
       "<table border=\"1\" class=\"dataframe\">\n",
       "  <thead>\n",
       "    <tr style=\"text-align: right;\">\n",
       "      <th></th>\n",
       "      <th>year</th>\n",
       "      <th>Enrolment in primary education, both sexes (number)</th>\n",
       "      <th>Enrolment in primary education, female (number)</th>\n",
       "      <th>GDP at market prices (constant 2005 US$)</th>\n",
       "      <th>GDP at market prices (current US$)</th>\n",
       "      <th>GDP per capita (constant 2005 US$)</th>\n",
       "      <th>GDP per capita (current US$)</th>\n",
       "      <th>GNI (current US$)</th>\n",
       "      <th>GNI per capita, Atlas method (current US$)</th>\n",
       "      <th>Gross enrolment ratio, primary, both sexes (%)</th>\n",
       "      <th>...</th>\n",
       "      <th>country_Ukraine</th>\n",
       "      <th>country_United Arab Emirates</th>\n",
       "      <th>country_United Kingdom</th>\n",
       "      <th>country_United States</th>\n",
       "      <th>country_Uruguay</th>\n",
       "      <th>country_Uzbekistan</th>\n",
       "      <th>country_Vanuatu</th>\n",
       "      <th>country_Vietnam</th>\n",
       "      <th>country_Zambia</th>\n",
       "      <th>country_Zimbabwe</th>\n",
       "    </tr>\n",
       "  </thead>\n",
       "  <tbody>\n",
       "    <tr>\n",
       "      <th>0</th>\n",
       "      <td>3</td>\n",
       "      <td>406920.0</td>\n",
       "      <td>200909.0</td>\n",
       "      <td>1.063964e+10</td>\n",
       "      <td>8.876191e+09</td>\n",
       "      <td>4943.249801</td>\n",
       "      <td>4123.939997</td>\n",
       "      <td>8.708821e+09</td>\n",
       "      <td>4120.0</td>\n",
       "      <td>108.228012</td>\n",
       "      <td>...</td>\n",
       "      <td>0</td>\n",
       "      <td>0</td>\n",
       "      <td>0</td>\n",
       "      <td>0</td>\n",
       "      <td>0</td>\n",
       "      <td>0</td>\n",
       "      <td>0</td>\n",
       "      <td>0</td>\n",
       "      <td>0</td>\n",
       "      <td>0</td>\n",
       "    </tr>\n",
       "    <tr>\n",
       "      <th>1</th>\n",
       "      <td>1</td>\n",
       "      <td>420665.0</td>\n",
       "      <td>205210.0</td>\n",
       "      <td>6.420870e+10</td>\n",
       "      <td>2.129391e+10</td>\n",
       "      <td>18147.884040</td>\n",
       "      <td>6018.489552</td>\n",
       "      <td>1.983712e+10</td>\n",
       "      <td>5630.0</td>\n",
       "      <td>95.102722</td>\n",
       "      <td>...</td>\n",
       "      <td>0</td>\n",
       "      <td>0</td>\n",
       "      <td>0</td>\n",
       "      <td>0</td>\n",
       "      <td>0</td>\n",
       "      <td>0</td>\n",
       "      <td>0</td>\n",
       "      <td>0</td>\n",
       "      <td>0</td>\n",
       "      <td>0</td>\n",
       "    </tr>\n",
       "    <tr>\n",
       "      <th>2</th>\n",
       "      <td>1</td>\n",
       "      <td>888440.0</td>\n",
       "      <td>430238.0</td>\n",
       "      <td>1.813080e+11</td>\n",
       "      <td>4.802002e+10</td>\n",
       "      <td>18321.674990</td>\n",
       "      <td>4852.565728</td>\n",
       "      <td>4.851687e+10</td>\n",
       "      <td>5130.0</td>\n",
       "      <td>105.983048</td>\n",
       "      <td>...</td>\n",
       "      <td>0</td>\n",
       "      <td>0</td>\n",
       "      <td>0</td>\n",
       "      <td>0</td>\n",
       "      <td>0</td>\n",
       "      <td>0</td>\n",
       "      <td>0</td>\n",
       "      <td>0</td>\n",
       "      <td>0</td>\n",
       "      <td>0</td>\n",
       "    </tr>\n",
       "    <tr>\n",
       "      <th>3</th>\n",
       "      <td>2</td>\n",
       "      <td>2820497.0</td>\n",
       "      <td>1366826.0</td>\n",
       "      <td>8.954290e+11</td>\n",
       "      <td>5.755990e+11</td>\n",
       "      <td>22995.652240</td>\n",
       "      <td>14782.038900</td>\n",
       "      <td>5.713820e+11</td>\n",
       "      <td>13720.0</td>\n",
       "      <td>105.279709</td>\n",
       "      <td>...</td>\n",
       "      <td>0</td>\n",
       "      <td>0</td>\n",
       "      <td>0</td>\n",
       "      <td>0</td>\n",
       "      <td>0</td>\n",
       "      <td>0</td>\n",
       "      <td>0</td>\n",
       "      <td>0</td>\n",
       "      <td>0</td>\n",
       "      <td>0</td>\n",
       "    </tr>\n",
       "    <tr>\n",
       "      <th>4</th>\n",
       "      <td>3</td>\n",
       "      <td>364263.0</td>\n",
       "      <td>161875.0</td>\n",
       "      <td>2.179437e+09</td>\n",
       "      <td>1.211162e+09</td>\n",
       "      <td>506.323083</td>\n",
       "      <td>281.375017</td>\n",
       "      <td>1.202459e+09</td>\n",
       "      <td>280.0</td>\n",
       "      <td>68.011917</td>\n",
       "      <td>...</td>\n",
       "      <td>0</td>\n",
       "      <td>0</td>\n",
       "      <td>0</td>\n",
       "      <td>0</td>\n",
       "      <td>0</td>\n",
       "      <td>0</td>\n",
       "      <td>0</td>\n",
       "      <td>0</td>\n",
       "      <td>0</td>\n",
       "      <td>0</td>\n",
       "    </tr>\n",
       "  </tbody>\n",
       "</table>\n",
       "<p>5 rows × 222 columns</p>\n",
       "</div>"
      ],
      "text/plain": [
       "   year  Enrolment in primary education, both sexes (number)  \\\n",
       "0     3                                           406920.0     \n",
       "1     1                                           420665.0     \n",
       "2     1                                           888440.0     \n",
       "3     2                                          2820497.0     \n",
       "4     3                                           364263.0     \n",
       "\n",
       "   Enrolment in primary education, female (number)  \\\n",
       "0                                         200909.0   \n",
       "1                                         205210.0   \n",
       "2                                         430238.0   \n",
       "3                                        1366826.0   \n",
       "4                                         161875.0   \n",
       "\n",
       "   GDP at market prices (constant 2005 US$)  \\\n",
       "0                              1.063964e+10   \n",
       "1                              6.420870e+10   \n",
       "2                              1.813080e+11   \n",
       "3                              8.954290e+11   \n",
       "4                              2.179437e+09   \n",
       "\n",
       "   GDP at market prices (current US$)  GDP per capita (constant 2005 US$)  \\\n",
       "0                        8.876191e+09                         4943.249801   \n",
       "1                        2.129391e+10                        18147.884040   \n",
       "2                        4.802002e+10                        18321.674990   \n",
       "3                        5.755990e+11                        22995.652240   \n",
       "4                        1.211162e+09                          506.323083   \n",
       "\n",
       "   GDP per capita (current US$)  GNI (current US$)  \\\n",
       "0                   4123.939997       8.708821e+09   \n",
       "1                   6018.489552       1.983712e+10   \n",
       "2                   4852.565728       4.851687e+10   \n",
       "3                  14782.038900       5.713820e+11   \n",
       "4                    281.375017       1.202459e+09   \n",
       "\n",
       "   GNI per capita, Atlas method (current US$)  \\\n",
       "0                                      4120.0   \n",
       "1                                      5630.0   \n",
       "2                                      5130.0   \n",
       "3                                     13720.0   \n",
       "4                                       280.0   \n",
       "\n",
       "   Gross enrolment ratio, primary, both sexes (%)        ...         \\\n",
       "0                                      108.228012        ...          \n",
       "1                                       95.102722        ...          \n",
       "2                                      105.983048        ...          \n",
       "3                                      105.279709        ...          \n",
       "4                                       68.011917        ...          \n",
       "\n",
       "   country_Ukraine  country_United Arab Emirates  country_United Kingdom  \\\n",
       "0                0                             0                       0   \n",
       "1                0                             0                       0   \n",
       "2                0                             0                       0   \n",
       "3                0                             0                       0   \n",
       "4                0                             0                       0   \n",
       "\n",
       "   country_United States  country_Uruguay  country_Uzbekistan  \\\n",
       "0                      0                0                   0   \n",
       "1                      0                0                   0   \n",
       "2                      0                0                   0   \n",
       "3                      0                0                   0   \n",
       "4                      0                0                   0   \n",
       "\n",
       "   country_Vanuatu  country_Vietnam  country_Zambia  country_Zimbabwe  \n",
       "0                0                0               0                 0  \n",
       "1                0                0               0                 0  \n",
       "2                0                0               0                 0  \n",
       "3                0                0               0                 0  \n",
       "4                0                0               0                 0  \n",
       "\n",
       "[5 rows x 222 columns]"
      ]
     },
     "execution_count": 17,
     "metadata": {},
     "output_type": "execute_result"
    }
   ],
   "source": [
    "min_year = min(min(train_factors['year']), min(test_factors['year']))\n",
    "train_factors['year'] = train_factors['year'].apply(lambda x:math.floor((x-min_year) / 10))\n",
    "test_factors['year'] = test_factors['year'].apply(lambda x:math.floor((x-min_year) / 10))\n",
    "train_factors.head(5)"
   ]
  },
  {
   "cell_type": "markdown",
   "metadata": {},
   "source": [
    "### 3.6 Change all numeric values' datatypes to float"
   ]
  },
  {
   "cell_type": "code",
   "execution_count": 18,
   "metadata": {
    "collapsed": false
   },
   "outputs": [
    {
     "data": {
      "text/plain": [
       "year                                                   float64\n",
       "Enrolment in primary education, both sexes (number)    float64\n",
       "Enrolment in primary education, female (number)        float64\n",
       "GDP at market prices (constant 2005 US$)               float64\n",
       "GDP at market prices (current US$)                     float64\n",
       "dtype: object"
      ]
     },
     "execution_count": 18,
     "metadata": {},
     "output_type": "execute_result"
    }
   ],
   "source": [
    "train_factors = train_factors.astype(np.float)\n",
    "test_factors = test_factors.astype(np.float)\n",
    "train_factors.dtypes[:5]"
   ]
  },
  {
   "cell_type": "markdown",
   "metadata": {},
   "source": [
    "### 3.7 Creating a yearless and countryless copies of the data\n",
    "#### Henceforth, we duplicate our actions handling the data for each copy "
   ]
  },
  {
   "cell_type": "code",
   "execution_count": 19,
   "metadata": {
    "collapsed": false,
    "scrolled": true
   },
   "outputs": [],
   "source": [
    "alternative_models = AlternativeModel.createAlternativeModels\\\n",
    "    (train_data, train_factors, train_class, train_countries, test_data, test_factors,\\\n",
    "                                       test_class, test_countries)"
   ]
  },
  {
   "cell_type": "markdown",
   "metadata": {
    "collapsed": true
   },
   "source": [
    "### 3.8 Data linearity proving"
   ]
  },
  {
   "cell_type": "code",
   "execution_count": 20,
   "metadata": {
    "collapsed": false
   },
   "outputs": [
    {
     "name": "stdout",
     "output_type": "stream",
     "text": [
      "Please choose an option\n"
     ]
    },
    {
     "data": {
      "text/plain": [
       "<function classes.OutliersDetection.allDataLinearityProving>"
      ]
     },
     "execution_count": 20,
     "metadata": {},
     "output_type": "execute_result"
    }
   ],
   "source": [
    "interact(OutliersDetection.allDataLinearityProving,\\\n",
    "             request=RadioButtons(options=  types_for_interact,\\\n",
    "                                  description='Select data type:', disabled=False))"
   ]
  },
  {
   "cell_type": "markdown",
   "metadata": {},
   "source": [
    "### 3.9 Scaling nomeric features"
   ]
  },
  {
   "cell_type": "code",
   "execution_count": 21,
   "metadata": {
    "collapsed": false
   },
   "outputs": [
    {
     "data": {
      "text/html": [
       "<div>\n",
       "<table border=\"1\" class=\"dataframe\">\n",
       "  <thead>\n",
       "    <tr style=\"text-align: right;\">\n",
       "      <th></th>\n",
       "      <th>year</th>\n",
       "      <th>Enrolment in primary education, both sexes (number)</th>\n",
       "      <th>Enrolment in primary education, female (number)</th>\n",
       "      <th>GDP at market prices (constant 2005 US$)</th>\n",
       "      <th>GDP at market prices (current US$)</th>\n",
       "      <th>GDP per capita (constant 2005 US$)</th>\n",
       "      <th>GDP per capita (current US$)</th>\n",
       "      <th>GNI (current US$)</th>\n",
       "      <th>GNI per capita, Atlas method (current US$)</th>\n",
       "      <th>Gross enrolment ratio, primary, both sexes (%)</th>\n",
       "      <th>...</th>\n",
       "      <th>country_Ukraine</th>\n",
       "      <th>country_United Arab Emirates</th>\n",
       "      <th>country_United Kingdom</th>\n",
       "      <th>country_United States</th>\n",
       "      <th>country_Uruguay</th>\n",
       "      <th>country_Uzbekistan</th>\n",
       "      <th>country_Vanuatu</th>\n",
       "      <th>country_Vietnam</th>\n",
       "      <th>country_Zambia</th>\n",
       "      <th>country_Zimbabwe</th>\n",
       "    </tr>\n",
       "  </thead>\n",
       "  <tbody>\n",
       "    <tr>\n",
       "      <th>0</th>\n",
       "      <td>0.780879</td>\n",
       "      <td>-0.287638</td>\n",
       "      <td>-0.296172</td>\n",
       "      <td>-0.514255</td>\n",
       "      <td>-0.378689</td>\n",
       "      <td>-1.064374</td>\n",
       "      <td>-0.728401</td>\n",
       "      <td>-0.374095</td>\n",
       "      <td>-0.745905</td>\n",
       "      <td>0.612859</td>\n",
       "      <td>...</td>\n",
       "      <td>-0.063758</td>\n",
       "      <td>-0.045038</td>\n",
       "      <td>-0.176961</td>\n",
       "      <td>-0.055188</td>\n",
       "      <td>-0.055188</td>\n",
       "      <td>-0.045038</td>\n",
       "      <td>-0.03183</td>\n",
       "      <td>-0.063758</td>\n",
       "      <td>-0.03183</td>\n",
       "      <td>-0.055188</td>\n",
       "    </tr>\n",
       "    <tr>\n",
       "      <th>1</th>\n",
       "      <td>-0.782461</td>\n",
       "      <td>-0.286277</td>\n",
       "      <td>-0.295247</td>\n",
       "      <td>-0.471274</td>\n",
       "      <td>-0.367663</td>\n",
       "      <td>-0.355682</td>\n",
       "      <td>-0.598975</td>\n",
       "      <td>-0.364349</td>\n",
       "      <td>-0.637493</td>\n",
       "      <td>-0.809469</td>\n",
       "      <td>...</td>\n",
       "      <td>-0.063758</td>\n",
       "      <td>-0.045038</td>\n",
       "      <td>-0.176961</td>\n",
       "      <td>-0.055188</td>\n",
       "      <td>-0.055188</td>\n",
       "      <td>-0.045038</td>\n",
       "      <td>-0.03183</td>\n",
       "      <td>-0.063758</td>\n",
       "      <td>-0.03183</td>\n",
       "      <td>-0.055188</td>\n",
       "    </tr>\n",
       "    <tr>\n",
       "      <th>2</th>\n",
       "      <td>-0.782461</td>\n",
       "      <td>-0.239970</td>\n",
       "      <td>-0.246859</td>\n",
       "      <td>-0.377320</td>\n",
       "      <td>-0.343932</td>\n",
       "      <td>-0.346354</td>\n",
       "      <td>-0.678625</td>\n",
       "      <td>-0.339231</td>\n",
       "      <td>-0.673391</td>\n",
       "      <td>0.369583</td>\n",
       "      <td>...</td>\n",
       "      <td>-0.063758</td>\n",
       "      <td>-0.045038</td>\n",
       "      <td>-0.176961</td>\n",
       "      <td>-0.055188</td>\n",
       "      <td>-0.055188</td>\n",
       "      <td>-0.045038</td>\n",
       "      <td>-0.03183</td>\n",
       "      <td>-0.063758</td>\n",
       "      <td>-0.03183</td>\n",
       "      <td>-0.055188</td>\n",
       "    </tr>\n",
       "    <tr>\n",
       "      <th>3</th>\n",
       "      <td>-0.000791</td>\n",
       "      <td>-0.048709</td>\n",
       "      <td>-0.045464</td>\n",
       "      <td>0.195653</td>\n",
       "      <td>0.124527</td>\n",
       "      <td>-0.095502</td>\n",
       "      <td>-0.000298</td>\n",
       "      <td>0.118704</td>\n",
       "      <td>-0.056662</td>\n",
       "      <td>0.293365</td>\n",
       "      <td>...</td>\n",
       "      <td>-0.063758</td>\n",
       "      <td>-0.045038</td>\n",
       "      <td>-0.176961</td>\n",
       "      <td>-0.055188</td>\n",
       "      <td>-0.055188</td>\n",
       "      <td>-0.045038</td>\n",
       "      <td>-0.03183</td>\n",
       "      <td>-0.063758</td>\n",
       "      <td>-0.03183</td>\n",
       "      <td>-0.055188</td>\n",
       "    </tr>\n",
       "    <tr>\n",
       "      <th>4</th>\n",
       "      <td>0.780879</td>\n",
       "      <td>-0.291860</td>\n",
       "      <td>-0.304565</td>\n",
       "      <td>-0.521043</td>\n",
       "      <td>-0.385495</td>\n",
       "      <td>-1.302503</td>\n",
       "      <td>-0.990904</td>\n",
       "      <td>-0.380670</td>\n",
       "      <td>-1.021603</td>\n",
       "      <td>-3.745178</td>\n",
       "      <td>...</td>\n",
       "      <td>-0.063758</td>\n",
       "      <td>-0.045038</td>\n",
       "      <td>-0.176961</td>\n",
       "      <td>-0.055188</td>\n",
       "      <td>-0.055188</td>\n",
       "      <td>-0.045038</td>\n",
       "      <td>-0.03183</td>\n",
       "      <td>-0.063758</td>\n",
       "      <td>-0.03183</td>\n",
       "      <td>-0.055188</td>\n",
       "    </tr>\n",
       "  </tbody>\n",
       "</table>\n",
       "<p>5 rows × 222 columns</p>\n",
       "</div>"
      ],
      "text/plain": [
       "       year  Enrolment in primary education, both sexes (number)  \\\n",
       "0  0.780879                                          -0.287638     \n",
       "1 -0.782461                                          -0.286277     \n",
       "2 -0.782461                                          -0.239970     \n",
       "3 -0.000791                                          -0.048709     \n",
       "4  0.780879                                          -0.291860     \n",
       "\n",
       "   Enrolment in primary education, female (number)  \\\n",
       "0                                        -0.296172   \n",
       "1                                        -0.295247   \n",
       "2                                        -0.246859   \n",
       "3                                        -0.045464   \n",
       "4                                        -0.304565   \n",
       "\n",
       "   GDP at market prices (constant 2005 US$)  \\\n",
       "0                                 -0.514255   \n",
       "1                                 -0.471274   \n",
       "2                                 -0.377320   \n",
       "3                                  0.195653   \n",
       "4                                 -0.521043   \n",
       "\n",
       "   GDP at market prices (current US$)  GDP per capita (constant 2005 US$)  \\\n",
       "0                           -0.378689                           -1.064374   \n",
       "1                           -0.367663                           -0.355682   \n",
       "2                           -0.343932                           -0.346354   \n",
       "3                            0.124527                           -0.095502   \n",
       "4                           -0.385495                           -1.302503   \n",
       "\n",
       "   GDP per capita (current US$)  GNI (current US$)  \\\n",
       "0                     -0.728401          -0.374095   \n",
       "1                     -0.598975          -0.364349   \n",
       "2                     -0.678625          -0.339231   \n",
       "3                     -0.000298           0.118704   \n",
       "4                     -0.990904          -0.380670   \n",
       "\n",
       "   GNI per capita, Atlas method (current US$)  \\\n",
       "0                                   -0.745905   \n",
       "1                                   -0.637493   \n",
       "2                                   -0.673391   \n",
       "3                                   -0.056662   \n",
       "4                                   -1.021603   \n",
       "\n",
       "   Gross enrolment ratio, primary, both sexes (%)        ...         \\\n",
       "0                                        0.612859        ...          \n",
       "1                                       -0.809469        ...          \n",
       "2                                        0.369583        ...          \n",
       "3                                        0.293365        ...          \n",
       "4                                       -3.745178        ...          \n",
       "\n",
       "   country_Ukraine  country_United Arab Emirates  country_United Kingdom  \\\n",
       "0        -0.063758                     -0.045038               -0.176961   \n",
       "1        -0.063758                     -0.045038               -0.176961   \n",
       "2        -0.063758                     -0.045038               -0.176961   \n",
       "3        -0.063758                     -0.045038               -0.176961   \n",
       "4        -0.063758                     -0.045038               -0.176961   \n",
       "\n",
       "   country_United States  country_Uruguay  country_Uzbekistan  \\\n",
       "0              -0.055188        -0.055188           -0.045038   \n",
       "1              -0.055188        -0.055188           -0.045038   \n",
       "2              -0.055188        -0.055188           -0.045038   \n",
       "3              -0.055188        -0.055188           -0.045038   \n",
       "4              -0.055188        -0.055188           -0.045038   \n",
       "\n",
       "   country_Vanuatu  country_Vietnam  country_Zambia  country_Zimbabwe  \n",
       "0         -0.03183        -0.063758        -0.03183         -0.055188  \n",
       "1         -0.03183        -0.063758        -0.03183         -0.055188  \n",
       "2         -0.03183        -0.063758        -0.03183         -0.055188  \n",
       "3         -0.03183        -0.063758        -0.03183         -0.055188  \n",
       "4         -0.03183        -0.063758        -0.03183         -0.055188  \n",
       "\n",
       "[5 rows x 222 columns]"
      ]
     },
     "execution_count": 21,
     "metadata": {},
     "output_type": "execute_result"
    }
   ],
   "source": [
    "for data in data_types:\n",
    "    alternative_models[data].train_factors = \\\n",
    "            pd.DataFrame(sp.StandardScaler().fit_transform(alternative_models[data].train_factors),columns =\\\n",
    "                                          alternative_models[data].train_factors.columns)\n",
    "    alternative_models[data].test_factors = \\\n",
    "            pd.DataFrame(sp.StandardScaler().fit_transform(alternative_models[data].test_factors),columns =\\\n",
    "                                          alternative_models[data].test_factors.columns)\n",
    "AlternativeModel.updateAlternativeModels(alternative_models)\n",
    "alternative_models['main data'].train_factors.head(5)"
   ]
  },
  {
   "cell_type": "markdown",
   "metadata": {},
   "source": [
    "## 4. Outliers Detection"
   ]
  },
  {
   "cell_type": "markdown",
   "metadata": {},
   "source": [
    "### 4.1 Robust Regression Method"
   ]
  },
  {
   "cell_type": "code",
   "execution_count": 22,
   "metadata": {
    "collapsed": false,
    "scrolled": true
   },
   "outputs": [
    {
     "name": "stdout",
     "output_type": "stream",
     "text": [
      "Please choose an option\n"
     ]
    },
    {
     "data": {
      "text/plain": [
       "<function classes.OutliersDetection.showResidualsRemoval>"
      ]
     },
     "execution_count": 22,
     "metadata": {},
     "output_type": "execute_result"
    }
   ],
   "source": [
    "f = FloatProgress(min=0, max=100)\n",
    "display(f)\n",
    "for data in data_types:\n",
    "    alternative_models[data].train_factors, alternative_models[data].\\\n",
    "        train_class, alternative_models[data].train_data =\\\n",
    "                                OutliersDetection.removeOutliersRlm(alternative_models[data].train_factors, \\\n",
    "                                                                    alternative_models[data].train_class, \\\n",
    "                                                                alternative_models[data].train_data, 1,data)\n",
    "    f.value += 33\n",
    "    \n",
    "AlternativeModel.updateAlternativeModels(alternative_models)\n",
    "f.value += 1\n",
    "\n",
    "interact(OutliersDetection.showResidualsRemoval,\\\n",
    "             request=RadioButtons(options=  types_for_interact,\\\n",
    "                                  description='Select data type:', disabled=False))"
   ]
  },
  {
   "cell_type": "markdown",
   "metadata": {},
   "source": [
    "### 4.2 PCA Visual Method"
   ]
  },
  {
   "cell_type": "markdown",
   "metadata": {},
   "source": [
    "#### 4.2.1 Apply 2D-PCA dimension reduction for visual outliers detection "
   ]
  },
  {
   "cell_type": "code",
   "execution_count": 23,
   "metadata": {
    "collapsed": false
   },
   "outputs": [
    {
     "data": {
      "image/png": "[encoded data removed]",
      "text/plain": [
       "<matplotlib.figure.Figure at 0x277ab241208>"
      ]
     },
     "metadata": {},
     "output_type": "display_data"
    }
   ],
   "source": [
    "PCAAltModels = dict([(data,(OutliersDetection.\\\n",
    "                            twoDimPCAandClustering(alternative_models[data].train_factors,data))) \\\n",
    "                                 for data in data_types])\n",
    "AlternativeModel.updateAlternativeModels(alternative_models)\n",
    "\n",
    "interact(OutliersDetection.allDataTwoDimPCAandClustering,\\\n",
    "             request=RadioButtons(options=  types_for_interact,\\\n",
    "                                  description='Select data type:', disabled=False))"
   ]
  },
  {
   "cell_type": "markdown",
   "metadata": {},
   "source": [
    "#### 4.2.2 Print outliers' countries"
   ]
  },
  {
   "cell_type": "code",
   "execution_count": null,
   "metadata": {
    "collapsed": false
   },
   "outputs": [],
   "source": [
    "outliers_indecies_alternative_model = dict([(data,np.where(PCAAltModels[data][0][:,0] > 20)[0].tolist()) \\\n",
    "                                            for data in data_types])\n",
    "outliers_df_alternative_model = dict([(data,alternative_models[data].train_data.loc\\\n",
    "                                       [outliers_indecies_alternative_model[data], :]) for data \\\n",
    "                                             in data_types])\n",
    "OutliersDetection.printOutlierCountries(outliers_df_alternative_model,outliers_indecies_alternative_model)"
   ]
  },
  {
   "cell_type": "markdown",
   "metadata": {},
   "source": [
    "#### 4.2.3 Remove visible outliers if reducing aquracy"
   ]
  },
  {
   "cell_type": "code",
   "execution_count": null,
   "metadata": {
    "collapsed": false
   },
   "outputs": [],
   "source": [
    "f = FloatProgress(min=0, max=100)\n",
    "display(f)\n",
    "f.value += 1\n",
    "for data in data_types:\n",
    "    print(\"• \",data,\"run:\")\n",
    "    alternative_models[data].train_factors, alternative_models[data].\\\n",
    "            train_class, alternative_models[data].train_data =\\\n",
    "                                OutliersDetection.removeOutliersPCA(alternative_models[data].train_factors,\\\n",
    "                                                                    alternative_models[data].train_class,\\\n",
    "                                                                    alternative_models[data].train_data,\\\n",
    "                                                                    outliers_indecies_alternative_model[data])\n",
    "    f.value += 33\n",
    "AlternativeModel.updateAlternativeModels(alternative_models)"
   ]
  },
  {
   "cell_type": "markdown",
   "metadata": {},
   "source": [
    "## 5. Feature selection with E.Net model"
   ]
  },
  {
   "cell_type": "markdown",
   "metadata": {},
   "source": [
    "### 5.1 Feature selection"
   ]
  },
  {
   "cell_type": "code",
   "execution_count": null,
   "metadata": {
    "collapsed": false
   },
   "outputs": [],
   "source": [
    "chosen_features_and_coefs_alternative_models = dict([(data,\"\") for data in data_types])\n",
    "table_alternative_models = dict([(data,\"\") for data in data_types])\n",
    "\n",
    "f = FloatProgress(min=0, max=100)\n",
    "display(f)\n",
    "f.value += 1\n",
    "for data in data_types:\n",
    "    chosen_features_and_coefs_alternative_models[data], table_alternative_models[data] =\\\n",
    "                                FeatureSelection.featureSelectionWithENET(alternative_models[data].train_factors,\\\n",
    "                                                                    alternative_models[data].train_class)\n",
    "    f.value += 33\n",
    "AlternativeModel.updateAlternativeModels(alternative_models)\n",
    "\n",
    "FeatureSelection.printStrongCoeffs(table_alternative_models)"
   ]
  },
  {
   "cell_type": "markdown",
   "metadata": {},
   "source": [
    "### 5.2 Countries correlated to target plot"
   ]
  },
  {
   "cell_type": "code",
   "execution_count": null,
   "metadata": {
    "collapsed": false
   },
   "outputs": [],
   "source": [
    "FeatureSelection.countriesCorrMap(chosen_features_and_coefs_alternative_models)"
   ]
  },
  {
   "cell_type": "markdown",
   "metadata": {},
   "source": [
    "### 5.3 Take remaining features"
   ]
  },
  {
   "cell_type": "code",
   "execution_count": null,
   "metadata": {
    "collapsed": false
   },
   "outputs": [],
   "source": [
    "for data in data_types:\n",
    "    chosen_features = [x[0] for x in chosen_features_and_coefs_alternative_models[data]]\n",
    "    alternative_models[data].train_factors = alternative_models[data].train_factors[chosen_features]\n",
    "    alternative_models[data].test_factors = alternative_models[data].test_factors[chosen_features]"
   ]
  },
  {
   "cell_type": "markdown",
   "metadata": {},
   "source": [
    "## 6. Features extraction\n",
    "#### Checking feature interactions' correlations to label - done only for main data type"
   ]
  },
  {
   "cell_type": "markdown",
   "metadata": {},
   "source": [
    "### 6.1 Synthesizing features' interactions"
   ]
  },
  {
   "cell_type": "code",
   "execution_count": null,
   "metadata": {
    "collapsed": false
   },
   "outputs": [],
   "source": [
    "poly = sp.PolynomialFeatures(2, include_bias=False)\n",
    "transf_train = poly.fit_transform(train_factors)\n",
    "transf_test = poly.fit_transform(test_factors)\n",
    "target_feature_names = ['x'.join(['{}^{}'.format(pair[0],pair[1]) \\\n",
    "                                  for pair in tuple if pair[1]!=0]) for tuple in [zip(train_factors.columns,p) \\\n",
    "                                                                                  for p in poly.powers_]]\n",
    "train_factors_after_extracion = (pd.DataFrame(transf_train, columns = target_feature_names))\n",
    "test_factors_after_extracion = (pd.DataFrame(transf_test, columns = target_feature_names))\n",
    "train_factors_after_extracion.head(5)"
   ]
  },
  {
   "cell_type": "markdown",
   "metadata": {},
   "source": [
    "### 6.2 Checking correlations between target and synthesized features"
   ]
  },
  {
   "cell_type": "code",
   "execution_count": null,
   "metadata": {
    "collapsed": false
   },
   "outputs": [],
   "source": [
    "poly = sp.PolynomialFeatures(2, include_bias=False)\n",
    "transf_train = poly.fit_transform(train_factors)\n",
    "target_feature_names = ['x'.join(['{}^{}'.format(pair[0],pair[1]) for pair in tuple if pair[1]!=0])\\\n",
    "                        for tuple in [zip(train_factors.columns,p) for p in poly.powers_]]\n",
    "train_factors_after_extracion = (pd.DataFrame(transf_train, columns = target_feature_names))\n",
    "\n",
    "max_corr_before = HPI_correlation['Correlation to Happy Planet Index'].iloc[0]\n",
    "HPI_correlation_feature_extraction = train_factors_after_extracion[train_factors_after_extracion.columns[:]].apply\\\n",
    "(lambda x: x.corr(train_data['Happy Planet Index'], method='spearman'))\n",
    "HPI_correlation_feature_extraction = HPI_correlation_feature_extraction.abs().sort_values(ascending=False)\n",
    "HPI_correlation_feature_extraction = pd.DataFrame({'Feature':HPI_correlation_feature_extraction.index,\\\n",
    "                                'Correlation to Happy Planet Index':HPI_correlation_feature_extraction.values})\n",
    "HPI_correlation_feature_extraction = HPI_correlation_feature_extraction.loc\\\n",
    "[(HPI_correlation_feature_extraction[\"Correlation to Happy Planet Index\"] > max_corr_before) \\\n",
    " & ((HPI_correlation_feature_extraction[\"Feature\"].\\\n",
    "     str.count(\"\\^\") == 2) | ((HPI_correlation_feature_extraction[\"Feature\"].str.count(\"\\^2\") == 1)))]\n",
    "print('There are', HPI_correlation_feature_extraction.shape[0],\\\n",
    "      'new features that are more correlative to target then \\\n",
    "      old features and many other new very correlative features')\n",
    "HPI_correlation_feature_extraction.head(5)"
   ]
  },
  {
   "cell_type": "markdown",
   "metadata": {},
   "source": [
    "## 7. Model - Kernel ridge regression"
   ]
  },
  {
   "cell_type": "markdown",
   "metadata": {},
   "source": [
    "#### We use this model with the kernel trick due to the positive results of section 6.2"
   ]
  },
  {
   "cell_type": "code",
   "execution_count": null,
   "metadata": {
    "collapsed": false
   },
   "outputs": [],
   "source": [
    "param_grid_for_kridge = {'alpha': [1e0, 1e-1, 1e-2, 1e-3, 1e-4, 1e-5, 1e-6, 1e-7, 1e-8, 1e-9, 1e-10, 1e-11, 1e-12],\\\n",
    "              'gamma': [1e0, 1e-1, 1e-2, 1e-3, 1e-4, 1e-5, 1e-6, 1e-7, 1e-8, 1e-9, 1e-10, 1e-11, 1e-12]}\n",
    "model = GridSearchCV(KernelRidge(kernel='polynomial', degree=2),\\\n",
    "                     cv=5, param_grid=param_grid_for_kridge, n_jobs=-1, verbose=1)\n",
    "\n",
    "kernel_ridge_results = dict([(data,ResultsMeasurements(button_exec.value, alternative_models[data].train_data,\\\n",
    "                            alternative_models[data].test_data,alternative_models[data].train_factors,\\\n",
    "                                alternative_models[data].test_factors,alternative_models[data].train_class,\\\n",
    "                                    alternative_models[data].test_class,model,'kernel ridge resgression '+data))\\\n",
    "                                       for data in data_types])\n",
    "tab = ResultsMeasurements.tabDisplay(kernel_ridge_results)\n",
    "tab"
   ]
  },
  {
   "cell_type": "markdown",
   "metadata": {},
   "source": [
    "## 8. Model Evaluation"
   ]
  },
  {
   "cell_type": "markdown",
   "metadata": {},
   "source": [
    "### 8.1 Linear Regression"
   ]
  },
  {
   "cell_type": "code",
   "execution_count": null,
   "metadata": {
    "collapsed": false,
    "scrolled": true
   },
   "outputs": [],
   "source": [
    "lr = LinearRegression()\n",
    "linear_regression_results = dict([(data,ResultsMeasurements(button_exec.value, alternative_models[data].train_data,\\\n",
    "                            alternative_models[data].test_data,alternative_models[data].train_factors,\\\n",
    "                                    alternative_models[data].test_factors,alternative_models[data].train_class,\\\n",
    "                                            alternative_models[data].test_class,lr,'linear regression '+data))\\\n",
    "                                               for data in data_types])\n",
    "tab = ResultsMeasurements.tabDisplay(linear_regression_results)\n",
    "tab"
   ]
  },
  {
   "cell_type": "markdown",
   "metadata": {},
   "source": [
    "### 8.2 Ridge Regression"
   ]
  },
  {
   "cell_type": "code",
   "execution_count": null,
   "metadata": {
    "collapsed": false
   },
   "outputs": [],
   "source": [
    "ridge = Ridge(alpha=1.0)\n",
    "ridge_regression_results = dict([(data,ResultsMeasurements(button_exec.value, alternative_models[data].train_data,\\\n",
    "                                alternative_models[data].test_data,alternative_models[data].train_factors,\\\n",
    "                                        alternative_models[data].test_factors,alternative_models[data].train_class,\\\n",
    "                                                alternative_models[data].test_class,ridge,'ridge resgression '+data))\\\n",
    "                                                   for data in data_types])\n",
    "tab = ResultsMeasurements.tabDisplay(ridge_regression_results)\n",
    "tab"
   ]
  },
  {
   "cell_type": "markdown",
   "metadata": {},
   "source": [
    "### 8.3 Random Forest\n",
    "#### The Random Forest model presents better results on the data, and therefore we will use it instead of the kernel ridge"
   ]
  },
  {
   "cell_type": "code",
   "execution_count": null,
   "metadata": {
    "collapsed": false
   },
   "outputs": [],
   "source": [
    "param_grid_for_random_forest = {'max_features': [None, 'sqrt', 'log2'],\\\n",
    "                    'n_estimators': [500, 1000, 1500], 'max_depth': [None, 1, 5, 10, 50], 'min_samples_split':\\\n",
    "                    [2, 3, 4, 5], 'min_samples_leaf':[1, 3, 5, 7, 9]}\n",
    "clf = GridSearchCV(RandomForestRegressor(), param_grid=param_grid_for_random_forest, cv=5,\n",
    "                  n_jobs=-1, verbose=1)\n",
    "random_forest_results = dict([(data,ResultsMeasurements(button_exec.value, alternative_models[data].train_data,\\\n",
    "                            alternative_models[data].test_data,alternative_models[data].train_factors,\\\n",
    "                                    alternative_models[data].test_factors,alternative_models[data].train_class,\\\n",
    "                                        alternative_models[data].test_class,clf,'random forest resgression '+data))\\\n",
    "                                           for data in data_types])\n",
    "tab = ResultsMeasurements.tabDisplay(random_forest_results)\n",
    "tab"
   ]
  },
  {
   "cell_type": "markdown",
   "metadata": {},
   "source": [
    "### 8.4 Numeric Results Comparison for all 4 models"
   ]
  },
  {
   "cell_type": "code",
   "execution_count": null,
   "metadata": {
    "collapsed": false,
    "scrolled": true
   },
   "outputs": [],
   "source": [
    "ResultsMeasurements.compareModels(linear_regression_results, ridge_regression_results,\\\n",
    "                                  kernel_ridge_results,random_forest_results)"
   ]
  },
  {
   "cell_type": "markdown",
   "metadata": {},
   "source": [
    "## 9. The prediction of Random Forest (elected model), on the test dataset compared to label"
   ]
  },
  {
   "cell_type": "code",
   "execution_count": null,
   "metadata": {
    "collapsed": false
   },
   "outputs": [],
   "source": [
    "ResultsMeasurements.compareLabelPredictionOnMap(random_forest_results)"
   ]
  },
  {
   "cell_type": "markdown",
   "metadata": {},
   "source": [
    "## 10.  Types of datasets' prediction comparison (for our elected model - Random Forest)"
   ]
  },
  {
   "cell_type": "code",
   "execution_count": null,
   "metadata": {
    "collapsed": false
   },
   "outputs": [],
   "source": [
    "comparison_parameters = pd.DataFrame(['R^2 for Train data','R^2 for Test data','Mean HPI for Train data',\\\n",
    "                              'Mean pdataTypesrediction for Train data','Mean HPI for Test data',\\\n",
    "                                      'Mean prediction for Test data',\\\n",
    "                                          'Error Percentage for Train data','Error Percentage for Test data'])\n",
    "for dataset in data_types:\n",
    "    comparison_parameters[dataset] = random_forest_results[dataset].comparison_parameters_df\n",
    "comparison_parameters.columns = ['parameter'] + data_types\n",
    "display(comparison_parameters.head(10))"
   ]
  },
  {
   "cell_type": "code",
   "execution_count": null,
   "metadata": {
    "collapsed": true
   },
   "outputs": [],
   "source": []
  }
 ],
 "metadata": {
  "anaconda-cloud": {},
  "kernelspec": {
   "display_name": "Python [conda root]",
   "language": "python",
   "name": "conda-root-py"
  },
  "language_info": {
   "codemirror_mode": {
    "name": "ipython",
    "version": 3
   },
   "file_extension": ".py",
   "mimetype": "text/x-python",
   "name": "python",
   "nbconvert_exporter": "python",
   "pygments_lexer": "ipython3",
   "version": "3.5.2"
  },
  "widgets": {
   "state": {
    "0571c025ac924fefa3110bee8d54c498": {
     "views": [
      {
       "cell_index": 59
      }
     ]
    },
    "0ef0d93947984a4b9e76fd9b1de3e749": {
     "views": [
      {
       "cell_index": 3
      }
     ]
    },
    "1305c664ab4c484b819c2cc4bb7fad56": {
     "views": [
      {
       "cell_index": 3
      }
     ]
    },
    "1a72dc78f8bb48c683d03a557082767a": {
     "views": [
      {
       "cell_index": 3
      }
     ]
    },
    "1f74f3456e1c40dcbeffee03a2dc5ffd": {
     "views": [
      {
       "cell_index": 56
      }
     ]
    },
    "29fd3cf0db42471496e0611566ff7429": {
     "views": [
      {
       "cell_index": 49
      }
     ]
    },
    "2af683af0a604fd2b5cd5085e1a38f71": {
     "views": [
      {
       "cell_index": 82
      }
     ]
    },
    "354556dbcab644fda8a763b28f62e46f": {
     "views": [
      {
       "cell_index": 3
      }
     ]
    },
    "3f63abcf8ee54f3781d24c34a9ba191b": {
     "views": [
      {
       "cell_index": 59
      }
     ]
    },
    "446fc8bc43b64b678521c20f1f6b8ca2": {
     "views": [
      {
       "cell_index": 78
      }
     ]
    },
    "4ea37f1422464ff79c680c4cb414fe2d": {
     "views": [
      {
       "cell_index": 49
      }
     ]
    },
    "54e8056c3dbb4a879c6d92be39880dd8": {
     "views": [
      {
       "cell_index": 52
      }
     ]
    },
    "552a4783aeff482a960adbc98feaab95": {
     "views": [
      {
       "cell_index": 59
      }
     ]
    },
    "5cd132ebe41a4f74806efb00a44c4ea3": {
     "views": [
      {
       "cell_index": 3
      }
     ]
    },
    "5e0fe472dc0447a3815545c2ae3adeed": {
     "views": [
      {
       "cell_index": 76
      }
     ]
    },
    "64e1abe51a5e4c2d9b176ec90d239503": {
     "views": [
      {
       "cell_index": 3
      }
     ]
    },
    "68d639c4726347938482b8d3c7b3cfc3": {
     "views": [
      {
       "cell_index": 3
      }
     ]
    },
    "7254eaa4347d4cb2a954884262ec7317": {
     "views": [
      {
       "cell_index": 49
      }
     ]
    },
    "76f93fb6fc184da4ad5dd15e2ffdfc99": {
     "views": [
      {
       "cell_index": 3
      }
     ]
    },
    "82c0233b94c84b2aa4216df935621255": {
     "views": [
      {
       "cell_index": 3
      }
     ]
    },
    "880def2315ca47bfb70494e0a5f32b22": {
     "views": [
      {
       "cell_index": 25
      }
     ]
    },
    "8a5404a88d884ef48c6477bcde7c49df": {
     "views": [
      {
       "cell_index": 61
      }
     ]
    },
    "9396b3183f60485a95ca38f61781bd1e": {
     "views": [
      {
       "cell_index": 49
      }
     ]
    },
    "9a780f9768ce40c6b1ba411a7110290d": {
     "views": [
      {
       "cell_index": 71
      }
     ]
    },
    "a57e698688364932af7bb235b7829e8a": {
     "views": [
      {
       "cell_index": 49
      }
     ]
    },
    "b32f488f654e4693a0a3754e82b8acb9": {
     "views": [
      {
       "cell_index": 44
      }
     ]
    },
    "c2fa428a7bb54d36b2b27ef06b7ecf36": {
     "views": [
      {
       "cell_index": 59
      }
     ]
    },
    "c33b8c75187f42d591e94a85089e55ba": {
     "views": [
      {
       "cell_index": 49
      }
     ]
    },
    "c93c5acd97fa4cd6a8e91d0508d99ded": {
     "views": [
      {
       "cell_index": 59
      }
     ]
    },
    "c9a6710148374ecea5ed47c865361625": {
     "views": [
      {
       "cell_index": 80
      }
     ]
    },
    "d8e995f20d734b4eb80c6b268d0ece76": {
     "views": [
      {
       "cell_index": 74
      }
     ]
    },
    "e76ba566259d4d93a997ce2a75012828": {
     "views": [
      {
       "cell_index": 54
      }
     ]
    }
   },
   "version": "1.2.0"
  }
 },
 "nbformat": 4,
 "nbformat_minor": 0
}
