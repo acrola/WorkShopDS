{
 "cells": [
  {
   "cell_type": "markdown",
   "metadata": {},
   "source": [
    "# Education as a Happiness predictor"
   ]
  },
  {
   "cell_type": "markdown",
   "metadata": {
    "slideshow": {
     "slide_type": "slide"
    }
   },
   "source": [
    "## 1.Data preparation and cleaning"
   ]
  },
  {
   "cell_type": "markdown",
   "metadata": {},
   "source": [
    "### 1.1 Import Utilities Library\n",
    "\n",
    "##### Click \"Run long executions\" for dataset file prepararion and model training\n",
    "##### Click \"Don't show plots\" for disabling graphics"
   ]
  },
  {
   "cell_type": "code",
   "execution_count": 1,
   "metadata": {
    "collapsed": false
   },
   "outputs": [],
   "source": [
    "%matplotlib inline\n",
    "from utilities import *"
   ]
  },
  {
   "cell_type": "markdown",
   "metadata": {},
   "source": [
    "### 1.2 Obtaining the Dataset file"
   ]
  },
  {
   "cell_type": "code",
   "execution_count": 2,
   "metadata": {
    "collapsed": false
   },
   "outputs": [],
   "source": [
    "if not button_exec.value:\n",
    "    DataPreparation.obtainDataFromLocalDBs()"
   ]
  },
  {
   "cell_type": "markdown",
   "metadata": {},
   "source": [
    "### 1.3 Loading the Dataset file"
   ]
  },
  {
   "cell_type": "code",
   "execution_count": 3,
   "metadata": {
    "collapsed": false
   },
   "outputs": [
    {
     "data": {
      "text/html": [
       "<div>\n",
       "<table border=\"1\" class=\"dataframe\">\n",
       "  <thead>\n",
       "    <tr style=\"text-align: right;\">\n",
       "      <th></th>\n",
       "      <th>country</th>\n",
       "      <th>year</th>\n",
       "      <th>Adjusted net enrolment rate, lower secondary, both sexes (%)</th>\n",
       "      <th>Adjusted net enrolment rate, lower secondary, female (%)</th>\n",
       "      <th>Adjusted net enrolment rate, lower secondary, gender parity index (GPI)</th>\n",
       "      <th>Adjusted net enrolment rate, lower secondary, male (%)</th>\n",
       "      <th>Adjusted net enrolment rate, primary, both sexes (%)</th>\n",
       "      <th>Adjusted net enrolment rate, primary, female (%)</th>\n",
       "      <th>Adjusted net enrolment rate, primary, gender parity index (GPI)</th>\n",
       "      <th>Adjusted net enrolment rate, primary, male (%)</th>\n",
       "      <th>...</th>\n",
       "      <th>Wittgenstein Projection: Population in thousands by highest level of educational attainment. Upper Secondary. Total</th>\n",
       "      <th>Youth illiterate population, 15-24 years, % female</th>\n",
       "      <th>Youth illiterate population, 15-24 years, both sexes (number)</th>\n",
       "      <th>Youth illiterate population, 15-24 years, female (number)</th>\n",
       "      <th>Youth illiterate population, 15-24 years, male (number)</th>\n",
       "      <th>Youth literacy rate, population 15-24 years, both sexes (%)</th>\n",
       "      <th>Youth literacy rate, population 15-24 years, female (%)</th>\n",
       "      <th>Youth literacy rate, population 15-24 years, gender parity index (GPI)</th>\n",
       "      <th>Youth literacy rate, population 15-24 years, male (%)</th>\n",
       "      <th>Happy Planet Index</th>\n",
       "    </tr>\n",
       "  </thead>\n",
       "  <tbody>\n",
       "    <tr>\n",
       "      <th>0</th>\n",
       "      <td>Afghanistan</td>\n",
       "      <td>2012.0</td>\n",
       "      <td>NaN</td>\n",
       "      <td>NaN</td>\n",
       "      <td>NaN</td>\n",
       "      <td>NaN</td>\n",
       "      <td>NaN</td>\n",
       "      <td>NaN</td>\n",
       "      <td>NaN</td>\n",
       "      <td>NaN</td>\n",
       "      <td>...</td>\n",
       "      <td>NaN</td>\n",
       "      <td>NaN</td>\n",
       "      <td>NaN</td>\n",
       "      <td>NaN</td>\n",
       "      <td>NaN</td>\n",
       "      <td>NaN</td>\n",
       "      <td>NaN</td>\n",
       "      <td>NaN</td>\n",
       "      <td>NaN</td>\n",
       "      <td>36.8</td>\n",
       "    </tr>\n",
       "    <tr>\n",
       "      <th>1</th>\n",
       "      <td>Afghanistan</td>\n",
       "      <td>2016.0</td>\n",
       "      <td>NaN</td>\n",
       "      <td>NaN</td>\n",
       "      <td>NaN</td>\n",
       "      <td>NaN</td>\n",
       "      <td>NaN</td>\n",
       "      <td>NaN</td>\n",
       "      <td>NaN</td>\n",
       "      <td>NaN</td>\n",
       "      <td>...</td>\n",
       "      <td>NaN</td>\n",
       "      <td>NaN</td>\n",
       "      <td>NaN</td>\n",
       "      <td>NaN</td>\n",
       "      <td>NaN</td>\n",
       "      <td>NaN</td>\n",
       "      <td>NaN</td>\n",
       "      <td>NaN</td>\n",
       "      <td>NaN</td>\n",
       "      <td>20.2</td>\n",
       "    </tr>\n",
       "    <tr>\n",
       "      <th>2</th>\n",
       "      <td>Albania</td>\n",
       "      <td>2006.0</td>\n",
       "      <td>NaN</td>\n",
       "      <td>NaN</td>\n",
       "      <td>NaN</td>\n",
       "      <td>NaN</td>\n",
       "      <td>NaN</td>\n",
       "      <td>NaN</td>\n",
       "      <td>NaN</td>\n",
       "      <td>NaN</td>\n",
       "      <td>...</td>\n",
       "      <td>NaN</td>\n",
       "      <td>NaN</td>\n",
       "      <td>NaN</td>\n",
       "      <td>NaN</td>\n",
       "      <td>NaN</td>\n",
       "      <td>NaN</td>\n",
       "      <td>NaN</td>\n",
       "      <td>NaN</td>\n",
       "      <td>NaN</td>\n",
       "      <td>42.1</td>\n",
       "    </tr>\n",
       "    <tr>\n",
       "      <th>3</th>\n",
       "      <td>Albania</td>\n",
       "      <td>2009.0</td>\n",
       "      <td>NaN</td>\n",
       "      <td>NaN</td>\n",
       "      <td>NaN</td>\n",
       "      <td>NaN</td>\n",
       "      <td>89.393333</td>\n",
       "      <td>88.698219</td>\n",
       "      <td>0.98508</td>\n",
       "      <td>90.041763</td>\n",
       "      <td>...</td>\n",
       "      <td>NaN</td>\n",
       "      <td>NaN</td>\n",
       "      <td>NaN</td>\n",
       "      <td>NaN</td>\n",
       "      <td>NaN</td>\n",
       "      <td>NaN</td>\n",
       "      <td>NaN</td>\n",
       "      <td>NaN</td>\n",
       "      <td>NaN</td>\n",
       "      <td>47.9</td>\n",
       "    </tr>\n",
       "    <tr>\n",
       "      <th>4</th>\n",
       "      <td>Albania</td>\n",
       "      <td>2012.0</td>\n",
       "      <td>NaN</td>\n",
       "      <td>NaN</td>\n",
       "      <td>NaN</td>\n",
       "      <td>NaN</td>\n",
       "      <td>96.137093</td>\n",
       "      <td>95.353287</td>\n",
       "      <td>0.98445</td>\n",
       "      <td>96.859650</td>\n",
       "      <td>...</td>\n",
       "      <td>NaN</td>\n",
       "      <td>58.875946</td>\n",
       "      <td>4302.0</td>\n",
       "      <td>2533.0</td>\n",
       "      <td>1769.0</td>\n",
       "      <td>99.2314</td>\n",
       "      <td>99.020187</td>\n",
       "      <td>0.99642</td>\n",
       "      <td>99.375977</td>\n",
       "      <td>54.1</td>\n",
       "    </tr>\n",
       "  </tbody>\n",
       "</table>\n",
       "<p>5 rows × 3624 columns</p>\n",
       "</div>"
      ],
      "text/plain": [
       "       country    year  \\\n",
       "0  Afghanistan  2012.0   \n",
       "1  Afghanistan  2016.0   \n",
       "2      Albania  2006.0   \n",
       "3      Albania  2009.0   \n",
       "4      Albania  2012.0   \n",
       "\n",
       "   Adjusted net enrolment rate, lower secondary, both sexes (%)  \\\n",
       "0                                                NaN              \n",
       "1                                                NaN              \n",
       "2                                                NaN              \n",
       "3                                                NaN              \n",
       "4                                                NaN              \n",
       "\n",
       "   Adjusted net enrolment rate, lower secondary, female (%)  \\\n",
       "0                                                NaN          \n",
       "1                                                NaN          \n",
       "2                                                NaN          \n",
       "3                                                NaN          \n",
       "4                                                NaN          \n",
       "\n",
       "   Adjusted net enrolment rate, lower secondary, gender parity index (GPI)  \\\n",
       "0                                                NaN                         \n",
       "1                                                NaN                         \n",
       "2                                                NaN                         \n",
       "3                                                NaN                         \n",
       "4                                                NaN                         \n",
       "\n",
       "   Adjusted net enrolment rate, lower secondary, male (%)  \\\n",
       "0                                                NaN        \n",
       "1                                                NaN        \n",
       "2                                                NaN        \n",
       "3                                                NaN        \n",
       "4                                                NaN        \n",
       "\n",
       "   Adjusted net enrolment rate, primary, both sexes (%)  \\\n",
       "0                                                NaN      \n",
       "1                                                NaN      \n",
       "2                                                NaN      \n",
       "3                                          89.393333      \n",
       "4                                          96.137093      \n",
       "\n",
       "   Adjusted net enrolment rate, primary, female (%)  \\\n",
       "0                                               NaN   \n",
       "1                                               NaN   \n",
       "2                                               NaN   \n",
       "3                                         88.698219   \n",
       "4                                         95.353287   \n",
       "\n",
       "   Adjusted net enrolment rate, primary, gender parity index (GPI)  \\\n",
       "0                                                NaN                 \n",
       "1                                                NaN                 \n",
       "2                                                NaN                 \n",
       "3                                            0.98508                 \n",
       "4                                            0.98445                 \n",
       "\n",
       "   Adjusted net enrolment rate, primary, male (%)         ...          \\\n",
       "0                                             NaN         ...           \n",
       "1                                             NaN         ...           \n",
       "2                                             NaN         ...           \n",
       "3                                       90.041763         ...           \n",
       "4                                       96.859650         ...           \n",
       "\n",
       "   Wittgenstein Projection: Population in thousands by highest level of educational attainment. Upper Secondary. Total  \\\n",
       "0                                                NaN                                                                     \n",
       "1                                                NaN                                                                     \n",
       "2                                                NaN                                                                     \n",
       "3                                                NaN                                                                     \n",
       "4                                                NaN                                                                     \n",
       "\n",
       "   Youth illiterate population, 15-24 years, % female  \\\n",
       "0                                                NaN    \n",
       "1                                                NaN    \n",
       "2                                                NaN    \n",
       "3                                                NaN    \n",
       "4                                          58.875946    \n",
       "\n",
       "   Youth illiterate population, 15-24 years, both sexes (number)  \\\n",
       "0                                                NaN               \n",
       "1                                                NaN               \n",
       "2                                                NaN               \n",
       "3                                                NaN               \n",
       "4                                             4302.0               \n",
       "\n",
       "   Youth illiterate population, 15-24 years, female (number)  \\\n",
       "0                                                NaN           \n",
       "1                                                NaN           \n",
       "2                                                NaN           \n",
       "3                                                NaN           \n",
       "4                                             2533.0           \n",
       "\n",
       "   Youth illiterate population, 15-24 years, male (number)  \\\n",
       "0                                                NaN         \n",
       "1                                                NaN         \n",
       "2                                                NaN         \n",
       "3                                                NaN         \n",
       "4                                             1769.0         \n",
       "\n",
       "   Youth literacy rate, population 15-24 years, both sexes (%)  \\\n",
       "0                                                NaN             \n",
       "1                                                NaN             \n",
       "2                                                NaN             \n",
       "3                                                NaN             \n",
       "4                                            99.2314             \n",
       "\n",
       "   Youth literacy rate, population 15-24 years, female (%)  \\\n",
       "0                                                NaN         \n",
       "1                                                NaN         \n",
       "2                                                NaN         \n",
       "3                                                NaN         \n",
       "4                                          99.020187         \n",
       "\n",
       "   Youth literacy rate, population 15-24 years, gender parity index (GPI)  \\\n",
       "0                                                NaN                        \n",
       "1                                                NaN                        \n",
       "2                                                NaN                        \n",
       "3                                                NaN                        \n",
       "4                                            0.99642                        \n",
       "\n",
       "   Youth literacy rate, population 15-24 years, male (%)  Happy Planet Index  \n",
       "0                                                NaN                    36.8  \n",
       "1                                                NaN                    20.2  \n",
       "2                                                NaN                    42.1  \n",
       "3                                                NaN                    47.9  \n",
       "4                                          99.375977                    54.1  \n",
       "\n",
       "[5 rows x 3624 columns]"
      ]
     },
     "execution_count": 3,
     "metadata": {},
     "output_type": "execute_result"
    }
   ],
   "source": [
    "overall_data = pd.read_csv(DataPreparation.retriveMergedFilePath(),\\\n",
    "                           header=0, index_col=0, skiprows=0, encoding='iso-8859-1')\n",
    "overall_data.head(5)"
   ]
  },
  {
   "cell_type": "markdown",
   "metadata": {},
   "source": [
    "### 1.4 Drop columns and rows with %(nulls)>80%"
   ]
  },
  {
   "cell_type": "code",
   "execution_count": 4,
   "metadata": {
    "collapsed": false
   },
   "outputs": [
    {
     "data": {
      "text/html": [
       "<div>\n",
       "<table border=\"1\" class=\"dataframe\">\n",
       "  <thead>\n",
       "    <tr style=\"text-align: right;\">\n",
       "      <th></th>\n",
       "      <th>country</th>\n",
       "      <th>year</th>\n",
       "      <th>Enrolment in primary education, both sexes (number)</th>\n",
       "      <th>Enrolment in primary education, female (number)</th>\n",
       "      <th>GDP at market prices (constant 2005 US$)</th>\n",
       "      <th>GDP at market prices (current US$)</th>\n",
       "      <th>GDP per capita (constant 2005 US$)</th>\n",
       "      <th>GDP per capita (current US$)</th>\n",
       "      <th>GNI (current US$)</th>\n",
       "      <th>GNI per capita, Atlas method (current US$)</th>\n",
       "      <th>...</th>\n",
       "      <th>Population, male (% of total)</th>\n",
       "      <th>Population, total</th>\n",
       "      <th>School life expectancy, primary, both sexes (years)</th>\n",
       "      <th>School life expectancy, primary, female (years)</th>\n",
       "      <th>School life expectancy, primary, gender parity index (GPI)</th>\n",
       "      <th>School life expectancy, primary, male (years)</th>\n",
       "      <th>Theoretical duration of pre-primary education (years)</th>\n",
       "      <th>Theoretical duration of primary education (years)</th>\n",
       "      <th>Theoretical duration of secondary education (years)</th>\n",
       "      <th>Happy Planet Index</th>\n",
       "    </tr>\n",
       "  </thead>\n",
       "  <tbody>\n",
       "    <tr>\n",
       "      <th>0</th>\n",
       "      <td>Afghanistan</td>\n",
       "      <td>2012.0</td>\n",
       "      <td>5767543.0</td>\n",
       "      <td>2348306.0</td>\n",
       "      <td>1.935220e+10</td>\n",
       "      <td>2.053654e+10</td>\n",
       "      <td>651.001852</td>\n",
       "      <td>690.842629</td>\n",
       "      <td>2.157185e+10</td>\n",
       "      <td>720.0</td>\n",
       "      <td>...</td>\n",
       "      <td>51.435962</td>\n",
       "      <td>29726803.0</td>\n",
       "      <td>6.53571</td>\n",
       "      <td>5.47000</td>\n",
       "      <td>0.72495</td>\n",
       "      <td>7.54532</td>\n",
       "      <td>4.0</td>\n",
       "      <td>6.0</td>\n",
       "      <td>6.0</td>\n",
       "      <td>36.8</td>\n",
       "    </tr>\n",
       "    <tr>\n",
       "      <th>2</th>\n",
       "      <td>Albania</td>\n",
       "      <td>2006.0</td>\n",
       "      <td>222402.0</td>\n",
       "      <td>107004.0</td>\n",
       "      <td>9.771760e+09</td>\n",
       "      <td>8.992642e+09</td>\n",
       "      <td>3265.365622</td>\n",
       "      <td>3005.012903</td>\n",
       "      <td>9.254605e+09</td>\n",
       "      <td>3090.0</td>\n",
       "      <td>...</td>\n",
       "      <td>50.260019</td>\n",
       "      <td>2992547.0</td>\n",
       "      <td>3.98375</td>\n",
       "      <td>3.97433</td>\n",
       "      <td>0.99544</td>\n",
       "      <td>3.99253</td>\n",
       "      <td>3.0</td>\n",
       "      <td>4.0</td>\n",
       "      <td>8.0</td>\n",
       "      <td>42.1</td>\n",
       "    </tr>\n",
       "    <tr>\n",
       "      <th>3</th>\n",
       "      <td>Albania</td>\n",
       "      <td>2009.0</td>\n",
       "      <td>236102.0</td>\n",
       "      <td>112399.0</td>\n",
       "      <td>1.150029e+10</td>\n",
       "      <td>1.204421e+10</td>\n",
       "      <td>3928.340828</td>\n",
       "      <td>4114.136545</td>\n",
       "      <td>1.185274e+10</td>\n",
       "      <td>4280.0</td>\n",
       "      <td>...</td>\n",
       "      <td>50.432577</td>\n",
       "      <td>2927519.0</td>\n",
       "      <td>4.80613</td>\n",
       "      <td>4.74382</td>\n",
       "      <td>0.97524</td>\n",
       "      <td>4.86425</td>\n",
       "      <td>3.0</td>\n",
       "      <td>5.0</td>\n",
       "      <td>7.0</td>\n",
       "      <td>47.9</td>\n",
       "    </tr>\n",
       "    <tr>\n",
       "      <th>4</th>\n",
       "      <td>Albania</td>\n",
       "      <td>2012.0</td>\n",
       "      <td>206617.0</td>\n",
       "      <td>97583.0</td>\n",
       "      <td>1.240477e+10</td>\n",
       "      <td>1.231978e+10</td>\n",
       "      <td>4277.143310</td>\n",
       "      <td>4247.839852</td>\n",
       "      <td>1.222802e+10</td>\n",
       "      <td>4360.0</td>\n",
       "      <td>...</td>\n",
       "      <td>50.128703</td>\n",
       "      <td>2900247.0</td>\n",
       "      <td>5.16259</td>\n",
       "      <td>5.09023</td>\n",
       "      <td>0.97326</td>\n",
       "      <td>5.23009</td>\n",
       "      <td>3.0</td>\n",
       "      <td>5.0</td>\n",
       "      <td>7.0</td>\n",
       "      <td>54.1</td>\n",
       "    </tr>\n",
       "    <tr>\n",
       "      <th>6</th>\n",
       "      <td>Algeria</td>\n",
       "      <td>2006.0</td>\n",
       "      <td>4196580.0</td>\n",
       "      <td>1973901.0</td>\n",
       "      <td>1.446470e+11</td>\n",
       "      <td>1.170270e+11</td>\n",
       "      <td>4285.934521</td>\n",
       "      <td>3467.544740</td>\n",
       "      <td>1.126050e+11</td>\n",
       "      <td>3100.0</td>\n",
       "      <td>...</td>\n",
       "      <td>50.489699</td>\n",
       "      <td>33749328.0</td>\n",
       "      <td>6.40438</td>\n",
       "      <td>6.17532</td>\n",
       "      <td>0.93223</td>\n",
       "      <td>6.62422</td>\n",
       "      <td>1.0</td>\n",
       "      <td>6.0</td>\n",
       "      <td>6.0</td>\n",
       "      <td>45.9</td>\n",
       "    </tr>\n",
       "  </tbody>\n",
       "</table>\n",
       "<p>5 rows × 67 columns</p>\n",
       "</div>"
      ],
      "text/plain": [
       "       country    year  Enrolment in primary education, both sexes (number)  \\\n",
       "0  Afghanistan  2012.0                                          5767543.0     \n",
       "2      Albania  2006.0                                           222402.0     \n",
       "3      Albania  2009.0                                           236102.0     \n",
       "4      Albania  2012.0                                           206617.0     \n",
       "6      Algeria  2006.0                                          4196580.0     \n",
       "\n",
       "   Enrolment in primary education, female (number)  \\\n",
       "0                                        2348306.0   \n",
       "2                                         107004.0   \n",
       "3                                         112399.0   \n",
       "4                                          97583.0   \n",
       "6                                        1973901.0   \n",
       "\n",
       "   GDP at market prices (constant 2005 US$)  \\\n",
       "0                              1.935220e+10   \n",
       "2                              9.771760e+09   \n",
       "3                              1.150029e+10   \n",
       "4                              1.240477e+10   \n",
       "6                              1.446470e+11   \n",
       "\n",
       "   GDP at market prices (current US$)  GDP per capita (constant 2005 US$)  \\\n",
       "0                        2.053654e+10                          651.001852   \n",
       "2                        8.992642e+09                         3265.365622   \n",
       "3                        1.204421e+10                         3928.340828   \n",
       "4                        1.231978e+10                         4277.143310   \n",
       "6                        1.170270e+11                         4285.934521   \n",
       "\n",
       "   GDP per capita (current US$)  GNI (current US$)  \\\n",
       "0                    690.842629       2.157185e+10   \n",
       "2                   3005.012903       9.254605e+09   \n",
       "3                   4114.136545       1.185274e+10   \n",
       "4                   4247.839852       1.222802e+10   \n",
       "6                   3467.544740       1.126050e+11   \n",
       "\n",
       "   GNI per capita, Atlas method (current US$)         ...          \\\n",
       "0                                       720.0         ...           \n",
       "2                                      3090.0         ...           \n",
       "3                                      4280.0         ...           \n",
       "4                                      4360.0         ...           \n",
       "6                                      3100.0         ...           \n",
       "\n",
       "   Population, male (% of total)  Population, total  \\\n",
       "0                      51.435962         29726803.0   \n",
       "2                      50.260019          2992547.0   \n",
       "3                      50.432577          2927519.0   \n",
       "4                      50.128703          2900247.0   \n",
       "6                      50.489699         33749328.0   \n",
       "\n",
       "   School life expectancy, primary, both sexes (years)  \\\n",
       "0                                            6.53571     \n",
       "2                                            3.98375     \n",
       "3                                            4.80613     \n",
       "4                                            5.16259     \n",
       "6                                            6.40438     \n",
       "\n",
       "   School life expectancy, primary, female (years)  \\\n",
       "0                                          5.47000   \n",
       "2                                          3.97433   \n",
       "3                                          4.74382   \n",
       "4                                          5.09023   \n",
       "6                                          6.17532   \n",
       "\n",
       "   School life expectancy, primary, gender parity index (GPI)  \\\n",
       "0                                            0.72495            \n",
       "2                                            0.99544            \n",
       "3                                            0.97524            \n",
       "4                                            0.97326            \n",
       "6                                            0.93223            \n",
       "\n",
       "   School life expectancy, primary, male (years)  \\\n",
       "0                                        7.54532   \n",
       "2                                        3.99253   \n",
       "3                                        4.86425   \n",
       "4                                        5.23009   \n",
       "6                                        6.62422   \n",
       "\n",
       "   Theoretical duration of pre-primary education (years)  \\\n",
       "0                                                4.0       \n",
       "2                                                3.0       \n",
       "3                                                3.0       \n",
       "4                                                3.0       \n",
       "6                                                1.0       \n",
       "\n",
       "   Theoretical duration of primary education (years)  \\\n",
       "0                                                6.0   \n",
       "2                                                4.0   \n",
       "3                                                5.0   \n",
       "4                                                5.0   \n",
       "6                                                6.0   \n",
       "\n",
       "   Theoretical duration of secondary education (years)  Happy Planet Index  \n",
       "0                                                6.0                  36.8  \n",
       "2                                                8.0                  42.1  \n",
       "3                                                7.0                  47.9  \n",
       "4                                                7.0                  54.1  \n",
       "6                                                6.0                  45.9  \n",
       "\n",
       "[5 rows x 67 columns]"
      ]
     },
     "execution_count": 4,
     "metadata": {},
     "output_type": "execute_result"
    }
   ],
   "source": [
    "THRESH = 0.2\n",
    "overall_data = overall_data.dropna(1, thresh=(overall_data.shape[0] * (1 - THRESH)))\n",
    "overall_data = overall_data.dropna(0, thresh=(overall_data.shape[1] * (1 - THRESH)))\n",
    "overall_data.head(5)"
   ]
  },
  {
   "cell_type": "markdown",
   "metadata": {},
   "source": [
    "## 2. Data Visualization & Analysis"
   ]
  },
  {
   "cell_type": "markdown",
   "metadata": {},
   "source": [
    "### 2.1 Most frequent countries appearing in the Dataset"
   ]
  },
  {
   "cell_type": "markdown",
   "metadata": {},
   "source": [
    "#### 2.1.1 Show counts on globbus map"
   ]
  },
  {
   "cell_type": "code",
   "execution_count": null,
   "metadata": {
    "collapsed": false
   },
   "outputs": [],
   "source": [
    "overall_data_country_counts = overall_data.copy()\n",
    "overall_data_country_counts['country counts'] = \\\n",
    "    overall_data_country_counts.groupby('country')['country'].transform('count')\n",
    "if button_plots.value:\n",
    "    MapVisualizations.plotDataOnMap(overall_data_country_counts, feature='country counts', year='mean')"
   ]
  },
  {
   "cell_type": "markdown",
   "metadata": {},
   "source": [
    "#### 2.1.2 Show counts in table"
   ]
  },
  {
   "cell_type": "code",
   "execution_count": 7,
   "metadata": {
    "collapsed": false
   },
   "outputs": [
    {
     "ename": "NameError",
     "evalue": "name 'overall_data_country_counts' is not defined",
     "output_type": "error",
     "traceback": [
      "\u001b[0;31m---------------------------------------------------------------------------\u001b[0m",
      "\u001b[0;31mNameError\u001b[0m                                 Traceback (most recent call last)",
      "\u001b[0;32m<ipython-input-7-b5603b9d4e73>\u001b[0m in \u001b[0;36m<module>\u001b[0;34m()\u001b[0m\n\u001b[0;32m----> 1\u001b[0;31m \u001b[0moverall_data_country_counts\u001b[0m \u001b[1;33m=\u001b[0m \u001b[0moverall_data_country_counts\u001b[0m\u001b[1;33m.\u001b[0m\u001b[0mgroupby\u001b[0m\u001b[1;33m(\u001b[0m\u001b[1;33m[\u001b[0m\u001b[1;34m'country'\u001b[0m\u001b[1;33m]\u001b[0m\u001b[1;33m)\u001b[0m\u001b[1;33m[\u001b[0m\u001b[1;33m[\u001b[0m\u001b[1;34m'country'\u001b[0m\u001b[1;33m,\u001b[0m\u001b[1;34m'country counts'\u001b[0m\u001b[1;33m]\u001b[0m\u001b[1;33m]\u001b[0m\u001b[1;33m.\u001b[0m\u001b[0mmean\u001b[0m\u001b[1;33m(\u001b[0m\u001b[1;33m)\u001b[0m\u001b[1;33m\u001b[0m\u001b[0m\n\u001b[0m\u001b[1;32m      2\u001b[0m \u001b[0moverall_data_country_counts\u001b[0m\u001b[1;33m.\u001b[0m\u001b[0mreset_index\u001b[0m\u001b[1;33m(\u001b[0m\u001b[0minplace\u001b[0m\u001b[1;33m=\u001b[0m\u001b[1;32mTrue\u001b[0m\u001b[1;33m)\u001b[0m\u001b[1;33m\u001b[0m\u001b[0m\n\u001b[1;32m      3\u001b[0m \u001b[0moverall_data_country_counts\u001b[0m\u001b[1;33m[\u001b[0m\u001b[1;33m[\u001b[0m\u001b[1;34m'country'\u001b[0m\u001b[1;33m,\u001b[0m\u001b[1;34m'country counts'\u001b[0m\u001b[1;33m]\u001b[0m\u001b[1;33m]\u001b[0m\u001b[1;33m.\u001b[0m\u001b[0mhead\u001b[0m\u001b[1;33m(\u001b[0m\u001b[1;36m10\u001b[0m\u001b[1;33m)\u001b[0m\u001b[1;33m\u001b[0m\u001b[0m\n",
      "\u001b[0;31mNameError\u001b[0m: name 'overall_data_country_counts' is not defined"
     ]
    }
   ],
   "source": [
    "overall_data_country_counts = overall_data_country_counts.groupby(['country'])[['country','country counts']].mean()\n",
    "overall_data_country_counts.reset_index(inplace=True)\n",
    "overall_data_country_counts[['country','country counts']].head(10)"
   ]
  },
  {
   "cell_type": "markdown",
   "metadata": {},
   "source": [
    "### 2.2 Data distribution over the years"
   ]
  },
  {
   "cell_type": "code",
   "execution_count": 8,
   "metadata": {
    "collapsed": false
   },
   "outputs": [
    {
     "data": {
      "image/png": "[encoded data removed]",
      "text/plain": [
       "<matplotlib.figure.Figure at 0x1d7d3f8cc50>"
      ]
     },
     "metadata": {},
     "output_type": "display_data"
    }
   ],
   "source": [
    "%matplotlib inline\n",
    "if button_plots.value:\n",
    "    DataVisualizations.distPlot(overall_data['year'],'Histogram of years','years','count',20,False)"
   ]
  },
  {
   "cell_type": "markdown",
   "metadata": {},
   "source": [
    "### 2.3 Checking distrubution of the label visually"
   ]
  },
  {
   "cell_type": "code",
   "execution_count": 9,
   "metadata": {
    "collapsed": false
   },
   "outputs": [
    {
     "data": {
      "image/png": "[encoded data removed]",
      "text/plain": [
       "<matplotlib.figure.Figure at 0x1d7d3f8ce10>"
      ]
     },
     "metadata": {},
     "output_type": "display_data"
    }
   ],
   "source": [
    "%matplotlib inline\n",
    "if button_plots.value:\n",
    "    DataVisualizations.distPlot(overall_data['Happy Planet Index'],'Histogram of Happy Planet Index values','HPI','density',25,True)"
   ]
  },
  {
   "cell_type": "markdown",
   "metadata": {},
   "source": [
    "### 2.4 Most feature-target Correlated features in the data"
   ]
  },
  {
   "cell_type": "code",
   "execution_count": 10,
   "metadata": {
    "collapsed": false
   },
   "outputs": [
    {
     "data": {
      "text/html": [
       "<div>\n",
       "<table border=\"1\" class=\"dataframe\">\n",
       "  <thead>\n",
       "    <tr style=\"text-align: right;\">\n",
       "      <th></th>\n",
       "      <th>Correlation to Happy Planet Index</th>\n",
       "      <th>Feature</th>\n",
       "    </tr>\n",
       "  </thead>\n",
       "  <tbody>\n",
       "    <tr>\n",
       "      <th>0</th>\n",
       "      <td>0.244313</td>\n",
       "      <td>Population, ages 15-64, female</td>\n",
       "    </tr>\n",
       "    <tr>\n",
       "      <th>1</th>\n",
       "      <td>0.242787</td>\n",
       "      <td>Population of the official age for pre-primary...</td>\n",
       "    </tr>\n",
       "    <tr>\n",
       "      <th>2</th>\n",
       "      <td>0.242299</td>\n",
       "      <td>Population of the official age for pre-primary...</td>\n",
       "    </tr>\n",
       "    <tr>\n",
       "      <th>3</th>\n",
       "      <td>0.241668</td>\n",
       "      <td>Population of the official age for pre-primary...</td>\n",
       "    </tr>\n",
       "    <tr>\n",
       "      <th>4</th>\n",
       "      <td>0.241227</td>\n",
       "      <td>Population, ages 15-64, total</td>\n",
       "    </tr>\n",
       "  </tbody>\n",
       "</table>\n",
       "</div>"
      ],
      "text/plain": [
       "   Correlation to Happy Planet Index  \\\n",
       "0                           0.244313   \n",
       "1                           0.242787   \n",
       "2                           0.242299   \n",
       "3                           0.241668   \n",
       "4                           0.241227   \n",
       "\n",
       "                                             Feature  \n",
       "0                     Population, ages 15-64, female  \n",
       "1  Population of the official age for pre-primary...  \n",
       "2  Population of the official age for pre-primary...  \n",
       "3  Population of the official age for pre-primary...  \n",
       "4                      Population, ages 15-64, total  "
      ]
     },
     "execution_count": 10,
     "metadata": {},
     "output_type": "execute_result"
    }
   ],
   "source": [
    "HPI_correlation = overall_data[overall_data.columns[1:-1]].apply\\\n",
    "    (lambda x: x.corr(overall_data['Happy Planet Index'], method='spearman'))\n",
    "HPI_correlation = HPI_correlation.abs().sort_values(ascending=False)\n",
    "HPI_correlation = pd.DataFrame({'Feature':HPI_correlation.index,\\\n",
    "                                'Correlation to Happy Planet Index':HPI_correlation.values})\n",
    "HPI_correlation.head(5)"
   ]
  },
  {
   "cell_type": "markdown",
   "metadata": {},
   "source": [
    "### 2.5 Plot Correlation matrix, taken 2 positive and 2 negative most correlated features"
   ]
  },
  {
   "cell_type": "code",
   "execution_count": 11,
   "metadata": {
    "collapsed": false
   },
   "outputs": [
    {
     "data": {
      "image/png": "[encoded data removed]",
      "text/plain": [
       "<matplotlib.figure.Figure at 0x1d7d403e048>"
      ]
     },
     "metadata": {},
     "output_type": "display_data"
    }
   ],
   "source": [
    "%matplotlib inline\n",
    "corr_features = HPI_correlation['Feature'].head(5).tolist() + ['Happy Planet Index']\n",
    "corr_features = [x for x in corr_features if x != 'year']\n",
    "overall_data_to_plot = overall_data[corr_features]\n",
    "data_corr_mat= overall_data_to_plot.corr(method='spearman')\n",
    "if button_plots.value:\n",
    "    sns.heatmap(data_corr_mat, vmax=1, square=True, annot=True, cmap='cubehelix')"
   ]
  },
  {
   "cell_type": "markdown",
   "metadata": {},
   "source": [
    "### 2.6 Plotting Data on world map\n",
    "#### Choose between Happy Planet Index and most correlated features \n",
    "#### Unfortunatly, there is no imagination between the plots"
   ]
  },
  {
   "cell_type": "code",
   "execution_count": 12,
   "metadata": {
    "collapsed": false
   },
   "outputs": [
    {
     "data": {
      "image/png": "[encoded data removed]",
      "text/plain": [
       "<matplotlib.figure.Figure at 0x1d7d4315b00>"
      ]
     },
     "metadata": {},
     "output_type": "display_data"
    }
   ],
   "source": [
    "if button_plots.value:\n",
    "    MapVisualizations.interactMaps(overall_data,corr_features)"
   ]
  },
  {
   "cell_type": "markdown",
   "metadata": {},
   "source": [
    "## 3.Preprocessing"
   ]
  },
  {
   "cell_type": "markdown",
   "metadata": {},
   "source": [
    "### 3.1 Impute nulls with medians"
   ]
  },
  {
   "cell_type": "code",
   "execution_count": null,
   "metadata": {
    "collapsed": false
   },
   "outputs": [],
   "source": [
    "overall_data = overall_data.fillna(overall_data.median())\n",
    "overall_data.head(5)"
   ]
  },
  {
   "cell_type": "markdown",
   "metadata": {},
   "source": [
    "### 3.2 One Hot Encoding Foreach Country"
   ]
  },
  {
   "cell_type": "code",
   "execution_count": null,
   "metadata": {
    "collapsed": false
   },
   "outputs": [],
   "source": [
    "overall_data_countries = overall_data['country']\n",
    "oh_overall_data = overall_data.drop('country', axis=1)\n",
    "onehot_overall_col = pd.get_dummies(overall_data['country'], prefix='country')\n",
    "\n",
    "#check for missing cols in onehot_overall_col\n",
    "for col in onehot_overall_col.columns:\n",
    "    if col not in onehot_overall_col.columns:\n",
    "        onehot_overall_col[col] = 0\n",
    "        \n",
    "oh_overall_data = pd.concat([oh_overall_data, onehot_overall_col], axis=1)\n",
    "overall_data = oh_overall_data\n",
    "overall_data['country'] = overall_data_countries\n",
    "overall_data.head(5)"
   ]
  },
  {
   "cell_type": "markdown",
   "metadata": {},
   "source": [
    "### 3.3 Split Data randomly into training set and test set"
   ]
  },
  {
   "cell_type": "code",
   "execution_count": null,
   "metadata": {
    "collapsed": false
   },
   "outputs": [],
   "source": [
    "train_data, test_data = train_test_split\\\n",
    "(overall_data, test_size = 0.2, random_state=0)\n",
    "train_data.reset_index(drop=True, inplace=True)\n",
    "test_data.reset_index(drop=True, inplace=True)\n",
    "train_data.head(5)"
   ]
  },
  {
   "cell_type": "markdown",
   "metadata": {},
   "source": [
    "### 3.4 Partition factors, class and countries"
   ]
  },
  {
   "cell_type": "code",
   "execution_count": null,
   "metadata": {
    "collapsed": false
   },
   "outputs": [],
   "source": [
    "train_countries = train_data['country']\n",
    "train_class = train_data['Happy Planet Index']\n",
    "train_factors = (train_data.drop(['Happy Planet Index', 'country'], axis=1))\n",
    "\n",
    "test_countries = test_data['country']\n",
    "test_class = test_data['Happy Planet Index']\n",
    "test_factors =(test_data.drop(['Happy Planet Index', 'country'], axis=1))\n",
    "\n",
    "train_factors.head(5)"
   ]
  },
  {
   "cell_type": "markdown",
   "metadata": {},
   "source": [
    "### 3.5 Binning The Years by Decades"
   ]
  },
  {
   "cell_type": "code",
   "execution_count": null,
   "metadata": {
    "collapsed": false
   },
   "outputs": [],
   "source": [
    "min_year = min(min(train_factors['year']), min(test_factors['year']))\n",
    "train_factors['year'] = train_factors['year'].apply(lambda x:math.floor((x-min_year) / 10))\n",
    "test_factors['year'] = test_factors['year'].apply(lambda x:math.floor((x-min_year) / 10))\n",
    "train_factors.head(5)"
   ]
  },
  {
   "cell_type": "markdown",
   "metadata": {},
   "source": [
    "### 3.6 Change all numeric values' datatypes to float"
   ]
  },
  {
   "cell_type": "code",
   "execution_count": null,
   "metadata": {
    "collapsed": false
   },
   "outputs": [],
   "source": [
    "train_factors = train_factors.astype(np.float)\n",
    "test_factors = test_factors.astype(np.float)\n",
    "train_factors.dtypes[:5]"
   ]
  },
  {
   "cell_type": "markdown",
   "metadata": {},
   "source": [
    "### 3.7 Creating a yearless and countryless copies of the data\n",
    "#### Henceforth, we duplicate our actions handling the data for each copy "
   ]
  },
  {
   "cell_type": "code",
   "execution_count": null,
   "metadata": {
    "collapsed": false
   },
   "outputs": [],
   "source": [
    "alternativeModles = AlternativeModels.creatAlternativeModels(train_data, train_factors, train_class, train_countries, test_data, test_factors,\\\n",
    "                                       test_class, test_countries)"
   ]
  },
  {
   "cell_type": "markdown",
   "metadata": {
    "collapsed": true
   },
   "source": [
    "### 3.8 Data linearity proving"
   ]
  },
  {
   "cell_type": "markdown",
   "metadata": {},
   "source": [
    "#### 3.8.1 For our main data"
   ]
  },
  {
   "cell_type": "code",
   "execution_count": null,
   "metadata": {
    "collapsed": false
   },
   "outputs": [],
   "source": [
    "OutliersDetection.linearityProving(train_factors, train_class, button_plots.value)"
   ]
  },
  {
   "cell_type": "markdown",
   "metadata": {},
   "source": [
    "#### 3.8.2 For the yearless and countryless copies"
   ]
  },
  {
   "cell_type": "code",
   "execution_count": null,
   "metadata": {
    "collapsed": false
   },
   "outputs": [],
   "source": [
    "interact(OutliersDetection.allDataLinearityProving,\\\n",
    "             request=RadioButtons(options=  ['None'] + dataTypes,\\\n",
    "                                  description='Select data type for linearity check:', disabled=False))"
   ]
  },
  {
   "cell_type": "markdown",
   "metadata": {},
   "source": [
    "### 3.9 Centering and Scaling nomeric features, and removing features with: $STD\\approx0$ "
   ]
  },
  {
   "cell_type": "markdown",
   "metadata": {},
   "source": [
    "#### 3.9.1 For our main data"
   ]
  },
  {
   "cell_type": "code",
   "execution_count": null,
   "metadata": {
    "collapsed": false
   },
   "outputs": [],
   "source": [
    "train_factors = pd.DataFrame(sp.StandardScaler().fit_transform(train_factors),columns = train_factors.columns)\n",
    "test_factors = pd.DataFrame(sp.StandardScaler().fit_transform(test_factors),columns = test_factors.columns)\n",
    "train_factors.head(5)"
   ]
  },
  {
   "cell_type": "markdown",
   "metadata": {},
   "source": [
    "#### 3.9.2 For the yearless and countryless copies"
   ]
  },
  {
   "cell_type": "code",
   "execution_count": null,
   "metadata": {
    "collapsed": false
   },
   "outputs": [],
   "source": [
    "for data in dataTypes:\n",
    "    alternativeModles[data].train_factors = \\\n",
    "            pd.DataFrame(sp.StandardScaler().fit_transform(alternativeModles[data].train_factors),columns =\\\n",
    "                                          alternativeModles[data].train_factors.columns)\n",
    "    alternativeModles[data].test_factors = \\\n",
    "            pd.DataFrame(sp.StandardScaler().fit_transform(alternativeModles[data].test_factors),columns =\\\n",
    "                                          alternativeModles[data].test_factors.columns)\n",
    "AlternativeModels.updateAlternativeModles(alternativeModles)"
   ]
  },
  {
   "cell_type": "markdown",
   "metadata": {},
   "source": [
    "## 4. Outliers Detection"
   ]
  },
  {
   "cell_type": "markdown",
   "metadata": {},
   "source": [
    "### 4.1 Robust Regression Method"
   ]
  },
  {
   "cell_type": "markdown",
   "metadata": {},
   "source": [
    "#### 4.1.1 For our main data"
   ]
  },
  {
   "cell_type": "code",
   "execution_count": null,
   "metadata": {
    "collapsed": false
   },
   "outputs": [],
   "source": [
    "train_factors, train_class, train_data =\\\n",
    "OutliersDetection.removeOutliersRlm(train_factors, train_class, train_data, 1, button_plots.value)"
   ]
  },
  {
   "cell_type": "markdown",
   "metadata": {},
   "source": [
    "#### 4.1.2 For the yearless and countryless copies"
   ]
  },
  {
   "cell_type": "code",
   "execution_count": null,
   "metadata": {
    "collapsed": false
   },
   "outputs": [],
   "source": [
    "for data in dataTypes:\n",
    "    alternativeModles[data].train_factors, alternativeModles[data].train_class, alternativeModles[data].train_data =\\\n",
    "                                OutliersDetection.removeOutliersRlm(alternativeModles[data].train_factors, \\\n",
    "                                                                    alternativeModles[data].train_class, \\\n",
    "                                                                alternativeModles[data].train_data, 1, button_plots.value)\n",
    "AlternativeModels.updateAlternativeModles(alternativeModles)"
   ]
  },
  {
   "cell_type": "markdown",
   "metadata": {},
   "source": [
    "### 4.2 PCA Visual Method"
   ]
  },
  {
   "cell_type": "markdown",
   "metadata": {},
   "source": [
    "#### 4.2.1 Apply 2D-PCA dimension reduction for visual outliers detection "
   ]
  },
  {
   "cell_type": "markdown",
   "metadata": {},
   "source": [
    "##### 4.2.1.1 For our main data"
   ]
  },
  {
   "cell_type": "code",
   "execution_count": null,
   "metadata": {
    "collapsed": false
   },
   "outputs": [],
   "source": [
    "plot_columns, labels = DataVisualizations.twoDimPCAandClustering(train_factors, button_plots.value)"
   ]
  },
  {
   "cell_type": "markdown",
   "metadata": {},
   "source": [
    "##### 4.2.1.2 For the yearless and countryless copies"
   ]
  },
  {
   "cell_type": "code",
   "execution_count": null,
   "metadata": {
    "collapsed": false
   },
   "outputs": [],
   "source": [
    "PCAAltModels = dict([(data,(DataVisualizations.twoDimPCAandClustering(alternativeModles[data].train_factors,\\\n",
    "                                                                      button_plots.value))) for data in dataTypes])\n",
    "AlternativeModels.updateAlternativeModles(alternativeModles)"
   ]
  },
  {
   "cell_type": "markdown",
   "metadata": {},
   "source": [
    "#### 4.2.2 Print outliers' countries"
   ]
  },
  {
   "cell_type": "markdown",
   "metadata": {},
   "source": [
    "##### 4.2.2.1 For our main data"
   ]
  },
  {
   "cell_type": "code",
   "execution_count": null,
   "metadata": {
    "collapsed": false
   },
   "outputs": [],
   "source": [
    "outliers_indecies = np.where(plot_columns[:,0] > 20)[0].tolist()\n",
    "outliers_df = train_data.loc[outliers_indecies, :]\n",
    "outliers_df['country'].head(min(10, len(outliers_indecies)))"
   ]
  },
  {
   "cell_type": "markdown",
   "metadata": {},
   "source": [
    "##### 4.2.2.2 For the yearless and countryless copies"
   ]
  },
  {
   "cell_type": "code",
   "execution_count": null,
   "metadata": {
    "collapsed": false
   },
   "outputs": [],
   "source": [
    "outliers_indecies_AltModels = dict([(data,np.where(PCAAltModels[data][0][:,0] > 20)[0].tolist()) for data in dataTypes])\n",
    "outliers_df_AltModels = dict([(data,alternativeModles[data].train_data.loc[outliers_indecies_AltModels[data], :]) for data \\\n",
    "                             in dataTypes])\n",
    "OutliersDetection.printOutlierCountries(outliers_df_AltModels,outliers_indecies_AltModels)"
   ]
  },
  {
   "cell_type": "markdown",
   "metadata": {},
   "source": [
    "#### 4.2.3 Remove visible outliers if reducing aquracy"
   ]
  },
  {
   "cell_type": "markdown",
   "metadata": {},
   "source": [
    "##### 4.2.3.1 For our main data"
   ]
  },
  {
   "cell_type": "code",
   "execution_count": null,
   "metadata": {
    "collapsed": false
   },
   "outputs": [],
   "source": [
    "train_factors, train_class, train_data =\\\n",
    "OutliersDetection.removeOutliersPCA(train_factors, train_class, train_data, outliers_indecies, button_plots.value)"
   ]
  },
  {
   "cell_type": "markdown",
   "metadata": {},
   "source": [
    "##### 4.2.3.2 For the yearless and countryless copies"
   ]
  },
  {
   "cell_type": "code",
   "execution_count": null,
   "metadata": {
    "collapsed": false
   },
   "outputs": [],
   "source": [
    "for data in dataTypes:\n",
    "    print(data+\" run:\")\n",
    "    alternativeModles[data].train_factors, alternativeModles[data].train_class, alternativeModles[data].train_data =\\\n",
    "                                OutliersDetection.removeOutliersPCA(alternativeModles[data].train_factors,\\\n",
    "                                                                    alternativeModles[data].train_class,\\\n",
    "                                                                    alternativeModles[data].train_data,\\\n",
    "                                                                    outliers_indecies_AltModels[data], False)\n",
    "AlternativeModels.updateAlternativeModles(alternativeModles)"
   ]
  },
  {
   "cell_type": "markdown",
   "metadata": {},
   "source": [
    "## 5. Feature selection with E.Net model"
   ]
  },
  {
   "cell_type": "markdown",
   "metadata": {},
   "source": [
    "### 5.1 Feature selection function definition\n",
    "#### Defining the function that we will use"
   ]
  },
  {
   "cell_type": "code",
   "execution_count": null,
   "metadata": {
    "collapsed": false
   },
   "outputs": [],
   "source": [
    "def featureSelectionWithENET(train_factors, train_class):\n",
    "    # run elastic model for feature selection \n",
    "    enet = ElasticNetCV(max_iter=5000, cv=5, n_jobs=-1)\n",
    "    enet.fit(train_factors, train_class)\n",
    "\n",
    "    sfm = fs.SelectFromModel(enet, prefit=True)\n",
    "    chosen_features_and_coefs = [(train_factors.columns[i],enet.coef_[i]) for i in sfm.get_support(True)]\n",
    "\n",
    "    chosen_features_and_coefs.sort(key=lambda x:abs(x[1]), reverse=True)\n",
    "    headers = [['correlated feature', 'coefficient value']]\n",
    "    data = headers + [[x[0], x[1]]\\\n",
    "                      for x in chosen_features_and_coefs if not x[0].startswith('country_')]\n",
    "    headers = data.pop(0) # gives the headers as list and leaves data\n",
    "    table = pd.DataFrame(data, columns=headers)\n",
    "    print(\"Enet Strong factors (countries features not included) are: \")\n",
    "    return chosen_features_and_coefs, table"
   ]
  },
  {
   "cell_type": "markdown",
   "metadata": {},
   "source": [
    "#### 5.1.1 selected features for our main data"
   ]
  },
  {
   "cell_type": "code",
   "execution_count": null,
   "metadata": {
    "collapsed": false
   },
   "outputs": [],
   "source": [
    "chosen_features_and_coefs, table = featureSelectionWithENET(train_factors, train_class)\n",
    "table.head(table.shape[0])"
   ]
  },
  {
   "cell_type": "code",
   "execution_count": null,
   "metadata": {
    "collapsed": false
   },
   "outputs": [],
   "source": [
    "# chosen_features_and_coefs_AltModels = dict([(data,chosen_features_and_coefs) for data in dataTypes])\n",
    "# for data in dataTypes:\n",
    "#     # run elastic model for feature selection \n",
    "#     enet = ElasticNetCV(max_iter=5000, cv=5, n_jobs=-1)\n",
    "#     enet.fit(alternativeModles[data].train_factors, alternativeModles[data].train_class)\n",
    "\n",
    "#     sfm = fs.SelectFromModel(enet, prefit=True)\n",
    "#     chosen_features_and_coefs_AltModels[data] = [(alternativeModles[data].train_factors.columns[i],enet.coef_[i]) for i in sfm.get_support(True)]\n",
    "\n",
    "#     chosen_features_and_coefs_AltModels[data].sort(key=lambda x:abs(x[1]), reverse=True)\n",
    "#     headers = [['correlated feature', 'coefficient value']]\n",
    "#     curData = headers + [[x[0], x[1]]\\\n",
    "#                       for x in chosen_features_and_coefs_AltModels[data] if not x[0].startswith('country_')]\n",
    "#     headers = curData.pop(0) # gives the headers as list and leaves data\n",
    "#     table = pd.DataFrame(curData, columns=headers)\n",
    "#     print(\"Enet Strong factors for data:\",data,\" are: \")\n",
    "#     print(table.head(table.shape[0]))"
   ]
  },
  {
   "cell_type": "markdown",
   "metadata": {},
   "source": [
    "#### 5.1.2 selected features for the yearless and countryless copies"
   ]
  },
  {
   "cell_type": "code",
   "execution_count": null,
   "metadata": {
    "collapsed": true
   },
   "outputs": [],
   "source": [
    "chosen_features_and_coefs_AltModels = dict([(data,chosen_features_and_coefs) for data in dataTypes]) "
   ]
  },
  {
   "cell_type": "markdown",
   "metadata": {},
   "source": [
    "### 5.2 Countries correlated to target plot"
   ]
  },
  {
   "cell_type": "markdown",
   "metadata": {},
   "source": [
    "#### 5.2.1 For our main data"
   ]
  },
  {
   "cell_type": "code",
   "execution_count": null,
   "metadata": {
    "collapsed": false
   },
   "outputs": [],
   "source": [
    "if button_plots.value:\n",
    "    headers = [['country', 'Correlation to Happy Planet Index']]\n",
    "    data = headers + [[x[0].split('country_')[1], np.sign(x[1])]\\\n",
    "                      for x in chosen_features_and_coefs if x[0].startswith('country_')]\n",
    "    headers = data.pop(0) # gives the headers as list and leaves data\n",
    "    df = pd.DataFrame(data, columns=headers)\n",
    "    MapVisualizations.plotDataOnMap(df, year='mean', feature=\"Correlation to Happy Planet Index\", binary=True,\\\n",
    "                  descripton='Countries correlated with the Happy Planet Index label after feature selection')"
   ]
  },
  {
   "cell_type": "markdown",
   "metadata": {},
   "source": [
    "#### 5.2.2 For the yearless and countryless copies"
   ]
  },
  {
   "cell_type": "markdown",
   "metadata": {},
   "source": [
    "### 5.3 Take remaining features"
   ]
  },
  {
   "cell_type": "markdown",
   "metadata": {},
   "source": [
    "#### 5.3.1 For our main data"
   ]
  },
  {
   "cell_type": "code",
   "execution_count": null,
   "metadata": {
    "collapsed": false
   },
   "outputs": [],
   "source": [
    "chosen_features = [x[0] for x in chosen_features_and_coefs]\n",
    "train_factors = train_factors[chosen_features]\n",
    "test_factors = test_factors[chosen_features]\n",
    "train_factors.head(5)"
   ]
  },
  {
   "cell_type": "markdown",
   "metadata": {},
   "source": [
    "#### 5.3.2 For the yearless and countryless copies"
   ]
  },
  {
   "cell_type": "code",
   "execution_count": null,
   "metadata": {
    "collapsed": false
   },
   "outputs": [],
   "source": [
    "for data in dataTypes:\n",
    "    chosen_features = [x[0] for x in chosen_features_and_coefs_AltModels[data]]\n",
    "    alternativeModles[data].train_factors = alternativeModles[data].train_factors[chosen_features]\n",
    "    alternativeModles[data].test_factors = alternativeModles[data].test_factors[chosen_features]"
   ]
  },
  {
   "cell_type": "markdown",
   "metadata": {},
   "source": [
    "## 6. Features extraction\n",
    "#### Checking feature interactions' correlations to label"
   ]
  },
  {
   "cell_type": "markdown",
   "metadata": {},
   "source": [
    "### 6.1 Synthesizing features' interactions"
   ]
  },
  {
   "cell_type": "code",
   "execution_count": null,
   "metadata": {
    "collapsed": false
   },
   "outputs": [],
   "source": [
    "poly = sp.PolynomialFeatures(2, include_bias=False)\n",
    "transf_train = poly.fit_transform(train_factors)\n",
    "transf_test = poly.fit_transform(test_factors)\n",
    "target_feature_names = ['x'.join(['{}^{}'.format(pair[0],pair[1]) for pair in tuple if pair[1]!=0]) for tuple in [zip(train_factors.columns,p) for p in poly.powers_]]\n",
    "train_factors_after_extracion = (pd.DataFrame(transf_train, columns = target_feature_names))\n",
    "test_factors_after_extracion = (pd.DataFrame(transf_test, columns = target_feature_names))\n",
    "train_factors_after_extracion.head(5)"
   ]
  },
  {
   "cell_type": "markdown",
   "metadata": {},
   "source": [
    "### 6.2 Checking correlations between target and synthesized features"
   ]
  },
  {
   "cell_type": "code",
   "execution_count": null,
   "metadata": {
    "collapsed": false
   },
   "outputs": [],
   "source": [
    "poly = sp.PolynomialFeatures(2, include_bias=False)\n",
    "transf_train = poly.fit_transform(train_factors)\n",
    "target_feature_names = ['x'.join(['{}^{}'.format(pair[0],pair[1]) for pair in tuple if pair[1]!=0]) for tuple in [zip(train_factors.columns,p) for p in poly.powers_]]\n",
    "train_factors_after_extracion = (pd.DataFrame(transf_train, columns = target_feature_names))\n",
    "\n",
    "max_corr_before = HPI_correlation['Correlation to Happy Planet Index'].iloc[0]\n",
    "HPI_correlation_feature_extraction = train_factors_after_extracion[train_factors_after_extracion.columns[:]].apply\\\n",
    "(lambda x: x.corr(train_data['Happy Planet Index'], method='spearman'))\n",
    "HPI_correlation_feature_extraction = HPI_correlation_feature_extraction.abs().sort_values(ascending=False)\n",
    "HPI_correlation_feature_extraction = pd.DataFrame({'Feature':HPI_correlation_feature_extraction.index,\\\n",
    "                                'Correlation to Happy Planet Index':HPI_correlation_feature_extraction.values})\n",
    "HPI_correlation_feature_extraction = HPI_correlation_feature_extraction.loc\\\n",
    "[(HPI_correlation_feature_extraction[\"Correlation to Happy Planet Index\"] > max_corr_before) \\\n",
    " & ((HPI_correlation_feature_extraction[\"Feature\"].str.count(\"\\^\") == 2) | ((HPI_correlation_feature_extraction[\"Feature\"].str.count(\"\\^2\") == 1)))]\n",
    "print('There are', HPI_correlation_feature_extraction.shape[0],\\\n",
    "      'new features that are more corrolative to target then old features and many other new very correlative features')\n",
    "HPI_correlation_feature_extraction.head(5)"
   ]
  },
  {
   "cell_type": "markdown",
   "metadata": {},
   "source": [
    "## 7. Model - Kernel ridge regression"
   ]
  },
  {
   "cell_type": "markdown",
   "metadata": {},
   "source": [
    "#### We use this model with the kernel trick due to the positive results of section 6.2"
   ]
  },
  {
   "cell_type": "code",
   "execution_count": null,
   "metadata": {
    "collapsed": false
   },
   "outputs": [],
   "source": [
    "param_grid_for_kridge = {'alpha': [1e0, 1e-1, 1e-2, 1e-3, 1e-4, 1e-5, 1e-6, 1e-7, 1e-8, 1e-9, 1e-10, 1e-11, 1e-12],\\\n",
    "              'gamma': [1e0, 1e-1, 1e-2, 1e-3, 1e-4, 1e-5, 1e-6, 1e-7, 1e-8, 1e-9, 1e-10, 1e-11, 1e-12]}\n",
    "model = GridSearchCV(KernelRidge(kernel='polynomial', degree=2),\\\n",
    "                     cv=5, param_grid=param_grid_for_kridge, n_jobs=-1, verbose=1)\n",
    "\n",
    "ridgeKernelResults = ResultsMeasurements(button_exec.value, train_data,test_data,train_factors,test_factors,\\\n",
    "                                         train_class,test_class,model,'kernel ridge resgression')\n",
    "ridgeKernelResults.interactResults()"
   ]
  },
  {
   "cell_type": "markdown",
   "metadata": {},
   "source": [
    "## 8. Model Evaluation"
   ]
  },
  {
   "cell_type": "markdown",
   "metadata": {},
   "source": [
    "### 8.1 Linear Regression"
   ]
  },
  {
   "cell_type": "code",
   "execution_count": null,
   "metadata": {
    "collapsed": false,
    "scrolled": true
   },
   "outputs": [],
   "source": [
    "lr = LinearRegression()\n",
    "linearRegResults = ResultsMeasurements(not(button_exec.value), train_data,test_data,train_factors,test_factors,\\\n",
    "                                       train_class,test_class,lr , 'linear regression')\n",
    "linearRegResults.interactResults()"
   ]
  },
  {
   "cell_type": "markdown",
   "metadata": {},
   "source": [
    "### 8.2 Lasso Regression"
   ]
  },
  {
   "cell_type": "code",
   "execution_count": null,
   "metadata": {
    "collapsed": false
   },
   "outputs": [],
   "source": [
    "lasso = linear_model.Lasso(alpha=0.1)\n",
    "lassoResults = ResultsMeasurements(button_exec.value, train_data,test_data,train_factors,test_factors,\\\n",
    "                                   train_class,test_class,lasso, 'lasso resgression')\n",
    "lassoResults.interactResults()\n"
   ]
  },
  {
   "cell_type": "markdown",
   "metadata": {},
   "source": [
    "### 8.3 Ridge Regression"
   ]
  },
  {
   "cell_type": "code",
   "execution_count": null,
   "metadata": {
    "collapsed": false
   },
   "outputs": [],
   "source": [
    "ridge = Ridge(alpha=1.0)\n",
    "ridgeResults = ResultsMeasurements(button_exec.value, train_data,test_data,train_factors,test_factors,\\\n",
    "                                   train_class,test_class,ridge,'ridge resgression')\n",
    "ridgeResults.interactResults()\n"
   ]
  },
  {
   "cell_type": "markdown",
   "metadata": {},
   "source": [
    "### 8.4 Random Forest\n",
    "#### The Random Forest model presents better results on the data, and therefore we will use it instead of the kernel ridge"
   ]
  },
  {
   "cell_type": "markdown",
   "metadata": {},
   "source": [
    "#### 8.4.1 For our main data"
   ]
  },
  {
   "cell_type": "code",
   "execution_count": null,
   "metadata": {
    "collapsed": false
   },
   "outputs": [],
   "source": [
    "param_grid_for_random_forest = {'max_features': [None, 'sqrt', 'log2'],\\\n",
    "                    'n_estimators': [500, 1000, 1500], 'max_depth': [None, 1, 5, 10, 50], 'min_samples_split':\\\n",
    "                    [2, 3, 4, 5], 'min_samples_leaf':[1, 3, 5, 7, 9]}\n",
    "clf = GridSearchCV(RandomForestRegressor(), param_grid=param_grid_for_random_forest, cv=5,\n",
    "                  n_jobs=-1, verbose=1)\n",
    "randomForestResults = ResultsMeasurements(button_exec.value, train_data,test_data,train_factors,test_factors,\\\n",
    "                                          train_class,test_class,clf,'random forest resgression')\n",
    "randomForestResults.interactResults()"
   ]
  },
  {
   "cell_type": "markdown",
   "metadata": {},
   "source": [
    "#### 8.4.2 For the yearless and countryless copies"
   ]
  },
  {
   "cell_type": "code",
   "execution_count": null,
   "metadata": {
    "collapsed": false
   },
   "outputs": [],
   "source": [
    "results = dict([(data,0) for data in dataTypes])\n",
    "for data in dataTypes:\n",
    "    results[data] = ResultsMeasurements(False, alternativeModles[data].train_data,\\\n",
    "                                             alternativeModles[data].test_data,\\\n",
    "                                             alternativeModles[data].train_factors,\\\n",
    "                                             alternativeModles[data].test_factors,\\\n",
    "                                             alternativeModles[data].train_class,\\\n",
    "                                             alternativeModles[data].test_class,\\\n",
    "                                             clf,'random forest resgression '+data)"
   ]
  },
  {
   "cell_type": "code",
   "execution_count": null,
   "metadata": {
    "collapsed": false
   },
   "outputs": [],
   "source": [
    "print(results['no countries'].trainFactors.shape)\n",
    "print(results['no countries'].trainRelevantData['label'].shape)"
   ]
  },
  {
   "cell_type": "code",
   "execution_count": null,
   "metadata": {
    "collapsed": false
   },
   "outputs": [],
   "source": [
    "results['no countries'].interactResults()"
   ]
  },
  {
   "cell_type": "code",
   "execution_count": null,
   "metadata": {
    "collapsed": false
   },
   "outputs": [],
   "source": [
    "results['no years'].interactResults()"
   ]
  },
  {
   "cell_type": "code",
   "execution_count": null,
   "metadata": {
    "collapsed": false
   },
   "outputs": [],
   "source": [
    "data='no years'\n",
    "print(alternativeModles[data].train_data.shape,\\\n",
    "                                             alternativeModles[data].test_data.shape,\\\n",
    "                                             alternativeModles[data].train_factors.shape,\\\n",
    "                                             alternativeModles[data].test_factors.shape,\\\n",
    "                                             alternativeModles[data].train_class.shape,\\\n",
    "                                             alternativeModles[data].test_class.shape)"
   ]
  },
  {
   "cell_type": "code",
   "execution_count": null,
   "metadata": {
    "collapsed": false
   },
   "outputs": [],
   "source": [
    "data='no countries'\n",
    "print(alternativeModles[data].train_data.shape,\\\n",
    "                                             alternativeModles[data].test_data.shape,\\\n",
    "                                             alternativeModles[data].train_factors.shape,\\\n",
    "                                             alternativeModles[data].test_factors.shape,\\\n",
    "                                             alternativeModles[data].train_class.shape,\\\n",
    "                                             alternativeModles[data].test_class.shape)"
   ]
  },
  {
   "cell_type": "code",
   "execution_count": null,
   "metadata": {
    "collapsed": true
   },
   "outputs": [],
   "source": []
  }
 ],
 "metadata": {
  "anaconda-cloud": {},
  "kernelspec": {
   "display_name": "Python [conda root]",
   "language": "python",
   "name": "conda-root-py"
  },
  "language_info": {
   "codemirror_mode": {
    "name": "ipython",
    "version": 3
   },
   "file_extension": ".py",
   "mimetype": "text/x-python",
   "name": "python",
   "nbconvert_exporter": "python",
   "pygments_lexer": "ipython3",
   "version": "3.5.2"
  },
  "widgets": {
   "state": {
    "1c2bc117bc3d447e8bbe7eab5260be0c": {
     "views": [
      {
       "cell_index": 3
      }
     ]
    },
    "36458517dd9e425ca6b76c69b9742180": {
     "views": [
      {
       "cell_index": 3
      }
     ]
    },
    "489ecdd9c29d43588f8163ada38bd37d": {
     "views": [
      {
       "cell_index": 25
      }
     ]
    },
    "493a9aa697d44694b0aedb6c1ec0101a": {
     "views": [
      {
       "cell_index": 13
      }
     ]
    },
    "49a4f27333dc47d8b1efd7db74fd2d66": {
     "views": [
      {
       "cell_index": 25
      }
     ]
    },
    "4fefdf3407bc423f982bfda13c5097f7": {
     "views": [
      {
       "cell_index": 3
      }
     ]
    },
    "6aa7122dca36419fa5ecdadaf3cbd56a": {
     "views": [
      {
       "cell_index": 3
      }
     ]
    },
    "72ccb48dad07493aba868b2b9f74d4c8": {
     "views": [
      {
       "cell_index": 67
      }
     ]
    },
    "7e5e4c36539b452a9f9ed97fcd8e2e7f": {
     "views": [
      {
       "cell_index": 3
      }
     ]
    },
    "7f759bcdc40941b6a6ff38846276265c": {
     "views": [
      {
       "cell_index": 3
      }
     ]
    },
    "83a4f6c6974e4d459157327f41441ae5": {
     "views": [
      {
       "cell_index": 25
      }
     ]
    },
    "96cc7aa7c36b472b80c579b1c60207df": {
     "views": [
      {
       "cell_index": 72
      }
     ]
    },
    "a1332b2101d848bb8f36d9fa32121e11": {
     "views": [
      {
       "cell_index": 70
      }
     ]
    },
    "b4b6852acaff4162b0bf25cbc9979fba": {
     "views": [
      {
       "cell_index": 3
      }
     ]
    },
    "b6c3d8fd9fd94a56a05688958a98aa20": {
     "views": [
      {
       "cell_index": 3
      }
     ]
    },
    "b84220edd4bb4851ba8b2b16ce76bada": {
     "views": [
      {
       "cell_index": 45
      }
     ]
    },
    "bdeaebe5747048d2be6522b92773e7fb": {
     "views": [
      {
       "cell_index": 3
      }
     ]
    },
    "be3b8b6f98a347a08b8d3485097736d3": {
     "views": [
      {
       "cell_index": 25
      }
     ]
    },
    "d5a34325a5d741d9861418ba245bb744": {
     "views": [
      {
       "cell_index": 72
      }
     ]
    },
    "d764344ce709460a93d9617f8b086c46": {
     "views": [
      {
       "cell_index": 3
      }
     ]
    },
    "eb5e4ba93dc24e298eda7ab0f81c1399": {
     "views": [
      {
       "cell_index": 3
      }
     ]
    },
    "f812f3f71a02443cbf121dd70a16e84f": {
     "views": [
      {
       "cell_index": 25
      }
     ]
    },
    "fbb6711a19aa441295c4b9122c4e5e02": {
     "views": [
      {
       "cell_index": 72
      }
     ]
    }
   },
   "version": "1.2.0"
  }
 },
 "nbformat": 4,
 "nbformat_minor": 0
}
