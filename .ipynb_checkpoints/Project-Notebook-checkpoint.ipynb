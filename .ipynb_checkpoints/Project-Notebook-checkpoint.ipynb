{
 "cells": [
  {
   "cell_type": "markdown",
   "metadata": {},
   "source": [
    "# Education as a Happiness predictor"
   ]
  },
  {
   "cell_type": "markdown",
   "metadata": {
    "slideshow": {
     "slide_type": "slide"
    }
   },
   "source": [
    "## 1.Data preparation and cleaning"
   ]
  },
  {
   "cell_type": "markdown",
   "metadata": {},
   "source": [
    "### 1.1 Import Utilities Library\n",
    "\n",
    "##### Click \"Run long executions\" for dataset file prepararion and model training\n",
    "##### Click \"Don't show plots\" for disabling graphics"
   ]
  },
  {
   "cell_type": "code",
   "execution_count": 1,
   "metadata": {
    "collapsed": false
   },
   "outputs": [],
   "source": [
    "%matplotlib inline\n",
    "from utilities import *"
   ]
  },
  {
   "cell_type": "markdown",
   "metadata": {},
   "source": [
    "### 1.2 Obtaining the Dataset file"
   ]
  },
  {
   "cell_type": "code",
   "execution_count": null,
   "metadata": {
    "collapsed": false
   },
   "outputs": [
    {
     "name": "stdout",
     "output_type": "stream",
     "text": [
      "• Extracting labels data from csv files done.\n",
      "\n",
      "• Unzipping dataset done.\n",
      "\n",
      "• Removing commas from csv files done.\n",
      "\n"
     ]
    }
   ],
   "source": [
    "if not button_exec.value:\n",
    "    DataPreparation.obtainDataFromLocalDBs()"
   ]
  },
  {
   "cell_type": "markdown",
   "metadata": {},
   "source": [
    "### 1.3 Loading the Dataset file"
   ]
  },
  {
   "cell_type": "code",
   "execution_count": null,
   "metadata": {
    "collapsed": false
   },
   "outputs": [],
   "source": [
    "overall_data = pd.read_csv(DataPreparation.retriveMergedFilePath(),\\\n",
    "                           header=0, index_col=0, skiprows=0, encoding='iso-8859-1')\n",
    "overall_data.head(5)"
   ]
  },
  {
   "cell_type": "markdown",
   "metadata": {},
   "source": [
    "### 1.4 Drop columns and rows with %(nulls)>80%"
   ]
  },
  {
   "cell_type": "code",
   "execution_count": null,
   "metadata": {
    "collapsed": false
   },
   "outputs": [],
   "source": [
    "THRESH = 0.2\n",
    "overall_data = overall_data.dropna(1, thresh=(overall_data.shape[0] * (1 - THRESH)))\n",
    "overall_data = overall_data.dropna(0, thresh=(overall_data.shape[1] * (1 - THRESH)))\n",
    "overall_data.head(5)"
   ]
  },
  {
   "cell_type": "markdown",
   "metadata": {},
   "source": [
    "## 2. Data Visualization & Analysis"
   ]
  },
  {
   "cell_type": "markdown",
   "metadata": {},
   "source": [
    "### 2.1 Most frequent countries appearing in the Dataset"
   ]
  },
  {
   "cell_type": "markdown",
   "metadata": {},
   "source": [
    "#### 2.1.1 Show counts on globbus map"
   ]
  },
  {
   "cell_type": "code",
   "execution_count": null,
   "metadata": {
    "collapsed": false
   },
   "outputs": [],
   "source": [
    "overall_data_country_counts = overall_data.copy()\n",
    "overall_data_country_counts['country counts'] = \\\n",
    "    overall_data_country_counts.groupby('country')['country'].transform('count')\n",
    "MapVisualizations.plotDataOnMap(overall_data_country_counts, feature='country counts', year='mean', show_plot=button_plots.value)"
   ]
  },
  {
   "cell_type": "markdown",
   "metadata": {},
   "source": [
    "#### 2.1.2 Show counts in table"
   ]
  },
  {
   "cell_type": "code",
   "execution_count": null,
   "metadata": {
    "collapsed": false
   },
   "outputs": [],
   "source": [
    "overall_data_country_counts = overall_data_country_counts.groupby(['country'])[['country','country counts']].mean()\n",
    "overall_data_country_counts = overall_data_country_counts.sort('country counts', ascending=False)\n",
    "overall_data_country_counts.reset_index(inplace=True)\n",
    "overall_data_country_counts[['country','country counts']].head(10)"
   ]
  },
  {
   "cell_type": "markdown",
   "metadata": {},
   "source": [
    "### 2.2 Data distribution over the years"
   ]
  },
  {
   "cell_type": "code",
   "execution_count": null,
   "metadata": {
    "collapsed": false
   },
   "outputs": [],
   "source": [
    "%matplotlib inline\n",
    "if button_plots.value:\n",
    "    DataVisualizations.distPlot(overall_data['year'],'Histogram of years','years','count',20,False)"
   ]
  },
  {
   "cell_type": "markdown",
   "metadata": {},
   "source": [
    "### 2.3 Checking distrubution of the label visually"
   ]
  },
  {
   "cell_type": "code",
   "execution_count": null,
   "metadata": {
    "collapsed": false
   },
   "outputs": [],
   "source": [
    "%matplotlib inline\n",
    "if button_plots.value:\n",
    "    DataVisualizations.distPlot(overall_data['Happy Planet Index'],'Histogram of Happy Planet Index values','HPI','density',25,True)"
   ]
  },
  {
   "cell_type": "markdown",
   "metadata": {},
   "source": [
    "### 2.4 Most feature-target Correlated features in the data"
   ]
  },
  {
   "cell_type": "code",
   "execution_count": null,
   "metadata": {
    "collapsed": false
   },
   "outputs": [],
   "source": [
    "HPI_correlation = overall_data[overall_data.columns[1:-1]].apply\\\n",
    "    (lambda x: x.corr(overall_data['Happy Planet Index'], method='spearman'))\n",
    "HPI_correlation = HPI_correlation.abs().sort_values(ascending=False)\n",
    "HPI_correlation = pd.DataFrame({'Feature':HPI_correlation.index,\\\n",
    "                                'Correlation to Happy Planet Index':HPI_correlation.values})\n",
    "HPI_correlation.head(5)"
   ]
  },
  {
   "cell_type": "markdown",
   "metadata": {},
   "source": [
    "### 2.5 Plot Correlation matrix, taken 2 positive and 2 negative most correlated features"
   ]
  },
  {
   "cell_type": "code",
   "execution_count": null,
   "metadata": {
    "collapsed": false
   },
   "outputs": [],
   "source": [
    "%matplotlib inline\n",
    "corr_features = HPI_correlation['Feature'].head(5).tolist() + ['Happy Planet Index']\n",
    "corr_features = [x for x in corr_features if x != 'year']\n",
    "overall_data_to_plot = overall_data[corr_features]\n",
    "data_corr_mat= overall_data_to_plot.corr(method='spearman')\n",
    "if button_plots.value:\n",
    "    plt.figure(figsize=(4,4))\n",
    "    sns.heatmap(data_corr_mat, vmax=1, square=True, annot=True, cmap='cubehelix')"
   ]
  },
  {
   "cell_type": "markdown",
   "metadata": {},
   "source": [
    "### 2.6 Plotting Data on world map\n",
    "#### Choose between Happy Planet Index and most correlated features \n",
    "#### Unfortunatly, there is no imagination between the plots"
   ]
  },
  {
   "cell_type": "code",
   "execution_count": null,
   "metadata": {
    "collapsed": false
   },
   "outputs": [],
   "source": [
    "if button_plots.value:\n",
    "    MapVisualizations.interactMaps(overall_data,corr_features)"
   ]
  },
  {
   "cell_type": "markdown",
   "metadata": {},
   "source": [
    "### 2.7 Plotting boxplot of most correlated feature"
   ]
  },
  {
   "cell_type": "code",
   "execution_count": null,
   "metadata": {
    "collapsed": false
   },
   "outputs": [],
   "source": [
    "fig = plt.figure(figsize=(4,3))\n",
    "ax = fig.add_subplot(111)\n",
    "overall_data[corr_features[1]].to_frame().boxplot()\n",
    "ax.set_yscale('log')\n",
    "plt.ylabel('value')\n",
    "plt.title('Boxplot for most correlated feature')"
   ]
  },
  {
   "cell_type": "markdown",
   "metadata": {},
   "source": [
    "## 3.Preprocessing"
   ]
  },
  {
   "cell_type": "markdown",
   "metadata": {},
   "source": [
    "### 3.1 Impute nulls with medians"
   ]
  },
  {
   "cell_type": "code",
   "execution_count": null,
   "metadata": {
    "collapsed": false
   },
   "outputs": [],
   "source": [
    "overall_data = overall_data.fillna(overall_data.median())\n",
    "overall_data.head(5)"
   ]
  },
  {
   "cell_type": "markdown",
   "metadata": {},
   "source": [
    "### 3.2 One Hot Encoding Foreach Country"
   ]
  },
  {
   "cell_type": "code",
   "execution_count": null,
   "metadata": {
    "collapsed": false
   },
   "outputs": [],
   "source": [
    "overall_data_countries = overall_data['country']\n",
    "oh_overall_data = overall_data.drop('country', axis=1)\n",
    "onehot_overall_col = pd.get_dummies(overall_data['country'], prefix='country')\n",
    "\n",
    "#check for missing cols in onehot_overall_col\n",
    "for col in onehot_overall_col.columns:\n",
    "    if col not in onehot_overall_col.columns:\n",
    "        onehot_overall_col[col] = 0\n",
    "        \n",
    "oh_overall_data = pd.concat([oh_overall_data, onehot_overall_col], axis=1)\n",
    "overall_data = oh_overall_data\n",
    "overall_data['country'] = overall_data_countries\n",
    "overall_data.head(5)"
   ]
  },
  {
   "cell_type": "markdown",
   "metadata": {},
   "source": [
    "### 3.3 Split Data randomly into training set and test set"
   ]
  },
  {
   "cell_type": "code",
   "execution_count": null,
   "metadata": {
    "collapsed": false
   },
   "outputs": [],
   "source": [
    "train_data, test_data = train_test_split\\\n",
    "(overall_data, test_size = 0.2, random_state=0)\n",
    "train_data.reset_index(drop=True, inplace=True)\n",
    "test_data.reset_index(drop=True, inplace=True)\n",
    "train_data.head(5)"
   ]
  },
  {
   "cell_type": "markdown",
   "metadata": {},
   "source": [
    "### 3.4 Partition factors, class and countries"
   ]
  },
  {
   "cell_type": "code",
   "execution_count": null,
   "metadata": {
    "collapsed": false
   },
   "outputs": [],
   "source": [
    "train_countries = train_data['country']\n",
    "train_class = train_data['Happy Planet Index']\n",
    "train_factors = (train_data.drop(['Happy Planet Index', 'country'], axis=1))\n",
    "\n",
    "test_countries = test_data['country']\n",
    "test_class = test_data['Happy Planet Index']\n",
    "test_factors =(test_data.drop(['Happy Planet Index', 'country'], axis=1))\n",
    "\n",
    "train_factors.head(5)"
   ]
  },
  {
   "cell_type": "markdown",
   "metadata": {},
   "source": [
    "### 3.5 Binning The Years by Decades"
   ]
  },
  {
   "cell_type": "code",
   "execution_count": null,
   "metadata": {
    "collapsed": false
   },
   "outputs": [],
   "source": [
    "min_year = min(min(train_factors['year']), min(test_factors['year']))\n",
    "train_factors['year'] = train_factors['year'].apply(lambda x:math.floor((x-min_year) / 10))\n",
    "test_factors['year'] = test_factors['year'].apply(lambda x:math.floor((x-min_year) / 10))\n",
    "train_factors.head(5)"
   ]
  },
  {
   "cell_type": "markdown",
   "metadata": {},
   "source": [
    "### 3.6 Change all numeric values' datatypes to float"
   ]
  },
  {
   "cell_type": "code",
   "execution_count": null,
   "metadata": {
    "collapsed": false
   },
   "outputs": [],
   "source": [
    "train_factors = train_factors.astype(np.float)\n",
    "test_factors = test_factors.astype(np.float)\n",
    "train_factors.dtypes[:5]"
   ]
  },
  {
   "cell_type": "markdown",
   "metadata": {},
   "source": [
    "### 3.7 Creating a yearless and countryless copies of the data\n",
    "#### Henceforth, we duplicate our actions handling the data for each copy "
   ]
  },
  {
   "cell_type": "code",
   "execution_count": null,
   "metadata": {
    "collapsed": false,
    "scrolled": true
   },
   "outputs": [],
   "source": [
    "alternative_models = AlternativeModel.createAlternativeModels(train_data, train_factors, train_class, train_countries, test_data, test_factors,\\\n",
    "                                       test_class, test_countries)"
   ]
  },
  {
   "cell_type": "markdown",
   "metadata": {
    "collapsed": true
   },
   "source": [
    "### 3.8 Data linearity proving"
   ]
  },
  {
   "cell_type": "code",
   "execution_count": null,
   "metadata": {
    "collapsed": false
   },
   "outputs": [],
   "source": [
    "interact(OutliersDetection.allDataLinearityProving,\\\n",
    "             request=RadioButtons(options=  types_for_interact,\\\n",
    "                                  description='Select data type:', disabled=False))"
   ]
  },
  {
   "cell_type": "markdown",
   "metadata": {},
   "source": [
    "### 3.9 Scaling nomeric features"
   ]
  },
  {
   "cell_type": "code",
   "execution_count": null,
   "metadata": {
    "collapsed": false
   },
   "outputs": [],
   "source": [
    "for data in data_types:\n",
    "    alternative_models[data].train_factors = \\\n",
    "            pd.DataFrame(sp.StandardScaler().fit_transform(alternative_models[data].train_factors),columns =\\\n",
    "                                          alternative_models[data].train_factors.columns)\n",
    "    alternative_models[data].test_factors = \\\n",
    "            pd.DataFrame(sp.StandardScaler().fit_transform(alternative_models[data].test_factors),columns =\\\n",
    "                                          alternative_models[data].test_factors.columns)\n",
    "AlternativeModel.updateAlternativeModels(alternative_models)\n",
    "alternative_models['main data'].train_factors.head(5)"
   ]
  },
  {
   "cell_type": "markdown",
   "metadata": {},
   "source": [
    "## 4. Outliers Detection"
   ]
  },
  {
   "cell_type": "markdown",
   "metadata": {},
   "source": [
    "### 4.1 Robust Regression Method"
   ]
  },
  {
   "cell_type": "code",
   "execution_count": null,
   "metadata": {
    "collapsed": false,
    "scrolled": true
   },
   "outputs": [],
   "source": [
    "f = FloatProgress(min=0, max=100)\n",
    "display(f)\n",
    "f.value += 1\n",
    "for data in data_types:\n",
    "    alternative_models[data].train_factors, alternative_models[data].train_class, alternative_models[data].train_data =\\\n",
    "                                OutliersDetection.removeOutliersRlm(alternative_models[data].train_factors, \\\n",
    "                                                                    alternative_models[data].train_class, \\\n",
    "                                                                alternative_models[data].train_data, 1,data)\n",
    "    f.value += 33\n",
    "    print(data)\n",
    "    \n",
    "AlternativeModel.updateAlternativeModels(alternative_models)\n",
    "\n",
    "interact(OutliersDetection.showResidualsRemoval,\\\n",
    "             request=RadioButtons(options=  types_for_interact,\\\n",
    "                                  description='Select data type:', disabled=False))"
   ]
  },
  {
   "cell_type": "markdown",
   "metadata": {},
   "source": [
    "### 4.2 PCA Visual Method"
   ]
  },
  {
   "cell_type": "markdown",
   "metadata": {},
   "source": [
    "#### 4.2.1 Apply 2D-PCA dimension reduction for visual outliers detection "
   ]
  },
  {
   "cell_type": "code",
   "execution_count": null,
   "metadata": {
    "collapsed": false
   },
   "outputs": [],
   "source": [
    "PCAAltModels = dict([(data,(OutliersDetection.twoDimPCAandClustering(alternative_models[data].train_factors,data))) \\\n",
    "                     for data in data_types])\n",
    "AlternativeModel.updateAlternativeModels(alternative_models)\n",
    "\n",
    "interact(OutliersDetection.allDataTwoDimPCAandClustering,\\\n",
    "             request=RadioButtons(options=  types_for_interact,\\\n",
    "                                  description='Select data type:', disabled=False))"
   ]
  },
  {
   "cell_type": "markdown",
   "metadata": {},
   "source": [
    "#### 4.2.2 Print outliers' countries"
   ]
  },
  {
   "cell_type": "code",
   "execution_count": null,
   "metadata": {
    "collapsed": false
   },
   "outputs": [],
   "source": [
    "outliers_indecies_alternative_model = dict([(data,np.where(PCAAltModels[data][0][:,0] > 20)[0].tolist()) \\\n",
    "                                            for data in data_types])\n",
    "outliers_df_alternative_model = dict([(data,alternative_models[data].train_data.loc\\\n",
    "                                       [outliers_indecies_alternative_model[data], :]) for data \\\n",
    "                             in data_types])\n",
    "OutliersDetection.printOutlierCountries(outliers_df_alternative_model,outliers_indecies_alternative_model)"
   ]
  },
  {
   "cell_type": "markdown",
   "metadata": {},
   "source": [
    "#### 4.2.3 Remove visible outliers if reducing aquracy"
   ]
  },
  {
   "cell_type": "code",
   "execution_count": null,
   "metadata": {
    "collapsed": false
   },
   "outputs": [],
   "source": [
    "f = FloatProgress(min=0, max=100)\n",
    "display(f)\n",
    "f.value += 1\n",
    "for data in data_types:\n",
    "    print(\"• \",data,\"run:\")\n",
    "    alternative_models[data].train_factors, alternative_models[data].train_class, alternative_models[data].train_data =\\\n",
    "                                OutliersDetection.removeOutliersPCA(alternative_models[data].train_factors,\\\n",
    "                                                                    alternative_models[data].train_class,\\\n",
    "                                                                    alternative_models[data].train_data,\\\n",
    "                                                                    outliers_indecies_alternative_model[data])\n",
    "    f.value += 33\n",
    "AlternativeModel.updateAlternativeModels(alternative_models)"
   ]
  },
  {
   "cell_type": "markdown",
   "metadata": {},
   "source": [
    "## 5. Feature selection with E.Net model"
   ]
  },
  {
   "cell_type": "markdown",
   "metadata": {},
   "source": [
    "### 5.1 Feature selection"
   ]
  },
  {
   "cell_type": "code",
   "execution_count": null,
   "metadata": {
    "collapsed": false
   },
   "outputs": [],
   "source": [
    "chosen_features_and_coefs_alternative_models = dict([(data,\"\") for data in data_types])\n",
    "table_alternative_models = dict([(data,\"\") for data in data_types])\n",
    "\n",
    "f = FloatProgress(min=0, max=100)\n",
    "display(f)\n",
    "f.value += 1\n",
    "for data in data_types:\n",
    "    chosen_features_and_coefs_alternative_models[data], table_alternative_models[data] =\\\n",
    "                                FeatureSelection.featureSelectionWithENET(alternative_models[data].train_factors,\\\n",
    "                                                                    alternative_models[data].train_class)\n",
    "    f.value += 33\n",
    "AlternativeModel.updateAlternativeModels(alternative_models)\n",
    "\n",
    "FeatureSelection.printStrongCoeffs(table_alternative_models)"
   ]
  },
  {
   "cell_type": "markdown",
   "metadata": {},
   "source": [
    "### 5.2 Countries correlated to target plot"
   ]
  },
  {
   "cell_type": "code",
   "execution_count": null,
   "metadata": {
    "collapsed": false
   },
   "outputs": [],
   "source": [
    "FeatureSelection.countriesCorrMap(chosen_features_and_coefs_alternative_models)"
   ]
  },
  {
   "cell_type": "markdown",
   "metadata": {},
   "source": [
    "### 5.3 Take remaining features"
   ]
  },
  {
   "cell_type": "code",
   "execution_count": null,
   "metadata": {
    "collapsed": false
   },
   "outputs": [],
   "source": [
    "for data in data_types:\n",
    "    chosen_features = [x[0] for x in chosen_features_and_coefs_alternative_models[data]]\n",
    "    alternative_models[data].train_factors = alternative_models[data].train_factors[chosen_features]\n",
    "    alternative_models[data].test_factors = alternative_models[data].test_factors[chosen_features]"
   ]
  },
  {
   "cell_type": "markdown",
   "metadata": {},
   "source": [
    "## 6. Features extraction\n",
    "#### Checking feature interactions' correlations to label - done only for main data type"
   ]
  },
  {
   "cell_type": "markdown",
   "metadata": {},
   "source": [
    "### 6.1 Synthesizing features' interactions"
   ]
  },
  {
   "cell_type": "code",
   "execution_count": null,
   "metadata": {
    "collapsed": false
   },
   "outputs": [],
   "source": [
    "poly = sp.PolynomialFeatures(2, include_bias=False)\n",
    "transf_train = poly.fit_transform(train_factors)\n",
    "transf_test = poly.fit_transform(test_factors)\n",
    "target_feature_names = ['x'.join(['{}^{}'.format(pair[0],pair[1]) for pair in tuple if pair[1]!=0]) for tuple in [zip(train_factors.columns,p) for p in poly.powers_]]\n",
    "train_factors_after_extracion = (pd.DataFrame(transf_train, columns = target_feature_names))\n",
    "test_factors_after_extracion = (pd.DataFrame(transf_test, columns = target_feature_names))\n",
    "train_factors_after_extracion.head(5)"
   ]
  },
  {
   "cell_type": "markdown",
   "metadata": {},
   "source": [
    "### 6.2 Checking correlations between target and synthesized features"
   ]
  },
  {
   "cell_type": "code",
   "execution_count": null,
   "metadata": {
    "collapsed": false
   },
   "outputs": [],
   "source": [
    "poly = sp.PolynomialFeatures(2, include_bias=False)\n",
    "transf_train = poly.fit_transform(train_factors)\n",
    "target_feature_names = ['x'.join(['{}^{}'.format(pair[0],pair[1]) for pair in tuple if pair[1]!=0]) for tuple in [zip(train_factors.columns,p) for p in poly.powers_]]\n",
    "train_factors_after_extracion = (pd.DataFrame(transf_train, columns = target_feature_names))\n",
    "\n",
    "max_corr_before = HPI_correlation['Correlation to Happy Planet Index'].iloc[0]\n",
    "HPI_correlation_feature_extraction = train_factors_after_extracion[train_factors_after_extracion.columns[:]].apply\\\n",
    "(lambda x: x.corr(train_data['Happy Planet Index'], method='spearman'))\n",
    "HPI_correlation_feature_extraction = HPI_correlation_feature_extraction.abs().sort_values(ascending=False)\n",
    "HPI_correlation_feature_extraction = pd.DataFrame({'Feature':HPI_correlation_feature_extraction.index,\\\n",
    "                                'Correlation to Happy Planet Index':HPI_correlation_feature_extraction.values})\n",
    "HPI_correlation_feature_extraction = HPI_correlation_feature_extraction.loc\\\n",
    "[(HPI_correlation_feature_extraction[\"Correlation to Happy Planet Index\"] > max_corr_before) \\\n",
    " & ((HPI_correlation_feature_extraction[\"Feature\"].str.count(\"\\^\") == 2) | ((HPI_correlation_feature_extraction[\"Feature\"].str.count(\"\\^2\") == 1)))]\n",
    "print('There are', HPI_correlation_feature_extraction.shape[0],\\\n",
    "      'new features that are more correlative to target then old features and many other new very correlative features')\n",
    "HPI_correlation_feature_extraction.head(5)"
   ]
  },
  {
   "cell_type": "markdown",
   "metadata": {},
   "source": [
    "## 7. Model - Kernel ridge regression"
   ]
  },
  {
   "cell_type": "markdown",
   "metadata": {},
   "source": [
    "#### We use this model with the kernel trick due to the positive results of section 6.2"
   ]
  },
  {
   "cell_type": "code",
   "execution_count": null,
   "metadata": {
    "collapsed": false
   },
   "outputs": [],
   "source": [
    "param_grid_for_kridge = {'alpha': [1e0, 1e-1, 1e-2, 1e-3, 1e-4, 1e-5, 1e-6, 1e-7, 1e-8, 1e-9, 1e-10, 1e-11, 1e-12],\\\n",
    "              'gamma': [1e0, 1e-1, 1e-2, 1e-3, 1e-4, 1e-5, 1e-6, 1e-7, 1e-8, 1e-9, 1e-10, 1e-11, 1e-12]}\n",
    "model = GridSearchCV(KernelRidge(kernel='polynomial', degree=2),\\\n",
    "                     cv=5, param_grid=param_grid_for_kridge, n_jobs=-1, verbose=1)\n",
    "\n",
    "kernel_ridge_results = dict([(data,ResultsMeasurements(button_exec.value, alternative_models[data].train_data,\\\n",
    "                                                     alternative_models[data].test_data,alternative_models[data].train_factors,\\\n",
    "                                                     alternative_models[data].test_factors,alternative_models[data].train_class,\\\n",
    "                                                     alternative_models[data].test_class,model,'kernel ridge resgression '+data))\\\n",
    "                           for data in data_types])\n",
    "tab = ResultsMeasurements.tabDisplay(kernel_ridge_results)\n",
    "tab"
   ]
  },
  {
   "cell_type": "markdown",
   "metadata": {},
   "source": [
    "## 8. Model Evaluation"
   ]
  },
  {
   "cell_type": "markdown",
   "metadata": {},
   "source": [
    "### 8.1 Linear Regression"
   ]
  },
  {
   "cell_type": "code",
   "execution_count": null,
   "metadata": {
    "collapsed": false,
    "scrolled": true
   },
   "outputs": [],
   "source": [
    "lr = LinearRegression()\n",
    "linear_regression_results = dict([(data,ResultsMeasurements(button_exec.value, alternative_models[data].train_data,\\\n",
    "                                                     alternative_models[data].test_data,alternative_models[data].train_factors,\\\n",
    "                                                     alternative_models[data].test_factors,alternative_models[data].train_class,\\\n",
    "                                                     alternative_models[data].test_class,lr,'linear regression '+data))\\\n",
    "                           for data in data_types])\n",
    "tab = ResultsMeasurements.tabDisplay(linear_regression_results)\n",
    "tab"
   ]
  },
  {
   "cell_type": "markdown",
   "metadata": {},
   "source": [
    "### 8.2 Ridge Regression"
   ]
  },
  {
   "cell_type": "code",
   "execution_count": null,
   "metadata": {
    "collapsed": false
   },
   "outputs": [],
   "source": [
    "ridge = Ridge(alpha=1.0)\n",
    "ridge_regression_results = dict([(data,ResultsMeasurements(button_exec.value, alternative_models[data].train_data,\\\n",
    "                                                     alternative_models[data].test_data,alternative_models[data].train_factors,\\\n",
    "                                                     alternative_models[data].test_factors,alternative_models[data].train_class,\\\n",
    "                                                     alternative_models[data].test_class,ridge,'ridge resgression '+data))\\\n",
    "                           for data in data_types])\n",
    "tab = ResultsMeasurements.tabDisplay(ridge_regression_results)\n",
    "tab"
   ]
  },
  {
   "cell_type": "markdown",
   "metadata": {},
   "source": [
    "### 8.3 Random Forest\n",
    "#### The Random Forest model presents better results on the data, and therefore we will use it instead of the kernel ridge"
   ]
  },
  {
   "cell_type": "code",
   "execution_count": null,
   "metadata": {
    "collapsed": false
   },
   "outputs": [],
   "source": [
    "param_grid_for_random_forest = {'max_features': [None, 'sqrt', 'log2'],\\\n",
    "                    'n_estimators': [500, 1000, 1500], 'max_depth': [None, 1, 5, 10, 50], 'min_samples_split':\\\n",
    "                    [2, 3, 4, 5], 'min_samples_leaf':[1, 3, 5, 7, 9]}\n",
    "clf = GridSearchCV(RandomForestRegressor(), param_grid=param_grid_for_random_forest, cv=5,\n",
    "                  n_jobs=-1, verbose=1)\n",
    "random_forest_results = dict([(data,ResultsMeasurements(button_exec.value, alternative_models[data].train_data,\\\n",
    "                                                     alternative_models[data].test_data,alternative_models[data].train_factors,\\\n",
    "                                                     alternative_models[data].test_factors,alternative_models[data].train_class,\\\n",
    "                                                     alternative_models[data].test_class,clf,'random forest resgression '+data))\\\n",
    "                           for data in data_types])\n",
    "tab = ResultsMeasurements.tabDisplay(random_forest_results)\n",
    "tab"
   ]
  },
  {
   "cell_type": "markdown",
   "metadata": {},
   "source": [
    "### 8.4 Numeric Results Comparison for all 4 models"
   ]
  },
  {
   "cell_type": "code",
   "execution_count": null,
   "metadata": {
    "collapsed": false,
    "scrolled": true
   },
   "outputs": [],
   "source": [
    "ResultsMeasurements.compareModels(linear_regression_results, ridge_regression_results, kernel_ridge_results,random_forest_results)"
   ]
  },
  {
   "cell_type": "markdown",
   "metadata": {},
   "source": [
    "## 9. The prediction of Random Forest (elected model), on the test dataset compared to label"
   ]
  },
  {
   "cell_type": "code",
   "execution_count": null,
   "metadata": {
    "collapsed": false
   },
   "outputs": [],
   "source": [
    "ResultsMeasurements.compareLabelPredictionOnMap(random_forest_results)"
   ]
  },
  {
   "cell_type": "markdown",
   "metadata": {},
   "source": [
    "## 10.  Types of datasets prediction comparison (for our elected model - Random Forest)"
   ]
  },
  {
   "cell_type": "code",
   "execution_count": null,
   "metadata": {
    "collapsed": false
   },
   "outputs": [],
   "source": [
    "comparison_parameters = pd.DataFrame(['R^2 for Train data','R^2 for Test data','Mean HPI for Train data',\\\n",
    "                              'Mean prediction for Train data','Mean HPI for Test data','Mean prediction for Test data',\\\n",
    "                              'Error Percentage for Train data','Error Percentage for Test data'])\n",
    "for dataset in data_types:\n",
    "    comparison_parameters[dataset] = random_forest_results[dataset].comparison_parameters_df\n",
    "comparison_parameters.columns = ['parameter'] + data_types\n",
    "display(comparison_parameters.head(10))"
   ]
  },
  {
   "cell_type": "code",
   "execution_count": null,
   "metadata": {
    "collapsed": true
   },
   "outputs": [],
   "source": []
  }
 ],
 "metadata": {
  "anaconda-cloud": {},
  "kernelspec": {
   "display_name": "Python [conda root]",
   "language": "python",
   "name": "conda-root-py"
  },
  "language_info": {
   "codemirror_mode": {
    "name": "ipython",
    "version": 3
   },
   "file_extension": ".py",
   "mimetype": "text/x-python",
   "name": "python",
   "nbconvert_exporter": "python",
   "pygments_lexer": "ipython3",
   "version": "3.5.2"
  },
  "widgets": {
   "state": {
    "00acab9a39134bd2a0aaba9b249bdec0": {
     "views": [
      {
       "cell_index": 61
      }
     ]
    },
    "01ec7341538b458b99286e2dc8e93603": {
     "views": [
      {
       "cell_index": 3
      }
     ]
    },
    "03165cc850f14f54beb20b4441844841": {
     "views": [
      {
       "cell_index": 80
      }
     ]
    },
    "04c70220cb614948a97e7e23b696b9d5": {
     "views": [
      {
       "cell_index": 57
      }
     ]
    },
    "0704ad3d304b4d93a6171c021d833a32": {
     "views": [
      {
       "cell_index": 25
      }
     ]
    },
    "0d0502aef8a647ebb09c17ba2b7a6651": {
     "views": [
      {
       "cell_index": 3
      }
     ]
    },
    "0e4cb1741f5d458e95300d05bed61446": {
     "views": [
      {
       "cell_index": 3
      }
     ]
    },
    "1198097f54be4737ad93d8057b695ca3": {
     "views": [
      {
       "cell_index": 3
      }
     ]
    },
    "1260cc0258df484a802bfa1f117a4979": {
     "views": [
      {
       "cell_index": 3
      }
     ]
    },
    "16e6b095083441359fd493daf91dd463": {
     "views": [
      {
       "cell_index": 3
      }
     ]
    },
    "1983d02dfcdc4fe79a8b16fe62d4a946": {
     "views": [
      {
       "cell_index": 54
      }
     ]
    },
    "1f94f4322d544bc69ca0593f15a7def4": {
     "views": [
      {
       "cell_index": 59
      }
     ]
    },
    "20782d0aea2d4da1bdc35e64cfb32074": {
     "views": [
      {
       "cell_index": 3
      }
     ]
    },
    "20d15d39009e4f1784c098c5a4a3d4c1": {
     "views": [
      {
       "cell_index": 59
      }
     ]
    },
    "21c7dd0c00b247bb8a2b9e52cb74963d": {
     "views": [
      {
       "cell_index": 56
      }
     ]
    },
    "2286976dd9f14df589fc75cc707bbdb6": {
     "views": [
      {
       "cell_index": 47
      }
     ]
    },
    "240a1a98bb5c4ea09049b038df745401": {
     "views": [
      {
       "cell_index": 47
      }
     ]
    },
    "28694b6361894a508268379330a99d40": {
     "views": [
      {
       "cell_index": 59
      }
     ]
    },
    "2a5ebcaa2a004746b5fdda8498428269": {
     "views": [
      {
       "cell_index": 3
      }
     ]
    },
    "2dd73acceaaf4761a58f6675c2b4f437": {
     "views": [
      {
       "cell_index": 47
      }
     ]
    },
    "323a78f708824dc98910a0ff7952791f": {
     "views": [
      {
       "cell_index": 57
      }
     ]
    },
    "35841097837d45eaba6b91cfb46c9bba": {
     "views": [
      {
       "cell_index": 25
      }
     ]
    },
    "363db66c7f4243e492c5902491cf6672": {
     "views": [
      {
       "cell_index": 49
      }
     ]
    },
    "3fb96395b3714a9987d6fa2ce4e17fc3": {
     "views": [
      {
       "cell_index": 3
      }
     ]
    },
    "41735ac2fd6f4db08549592239eb6a74": {
     "views": [
      {
       "cell_index": 3
      }
     ]
    },
    "450639f132f54325a51a8677814c6b5e": {
     "views": [
      {
       "cell_index": 57
      }
     ]
    },
    "4dab995f27be46e58650a2d722dfb441": {
     "views": [
      {
       "cell_index": 44
      }
     ]
    },
    "535df90df15041ffa21dd6b05cdb4656": {
     "views": [
      {
       "cell_index": 47
      }
     ]
    },
    "547994400d36495bafc63116f910b5b1": {
     "views": [
      {
       "cell_index": 49
      }
     ]
    },
    "57a31c91f9ff4f3aaf97f6c831bc4618": {
     "views": [
      {
       "cell_index": 52
      }
     ]
    },
    "59783320c72d49e4ba45c56437c76560": {
     "views": [
      {
       "cell_index": 3
      }
     ]
    },
    "5a95f81f5c344b309bb56bd62c3f4b60": {
     "views": [
      {
       "cell_index": 3
      }
     ]
    },
    "634885f3f30d4b84a6a4cfd7910b8134": {
     "views": [
      {
       "cell_index": 49
      }
     ]
    },
    "65ab0a0eb55d4151a4fa048af493de74": {
     "views": [
      {
       "cell_index": 57
      }
     ]
    },
    "675858fde4424812878e91f42aa3fefd": {
     "views": [
      {
       "cell_index": 3
      }
     ]
    },
    "6a41ddf180d64a3981ddcf43204201f2": {
     "views": [
      {
       "cell_index": 57
      }
     ]
    },
    "6b6c8d8a29604b119423f478d325be14": {
     "views": [
      {
       "cell_index": 47
      }
     ]
    },
    "6cbdc2da88564103b1ac6bbb5b91be25": {
     "views": [
      {
       "cell_index": 74
      }
     ]
    },
    "6cf581b86ea9492ca4cfbe486cf9d9f7": {
     "views": [
      {
       "cell_index": 76
      }
     ]
    },
    "6df1c5715a0c45a4924ecd0d3c30927a": {
     "views": [
      {
       "cell_index": 80
      }
     ]
    },
    "74149c7c86af43529489fbe56fcf241c": {
     "views": [
      {
       "cell_index": 3
      }
     ]
    },
    "75e612894d9b42a69d37ee4588902563": {
     "views": [
      {
       "cell_index": 3
      }
     ]
    },
    "8022a44c615e48f795d7e24f8e189ca3": {
     "views": [
      {
       "cell_index": 3
      }
     ]
    },
    "808d30c0ffa940dba1c155926e15826f": {
     "views": [
      {
       "cell_index": 47
      }
     ]
    },
    "873c5869517c4266bc5beb05941129fe": {
     "views": [
      {
       "cell_index": 3
      }
     ]
    },
    "897be707e21c47e2940adffd8e3d35cc": {
     "views": [
      {
       "cell_index": 71
      }
     ]
    },
    "8a280b8aab67462990f782cb94986c93": {
     "views": [
      {
       "cell_index": 3
      }
     ]
    },
    "90d654fd11c241518f14c4ff08fb1e64": {
     "views": [
      {
       "cell_index": 3
      }
     ]
    },
    "96cee06f4a56427f8f845522d33d27b0": {
     "views": [
      {
       "cell_index": 3
      }
     ]
    },
    "97764007d5b1425ea8606f695b70b6a1": {
     "views": [
      {
       "cell_index": 57
      }
     ]
    },
    "9806f075e2d64a7a8931257bc896ae6e": {
     "views": [
      {
       "cell_index": 82
      }
     ]
    },
    "988eba41e7764f80816fb4c286037f28": {
     "views": [
      {
       "cell_index": 47
      }
     ]
    },
    "99d1867398874c2bbd2a56385a6c4ccc": {
     "views": [
      {
       "cell_index": 3
      }
     ]
    },
    "9bf217f772c6472a9a9cdef14759480c": {
     "views": [
      {
       "cell_index": 3
      }
     ]
    },
    "9d7fbd5418a44746b7cee2c80601b37a": {
     "views": [
      {
       "cell_index": 5
      }
     ]
    },
    "a0d06d23e8c14e35963926c407dbd667": {
     "views": [
      {
       "cell_index": 3
      }
     ]
    },
    "a171d3d5c3db49308ac10b4d8b1b26e6": {
     "views": [
      {
       "cell_index": 3
      }
     ]
    },
    "a666ba28badf46daac674ace077565e5": {
     "views": [
      {
       "cell_index": 3
      }
     ]
    },
    "a88a71c64a09491c9ba8d02e10041b13": {
     "views": [
      {
       "cell_index": 3
      }
     ]
    },
    "ad9491dec5184e48a1169b516fe703d4": {
     "views": [
      {
       "cell_index": 80
      }
     ]
    },
    "b14f1d0f8a8347628d4a26ec887f2534": {
     "views": [
      {
       "cell_index": 3
      }
     ]
    },
    "b8e1475496704438bc1f08f100a52b99": {
     "views": [
      {
       "cell_index": 3
      }
     ]
    },
    "bad8da11f1214c4fa029d2f4422cb691": {
     "views": [
      {
       "cell_index": 3
      }
     ]
    },
    "be0074d03ba745e0bb7f7aa1345c17ba": {
     "views": [
      {
       "cell_index": 49
      }
     ]
    },
    "c1f6af7248d7434592369b76ffe0f63d": {
     "views": [
      {
       "cell_index": 57
      }
     ]
    },
    "c2b75275d3974f809d1f75a7d5a3658b": {
     "views": [
      {
       "cell_index": 3
      }
     ]
    },
    "c323332d80294013959ece97d8fe8716": {
     "views": [
      {
       "cell_index": 47
      }
     ]
    },
    "c989618ece314931999a3f11547606de": {
     "views": [
      {
       "cell_index": 59
      }
     ]
    },
    "d19e98e4ddc2481ab2185b7845895f1a": {
     "views": [
      {
       "cell_index": 3
      }
     ]
    },
    "d233ece9e4eb4505883476b0c1f02be3": {
     "views": [
      {
       "cell_index": 3
      }
     ]
    },
    "d57a23c6345e4410b55cf806e16c892f": {
     "views": [
      {
       "cell_index": 3
      }
     ]
    },
    "d61a014e36b14b52a771fe763c049555": {
     "views": [
      {
       "cell_index": 57
      }
     ]
    },
    "d74799839775403d9d884a627dc400e2": {
     "views": [
      {
       "cell_index": 3
      }
     ]
    },
    "e341c46e82f04901b014c198a08a8717": {
     "views": [
      {
       "cell_index": 3
      }
     ]
    },
    "e854d53a8d1d43228313e9ac60028cac": {
     "views": [
      {
       "cell_index": 3
      }
     ]
    },
    "ea3127ba925843bab6a1366e1e306230": {
     "views": [
      {
       "cell_index": 57
      }
     ]
    },
    "ea9e3fafd54e4f1b88959283179ca59b": {
     "views": [
      {
       "cell_index": 3
      }
     ]
    },
    "eab40000a1734fa5b3d2801017f3275f": {
     "views": [
      {
       "cell_index": 3
      }
     ]
    },
    "eb362910b0874d0d8a2ea8622f6b9cbf": {
     "views": [
      {
       "cell_index": 80
      }
     ]
    },
    "efcc3af214ed4208a0859306a935947d": {
     "views": [
      {
       "cell_index": 3
      }
     ]
    },
    "f19f1f0077ca4f159f706418367e8a32": {
     "views": [
      {
       "cell_index": 25
      }
     ]
    },
    "f2de04e15f0d4c24985ed1e9047cb02c": {
     "views": [
      {
       "cell_index": 78
      }
     ]
    },
    "f542d38497b345ab9f3326d0d90764b4": {
     "views": [
      {
       "cell_index": 3
      }
     ]
    },
    "fad47aa0b45a493cbc32b84f74b982aa": {
     "views": [
      {
       "cell_index": 47
      }
     ]
    },
    "fdd4b4b319b1471e8a5c4fe4e0412647": {
     "views": [
      {
       "cell_index": 3
      }
     ]
    },
    "fe4c4bd4c32544ed890e9c3fdcec2c4f": {
     "views": [
      {
       "cell_index": 3
      }
     ]
    },
    "fecdf562337f4f3c80c94e2c32c2da9b": {
     "views": [
      {
       "cell_index": 47
      }
     ]
    }
   },
   "version": "1.2.0"
  }
 },
 "nbformat": 4,
 "nbformat_minor": 0
}
